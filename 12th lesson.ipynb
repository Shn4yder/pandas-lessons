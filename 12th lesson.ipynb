{
 "cells": [
  {
   "cell_type": "code",
   "execution_count": 1,
   "id": "75880bb4",
   "metadata": {},
   "outputs": [],
   "source": [
    "import pandas as pd\n",
    "import numpy as np"
   ]
  },
  {
   "cell_type": "code",
   "execution_count": 2,
   "id": "cb43cb22",
   "metadata": {},
   "outputs": [],
   "source": [
    "pur_time = pd.Series([36, 44, 73, 32, 44, 29, 63, 60, 55, 74, 61, 26, 76, 40, 39, 28, 69, 61, 54, 58, 47, 41,\n",
    "                      70, 51, 58, 36, 71, 47, 74, 59, 50, 78, 59, 48, 67, 53, 67, 52, 38, 55, 53, 53, 43, 77,\n",
    "                      44, 63, 63, 54])"
   ]
  },
  {
   "cell_type": "markdown",
   "id": "5bf6c55a",
   "metadata": {},
   "source": [
    "#### 1. Вы обновили интерфейс страницы оформления покупки на сайте и хотите понять, насколько сложно пользователям даётся этот процесс. Изучите самую простую метрику — время оформления покупки.\n",
    "За первый день с новым интерфейсом вы получили достаточно измерений, чтобы построить гистограмму.\n",
    "В прекоде набор данных со временем оформления покупки (в секундах). Постройте гистограмму с границами корзин в точках [15, 30, 45, 60, 75, 90]. Задайте непрозрачность, равную 0.7."
   ]
  },
  {
   "cell_type": "code",
   "execution_count": 3,
   "id": "b962523b",
   "metadata": {},
   "outputs": [
    {
     "data": {
      "text/plain": [
       "<AxesSubplot:>"
      ]
     },
     "execution_count": 3,
     "metadata": {},
     "output_type": "execute_result"
    },
    {
     "data": {
      "image/png": "[encoded data removed]",
      "text/plain": [
       "<Figure size 432x288 with 1 Axes>"
      ]
     },
     "metadata": {
      "needs_background": "light"
     },
     "output_type": "display_data"
    }
   ],
   "source": [
    "pur_time.hist(\n",
    "    bins=[15, 30, 45, 60, 75, 90], alpha=0.7\n",
    ") "
   ]
  },
  {
   "cell_type": "markdown",
   "id": "9841ce12",
   "metadata": {},
   "source": [
    "#### 2. Постройте две гистограммы времени оформления покупки со следующими границами интервалов:\n",
    "[15, 35, 55, 75, 90]\n",
    "[15, 45, 55, 90]\n",
    "Для обеих гистограмм задайте прозрачность, равную 0.5."
   ]
  },
  {
   "cell_type": "code",
   "execution_count": 5,
   "id": "4501827c",
   "metadata": {},
   "outputs": [
    {
     "data": {
      "text/plain": [
       "<AxesSubplot:>"
      ]
     },
     "execution_count": 5,
     "metadata": {},
     "output_type": "execute_result"
    },
    {
     "data": {
      "image/png": "[encoded data removed]",
      "text/plain": [
       "<Figure size 432x288 with 1 Axes>"
      ]
     },
     "metadata": {
      "needs_background": "light"
     },
     "output_type": "display_data"
    }
   ],
   "source": [
    "pur_time.hist(\n",
    "    bins=[15, 30, 45, 60, 75, 90], alpha=0.5\n",
    ")\n",
    "\n",
    "pur_time.hist(\n",
    "    bins=[15, 45, 55, 90], alpha=0.5\n",
    ")"
   ]
  },
  {
   "cell_type": "markdown",
   "id": "a950e5ef",
   "metadata": {},
   "source": [
    "#### 3. Найдите среднее в наборе данных и посчитайте среднее расстояние до него от всех значений."
   ]
  },
  {
   "cell_type": "code",
   "execution_count": 10,
   "id": "cd04882f",
   "metadata": {},
   "outputs": [
    {
     "name": "stdout",
     "output_type": "stream",
     "text": [
      "0.0\n"
     ]
    }
   ],
   "source": [
    "data = pd.Series([0, 1, 2, 3, 4, 5, 6, 7, 8, 9, 10])\n",
    "\n",
    "mean_value =  data.mean()\n",
    "spacing_all =  data.mean() - data\n",
    "spacing_all_mean = spacing_all.mean()\n",
    "\n",
    "print(spacing_all_mean)"
   ]
  },
  {
   "cell_type": "markdown",
   "id": "e87f41bd",
   "metadata": {},
   "source": [
    "#### 4. Оцените дисперсию генеральной совокупности data = pd.Series([0, 1, 2, 3, 4, 5, 6, 7, 8, 9, 10])."
   ]
  },
  {
   "cell_type": "code",
   "execution_count": 15,
   "id": "3f2c64a8",
   "metadata": {},
   "outputs": [],
   "source": [
    "data = pd.Series([0, 1, 2, 3, 4, 5, 6, 7, 8, 9, 10])"
   ]
  },
  {
   "cell_type": "code",
   "execution_count": 19,
   "id": "c63602b0",
   "metadata": {},
   "outputs": [
    {
     "name": "stdout",
     "output_type": "stream",
     "text": [
      "10.0\n"
     ]
    }
   ],
   "source": [
    "variance = np.var(data)\n",
    "print(variance)"
   ]
  },
  {
   "cell_type": "markdown",
   "id": "07bb6d16",
   "metadata": {},
   "source": [
    "#### 5. Оцените дисперсию по выборке "
   ]
  },
  {
   "cell_type": "code",
   "execution_count": 20,
   "id": "cca390df",
   "metadata": {},
   "outputs": [
    {
     "name": "stdout",
     "output_type": "stream",
     "text": [
      "11.0\n"
     ]
    }
   ],
   "source": [
    "variance_estimate = np.var(data, ddof=1)\n",
    "print(variance_estimate)"
   ]
  },
  {
   "cell_type": "markdown",
   "id": "4294d90d",
   "metadata": {},
   "source": [
    "#### 6. Оцените стандартное отклонение по выборке. Сохраните результат в переменной standard_dev"
   ]
  },
  {
   "cell_type": "code",
   "execution_count": 23,
   "id": "13e12c39",
   "metadata": {},
   "outputs": [
    {
     "name": "stdout",
     "output_type": "stream",
     "text": [
      "3.3166247903554\n"
     ]
    }
   ],
   "source": [
    "standard_dev = np.std(data, ddof=1)\n",
    "print(standard_dev)"
   ]
  },
  {
   "cell_type": "markdown",
   "id": "a303d85d",
   "metadata": {},
   "source": [
    "#### 7. В среднем пользователи разглядывают всплывающие сообщения на сайте 3 секунды. Дисперсия равна 0,25 секунд в квадрате. По правилу трёх сигм рассчитайте, сколько времени нужно показывать сообщение, чтобы его успело разглядеть 99% пользователей."
   ]
  },
  {
   "cell_type": "code",
   "execution_count": 26,
   "id": "1baca5a2",
   "metadata": {},
   "outputs": [
    {
     "name": "stdout",
     "output_type": "stream",
     "text": [
      " 4.5\n"
     ]
    }
   ],
   "source": [
    "adv_mean = 3\n",
    "adv_var = 0.25\n",
    "adv_std = np.sqrt(adv_var)\n",
    "adv_time = adv_mean + 3 * adv_std\n",
    "\n",
    "print('Время показа сообщения', adv_time)"
   ]
  }
 ],
 "metadata": {
  "kernelspec": {
   "display_name": "Python 3",
   "language": "python",
   "name": "python3"
  },
  "language_info": {
   "codemirror_mode": {
    "name": "ipython",
    "version": 3
   },
   "file_extension": ".py",
   "mimetype": "text/x-python",
   "name": "python",
   "nbconvert_exporter": "python",
   "pygments_lexer": "ipython3",
   "version": "3.8.8"
  }
 },
 "nbformat": 4,
 "nbformat_minor": 5
}
