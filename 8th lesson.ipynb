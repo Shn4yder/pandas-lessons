{
 "cells": [
  {
   "cell_type": "code",
   "execution_count": 2,
   "id": "35809fca",
   "metadata": {},
   "outputs": [],
   "source": [
    "import pandas as pd"
   ]
  },
  {
   "cell_type": "code",
   "execution_count": 13,
   "id": "53655eef",
   "metadata": {},
   "outputs": [
    {
     "data": {
      "text/html": [
       "<div>\n",
       "<style scoped>\n",
       "    .dataframe tbody tr th:only-of-type {\n",
       "        vertical-align: middle;\n",
       "    }\n",
       "\n",
       "    .dataframe tbody tr th {\n",
       "        vertical-align: top;\n",
       "    }\n",
       "\n",
       "    .dataframe thead th {\n",
       "        text-align: right;\n",
       "    }\n",
       "</style>\n",
       "<table border=\"1\" class=\"dataframe\">\n",
       "  <thead>\n",
       "    <tr style=\"text-align: right;\">\n",
       "      <th></th>\n",
       "      <th>date_time</th>\n",
       "      <th>id</th>\n",
       "      <th>time_spent</th>\n",
       "      <th>name</th>\n",
       "    </tr>\n",
       "  </thead>\n",
       "  <tbody>\n",
       "    <tr>\n",
       "      <th>0</th>\n",
       "      <td>20180406T165358</td>\n",
       "      <td>76144fb2</td>\n",
       "      <td>98.0</td>\n",
       "      <td>Василёк</td>\n",
       "    </tr>\n",
       "    <tr>\n",
       "      <th>1</th>\n",
       "      <td>20180404T173913</td>\n",
       "      <td>76144fb2</td>\n",
       "      <td>15.0</td>\n",
       "      <td>Василёк</td>\n",
       "    </tr>\n",
       "    <tr>\n",
       "      <th>2</th>\n",
       "      <td>20180403T172824</td>\n",
       "      <td>76144fb2</td>\n",
       "      <td>220.0</td>\n",
       "      <td>Василёк</td>\n",
       "    </tr>\n",
       "    <tr>\n",
       "      <th>3</th>\n",
       "      <td>20180407T070441</td>\n",
       "      <td>76144fb2</td>\n",
       "      <td>19.0</td>\n",
       "      <td>Василёк</td>\n",
       "    </tr>\n",
       "    <tr>\n",
       "      <th>4</th>\n",
       "      <td>20180404T132049</td>\n",
       "      <td>76144fb2</td>\n",
       "      <td>14.0</td>\n",
       "      <td>Василёк</td>\n",
       "    </tr>\n",
       "    <tr>\n",
       "      <th>...</th>\n",
       "      <td>...</td>\n",
       "      <td>...</td>\n",
       "      <td>...</td>\n",
       "      <td>...</td>\n",
       "    </tr>\n",
       "    <tr>\n",
       "      <th>317099</th>\n",
       "      <td>20180408T053133</td>\n",
       "      <td>9cdb5039</td>\n",
       "      <td>11.0</td>\n",
       "      <td>Гейхера</td>\n",
       "    </tr>\n",
       "    <tr>\n",
       "      <th>317100</th>\n",
       "      <td>20180403T021353</td>\n",
       "      <td>9cdb5039</td>\n",
       "      <td>181.0</td>\n",
       "      <td>Гейхера</td>\n",
       "    </tr>\n",
       "    <tr>\n",
       "      <th>317101</th>\n",
       "      <td>20180408T062636</td>\n",
       "      <td>9cdb5039</td>\n",
       "      <td>252.0</td>\n",
       "      <td>Гейхера</td>\n",
       "    </tr>\n",
       "    <tr>\n",
       "      <th>317102</th>\n",
       "      <td>20180405T232425</td>\n",
       "      <td>9cdb5039</td>\n",
       "      <td>29.0</td>\n",
       "      <td>Гейхера</td>\n",
       "    </tr>\n",
       "    <tr>\n",
       "      <th>317103</th>\n",
       "      <td>20180405T194238</td>\n",
       "      <td>9cdb5039</td>\n",
       "      <td>20.0</td>\n",
       "      <td>Гейхера</td>\n",
       "    </tr>\n",
       "  </tbody>\n",
       "</table>\n",
       "<p>317104 rows × 4 columns</p>\n",
       "</div>"
      ],
      "text/plain": [
       "              date_time        id  time_spent     name\n",
       "0       20180406T165358  76144fb2        98.0  Василёк\n",
       "1       20180404T173913  76144fb2        15.0  Василёк\n",
       "2       20180403T172824  76144fb2       220.0  Василёк\n",
       "3       20180407T070441  76144fb2        19.0  Василёк\n",
       "4       20180404T132049  76144fb2        14.0  Василёк\n",
       "...                 ...       ...         ...      ...\n",
       "317099  20180408T053133  9cdb5039        11.0  Гейхера\n",
       "317100  20180403T021353  9cdb5039       181.0  Гейхера\n",
       "317101  20180408T062636  9cdb5039       252.0  Гейхера\n",
       "317102  20180405T232425  9cdb5039        29.0  Гейхера\n",
       "317103  20180405T194238  9cdb5039        20.0  Гейхера\n",
       "\n",
       "[317104 rows x 4 columns]"
      ]
     },
     "execution_count": 13,
     "metadata": {},
     "output_type": "execute_result"
    }
   ],
   "source": [
    "data = pd.read_csv('data/visits.csv', sep='\\t')\n",
    "data"
   ]
  },
  {
   "cell_type": "markdown",
   "id": "edab7739",
   "metadata": {},
   "source": [
    "#### 1. Сводные таблицы используют на разных этапах работы с данными. Можно начать с оценки данных и посчитать среднее время заправки в секундах. Нужные значения хранит столбец time_spent.С помощью pivot_table() вычислите среднее время, проведённое на заправках в каждой из сетей, и сохраните результат в переменную name_stat.Выведите на экран значение переменной name_stat и проанализируйте полученные данные. Не забудьте, что time_spent хранит значения в секундах."
   ]
  },
  {
   "cell_type": "code",
   "execution_count": 14,
   "id": "52a18d36",
   "metadata": {},
   "outputs": [
    {
     "data": {
      "text/html": [
       "<div>\n",
       "<style scoped>\n",
       "    .dataframe tbody tr th:only-of-type {\n",
       "        vertical-align: middle;\n",
       "    }\n",
       "\n",
       "    .dataframe tbody tr th {\n",
       "        vertical-align: top;\n",
       "    }\n",
       "\n",
       "    .dataframe thead th {\n",
       "        text-align: right;\n",
       "    }\n",
       "</style>\n",
       "<table border=\"1\" class=\"dataframe\">\n",
       "  <thead>\n",
       "    <tr style=\"text-align: right;\">\n",
       "      <th></th>\n",
       "      <th>time_spent</th>\n",
       "    </tr>\n",
       "    <tr>\n",
       "      <th>name</th>\n",
       "      <th></th>\n",
       "    </tr>\n",
       "  </thead>\n",
       "  <tbody>\n",
       "    <tr>\n",
       "      <th>Агератум</th>\n",
       "      <td>337.802721</td>\n",
       "    </tr>\n",
       "    <tr>\n",
       "      <th>Амарант</th>\n",
       "      <td>132.760012</td>\n",
       "    </tr>\n",
       "    <tr>\n",
       "      <th>Аммобиум</th>\n",
       "      <td>256.708042</td>\n",
       "    </tr>\n",
       "    <tr>\n",
       "      <th>Арктотис</th>\n",
       "      <td>73.879984</td>\n",
       "    </tr>\n",
       "    <tr>\n",
       "      <th>Астильба</th>\n",
       "      <td>376.143149</td>\n",
       "    </tr>\n",
       "    <tr>\n",
       "      <th>Бальзамин</th>\n",
       "      <td>134.508411</td>\n",
       "    </tr>\n",
       "    <tr>\n",
       "      <th>Бархатцы</th>\n",
       "      <td>145.300328</td>\n",
       "    </tr>\n",
       "    <tr>\n",
       "      <th>Бегония</th>\n",
       "      <td>163.200647</td>\n",
       "    </tr>\n",
       "    <tr>\n",
       "      <th>Белоцветник</th>\n",
       "      <td>100.818966</td>\n",
       "    </tr>\n",
       "    <tr>\n",
       "      <th>Василёк</th>\n",
       "      <td>268.849897</td>\n",
       "    </tr>\n",
       "    <tr>\n",
       "      <th>Вербена</th>\n",
       "      <td>190.016594</td>\n",
       "    </tr>\n",
       "    <tr>\n",
       "      <th>Вероника</th>\n",
       "      <td>220.019402</td>\n",
       "    </tr>\n",
       "    <tr>\n",
       "      <th>Гацания</th>\n",
       "      <td>160.685185</td>\n",
       "    </tr>\n",
       "    <tr>\n",
       "      <th>Гвоздика</th>\n",
       "      <td>294.317308</td>\n",
       "    </tr>\n",
       "    <tr>\n",
       "      <th>Гейхера</th>\n",
       "      <td>167.445947</td>\n",
       "    </tr>\n",
       "    <tr>\n",
       "      <th>Гелихризум</th>\n",
       "      <td>290.138643</td>\n",
       "    </tr>\n",
       "    <tr>\n",
       "      <th>Георгина</th>\n",
       "      <td>166.615555</td>\n",
       "    </tr>\n",
       "    <tr>\n",
       "      <th>Годеция</th>\n",
       "      <td>113.958333</td>\n",
       "    </tr>\n",
       "    <tr>\n",
       "      <th>Диморфотека</th>\n",
       "      <td>406.161017</td>\n",
       "    </tr>\n",
       "    <tr>\n",
       "      <th>Доротеантус</th>\n",
       "      <td>263.568916</td>\n",
       "    </tr>\n",
       "    <tr>\n",
       "      <th>Ирис</th>\n",
       "      <td>179.931159</td>\n",
       "    </tr>\n",
       "    <tr>\n",
       "      <th>Календула</th>\n",
       "      <td>207.357323</td>\n",
       "    </tr>\n",
       "    <tr>\n",
       "      <th>Колокольчик</th>\n",
       "      <td>119.131564</td>\n",
       "    </tr>\n",
       "    <tr>\n",
       "      <th>Космос</th>\n",
       "      <td>164.867797</td>\n",
       "    </tr>\n",
       "    <tr>\n",
       "      <th>Крокус</th>\n",
       "      <td>349.031746</td>\n",
       "    </tr>\n",
       "    <tr>\n",
       "      <th>Лаватера</th>\n",
       "      <td>249.992844</td>\n",
       "    </tr>\n",
       "    <tr>\n",
       "      <th>Левкой</th>\n",
       "      <td>187.465606</td>\n",
       "    </tr>\n",
       "    <tr>\n",
       "      <th>Лобулярия</th>\n",
       "      <td>96.834350</td>\n",
       "    </tr>\n",
       "    <tr>\n",
       "      <th>Люпин</th>\n",
       "      <td>235.440937</td>\n",
       "    </tr>\n",
       "    <tr>\n",
       "      <th>Малопа</th>\n",
       "      <td>76.070543</td>\n",
       "    </tr>\n",
       "    <tr>\n",
       "      <th>Мальва</th>\n",
       "      <td>136.562234</td>\n",
       "    </tr>\n",
       "    <tr>\n",
       "      <th>Нарцисс</th>\n",
       "      <td>68.166758</td>\n",
       "    </tr>\n",
       "    <tr>\n",
       "      <th>Настурция</th>\n",
       "      <td>154.859694</td>\n",
       "    </tr>\n",
       "    <tr>\n",
       "      <th>Незабудка</th>\n",
       "      <td>120.362398</td>\n",
       "    </tr>\n",
       "    <tr>\n",
       "      <th>Немезия</th>\n",
       "      <td>186.535207</td>\n",
       "    </tr>\n",
       "    <tr>\n",
       "      <th>Обриета</th>\n",
       "      <td>141.777778</td>\n",
       "    </tr>\n",
       "    <tr>\n",
       "      <th>Петуния</th>\n",
       "      <td>265.780822</td>\n",
       "    </tr>\n",
       "    <tr>\n",
       "      <th>Пион</th>\n",
       "      <td>222.565523</td>\n",
       "    </tr>\n",
       "    <tr>\n",
       "      <th>Подснежник</th>\n",
       "      <td>180.286207</td>\n",
       "    </tr>\n",
       "    <tr>\n",
       "      <th>Роза</th>\n",
       "      <td>260.877217</td>\n",
       "    </tr>\n",
       "    <tr>\n",
       "      <th>Ромашка</th>\n",
       "      <td>231.389365</td>\n",
       "    </tr>\n",
       "    <tr>\n",
       "      <th>Тюльпан</th>\n",
       "      <td>187.832210</td>\n",
       "    </tr>\n",
       "    <tr>\n",
       "      <th>Фасоль</th>\n",
       "      <td>133.631957</td>\n",
       "    </tr>\n",
       "    <tr>\n",
       "      <th>Функия</th>\n",
       "      <td>302.494737</td>\n",
       "    </tr>\n",
       "    <tr>\n",
       "      <th>Хризантема</th>\n",
       "      <td>195.738710</td>\n",
       "    </tr>\n",
       "  </tbody>\n",
       "</table>\n",
       "</div>"
      ],
      "text/plain": [
       "             time_spent\n",
       "name                   \n",
       "Агератум     337.802721\n",
       "Амарант      132.760012\n",
       "Аммобиум     256.708042\n",
       "Арктотис      73.879984\n",
       "Астильба     376.143149\n",
       "Бальзамин    134.508411\n",
       "Бархатцы     145.300328\n",
       "Бегония      163.200647\n",
       "Белоцветник  100.818966\n",
       "Василёк      268.849897\n",
       "Вербена      190.016594\n",
       "Вероника     220.019402\n",
       "Гацания      160.685185\n",
       "Гвоздика     294.317308\n",
       "Гейхера      167.445947\n",
       "Гелихризум   290.138643\n",
       "Георгина     166.615555\n",
       "Годеция      113.958333\n",
       "Диморфотека  406.161017\n",
       "Доротеантус  263.568916\n",
       "Ирис         179.931159\n",
       "Календула    207.357323\n",
       "Колокольчик  119.131564\n",
       "Космос       164.867797\n",
       "Крокус       349.031746\n",
       "Лаватера     249.992844\n",
       "Левкой       187.465606\n",
       "Лобулярия     96.834350\n",
       "Люпин        235.440937\n",
       "Малопа        76.070543\n",
       "Мальва       136.562234\n",
       "Нарцисс       68.166758\n",
       "Настурция    154.859694\n",
       "Незабудка    120.362398\n",
       "Немезия      186.535207\n",
       "Обриета      141.777778\n",
       "Петуния      265.780822\n",
       "Пион         222.565523\n",
       "Подснежник   180.286207\n",
       "Роза         260.877217\n",
       "Ромашка      231.389365\n",
       "Тюльпан      187.832210\n",
       "Фасоль       133.631957\n",
       "Функия       302.494737\n",
       "Хризантема   195.738710"
      ]
     },
     "execution_count": 14,
     "metadata": {},
     "output_type": "execute_result"
    }
   ],
   "source": [
    "name_stat = data.pivot_table(index='name', values='time_spent', aggfunc='mean')\n",
    "name_stat"
   ]
  },
  {
   "cell_type": "markdown",
   "id": "ac9d565f",
   "metadata": {},
   "source": [
    "#### 2. Найдите количество заездов на АЗС. Одна строка в датафрейме соответствует одному посещению, значит, нужно посчитать строки.\n",
    "Сохраните количество строк датафрейма в переменную total_visits."
   ]
  },
  {
   "cell_type": "code",
   "execution_count": 16,
   "id": "e223ee4f",
   "metadata": {},
   "outputs": [
    {
     "name": "stdout",
     "output_type": "stream",
     "text": [
      "Кол-во заездов на азс 317104\n"
     ]
    }
   ],
   "source": [
    "total_visits = data.shape[0]\n",
    "print('Кол-во заездов на азс', total_visits)"
   ]
  },
  {
   "cell_type": "markdown",
   "id": "b2800cd8",
   "metadata": {},
   "source": [
    "#### 3. Теперь нужно понять, сколько АЗС в данных. "
   ]
  },
  {
   "cell_type": "code",
   "execution_count": 20,
   "id": "598748a8",
   "metadata": {},
   "outputs": [
    {
     "data": {
      "text/plain": [
       "471"
      ]
     },
     "execution_count": 20,
     "metadata": {},
     "output_type": "execute_result"
    }
   ],
   "source": [
    "total_stations = data['id'].unique().shape[0]\n",
    "total_stations"
   ]
  },
  {
   "cell_type": "markdown",
   "id": "85bcee86",
   "metadata": {},
   "source": [
    "#### 4. Аналитику могут сообщить, за какой срок собрали данные. Эту информацию лучше перепроверить. Понадобится столбец date_time, который хранит время прибытия водителей на АЗС. Выведите минимальное и максимальное значения столбца date_time через пробел, вызвав функцию print() только один раз. Добавлять к выводу дополнительный текст или сохранять значения в переменные не нужно."
   ]
  },
  {
   "cell_type": "code",
   "execution_count": 24,
   "id": "1c53770b",
   "metadata": {},
   "outputs": [
    {
     "name": "stdout",
     "output_type": "stream",
     "text": [
      "20180402T000008 20180408T235957\n"
     ]
    }
   ],
   "source": [
    "print(str(data['date_time'].min()) + ' ' + str(data['date_time'].max()))"
   ]
  },
  {
   "cell_type": "markdown",
   "id": "c7410bd4",
   "metadata": {},
   "source": [
    "#### 5. Записи в столбце date_time хранятся в формате ISO: YYYYMMDDTHHMMSS. T — разделитель между датой и временем. В предыдущей задаче вы обнаружили, что первая дата прибытия на АЗС — 2 апреля 2018 года в 00:00, а последняя — 8 апреля 2018 года в 23:59. Значит, данные покрывают семь дней. Теперь можно найти среднее количество посещений АЗС за день.\n",
    "- Сохраните в переменную total_days количество дней.\n",
    "- В переменную station_visits_per_day запишите среднее количество визитов на АЗС за день. Чтобы посчитать среднее, используйте значения переменных total_visits, total_stations и total_days ."
   ]
  },
  {
   "cell_type": "code",
   "execution_count": 34,
   "id": "4a317b79",
   "metadata": {},
   "outputs": [
    {
     "name": "stdout",
     "output_type": "stream",
     "text": [
      "Количество заездов на АЗС в сутки: 96.17955717318775\n"
     ]
    }
   ],
   "source": [
    "total_days = 7\n",
    "station_visits_per_day = total_visits / total_stations / total_days\n",
    "print('Количество заездов на АЗС в сутки:', station_visits_per_day)"
   ]
  },
  {
   "cell_type": "markdown",
   "id": "76c2183c",
   "metadata": {},
   "source": [
    "#### 6. Вы только что нашли среднее количество заездов за день. Но будьте осторожны со средними значениями. На них влияет даже небольшое количество экстремально малых или больших значений в данных. Поэтому важно смотреть на общее распределение.\n",
    "#### Проверьте распределение числа заездов по сетям АЗС. Можно ожидать, что больше заездов будет на популярных станциях.\n",
    "#### Выведите на экран 10 сетей АЗС с наибольшим количеством заездов, вызвав метод value_counts() для нужного столбца. Метод автоматически отсортирует данные по убыванию количества посещений, поэтому дополнительная сортировка не понадобится.\n",
    "Посчитайте количество уникальных значений в столбце name.\n",
    "Убедитесь, что данные отсортированы в порядке убывания, и выведите первые 10 строк."
   ]
  },
  {
   "cell_type": "code",
   "execution_count": 35,
   "id": "81e7b17b",
   "metadata": {},
   "outputs": [
    {
     "data": {
      "text/plain": [
       "Календула      85648\n",
       "Василёк        79006\n",
       "Георгина       34356\n",
       "Немезия        20138\n",
       "Колокольчик    18835\n",
       "Мальва         17386\n",
       "Гейхера        14125\n",
       "Доротеантус     6312\n",
       "Нарцисс         3640\n",
       "Амарант         3221\n",
       "Name: name, dtype: int64"
      ]
     },
     "execution_count": 35,
     "metadata": {},
     "output_type": "execute_result"
    }
   ],
   "source": [
    "data['name'].value_counts().head(10)"
   ]
  },
  {
   "cell_type": "markdown",
   "id": "e8942788",
   "metadata": {},
   "source": [
    "#### 7. Медианные и средние значения недостаточно характеризуют данные. Настало время посмотреть на распределение значений. Постройте гистограмму по значениям времени, проведённого на АЗС."
   ]
  },
  {
   "cell_type": "code",
   "execution_count": 44,
   "id": "81a7c462",
   "metadata": {},
   "outputs": [
    {
     "data": {
      "text/plain": [
       "<AxesSubplot:>"
      ]
     },
     "execution_count": 44,
     "metadata": {},
     "output_type": "execute_result"
    },
    {
     "data": {
      "image/png": "[encoded data removed]",
      "text/plain": [
       "<Figure size 432x288 with 1 Axes>"
      ]
     },
     "metadata": {
      "needs_background": "light"
     },
     "output_type": "display_data"
    }
   ],
   "source": [
    "data['time_spent'].hist(bins=100, range=(0, 1500))"
   ]
  },
  {
   "cell_type": "markdown",
   "id": "b068d8d2",
   "metadata": {},
   "source": [
    "#### 8. Нарисуйте диаграмму размаха для data, ограничив диапазон по вертикали значениями -100 и 1000."
   ]
  },
  {
   "cell_type": "code",
   "execution_count": 46,
   "id": "84ae7cc3",
   "metadata": {},
   "outputs": [],
   "source": [
    "import matplotlib.pyplot as plt"
   ]
  },
  {
   "cell_type": "code",
   "execution_count": 50,
   "id": "4cb2b34e",
   "metadata": {},
   "outputs": [
    {
     "data": {
      "text/plain": [
       "<AxesSubplot:>"
      ]
     },
     "execution_count": 50,
     "metadata": {},
     "output_type": "execute_result"
    },
    {
     "data": {
      "image/png": "[encoded data removed]",
      "text/plain": [
       "<Figure size 432x288 with 1 Axes>"
      ]
     },
     "metadata": {
      "needs_background": "light"
     },
     "output_type": "display_data"
    }
   ],
   "source": [
    "plt.ylim(-100, 1000)\n",
    "data.boxplot(column='time_spent')"
   ]
  }
 ],
 "metadata": {
  "kernelspec": {
   "display_name": "Python 3",
   "language": "python",
   "name": "python3"
  },
  "language_info": {
   "codemirror_mode": {
    "name": "ipython",
    "version": 3
   },
   "file_extension": ".py",
   "mimetype": "text/x-python",
   "name": "python",
   "nbconvert_exporter": "python",
   "pygments_lexer": "ipython3",
   "version": "3.8.8"
  }
 },
 "nbformat": 4,
 "nbformat_minor": 5
}
