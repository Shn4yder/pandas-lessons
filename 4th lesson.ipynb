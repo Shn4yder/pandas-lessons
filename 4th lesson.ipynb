{
 "cells": [
  {
   "cell_type": "code",
   "execution_count": 6,
   "id": "f691edd1",
   "metadata": {},
   "outputs": [],
   "source": [
    "email_visits = 1000 # количество визитов из рассылок\n",
    "context_visits = 2500 # количество визитов из контекстной рекламы\n",
    "email_purchases = 50 # количество покупок из рассылок\n",
    "context_purchases = 100 # количество покупок из контекстной рекламы"
   ]
  },
  {
   "cell_type": "markdown",
   "id": "082a0e4b",
   "metadata": {},
   "source": [
    "#### 1.Рассчитайте конверсию визитов в покупки из рассылок и контекстной рекламы, сохраните значения в переменных email_conversion и context_conversion соответственно."
   ]
  },
  {
   "cell_type": "code",
   "execution_count": 15,
   "id": "80918105",
   "metadata": {},
   "outputs": [
    {
     "name": "stdout",
     "output_type": "stream",
     "text": [
      "Конверсия рассылок 5.0 %\n",
      "Конверсия контекстной рекламы 4.0 %\n"
     ]
    }
   ],
   "source": [
    "email_conversation = email_purchases / email_visits * 100\n",
    "context_conversation = context_purchases / context_visits * 100\n",
    "\n",
    "print('Конверсия рассылок {} %'.format(email_conversation)) \n",
    "print('Конверсия контекстной рекламы {} %'.format(context_conversation)) "
   ]
  },
  {
   "cell_type": "markdown",
   "id": "70e14087",
   "metadata": {},
   "source": [
    "#### 2. Продолжим автоматизировать труд маркетологов: научим Python сравнивать источники трафика и выбирать лучший. Если конверсия рассылок email_conversion больше конверсии контекстной рекламы context_conversion, выведите на экран: 'Вывод: рассылки эффективнее'. Если наоборот, то: 'Вывод: контекстная реклама эффективнее'"
   ]
  },
  {
   "cell_type": "code",
   "execution_count": 16,
   "id": "a1541260",
   "metadata": {},
   "outputs": [
    {
     "name": "stdout",
     "output_type": "stream",
     "text": [
      "Вывод: рассылки эффективнее\n"
     ]
    }
   ],
   "source": [
    "if email_conversation > context_conversation:\n",
    "    print('Вывод: рассылки эффективнее')\n",
    "elif email_conversation < context_conversation:\n",
    "    print('Вывод: контекстная реклама эффективнее')\n",
    "else:\n",
    "    print('Конверсии равны, пора смотреть другие метрики')"
   ]
  },
  {
   "cell_type": "markdown",
   "id": "b997ffa9",
   "metadata": {},
   "source": [
    "#### 3. Вы уже умеете находить конверсию. Рассчитайте другую важную для бизнеса метрику — долю повторных покупателей. В переменной total посчитайте общее количество покупателей: сложите число пользователей, совершивших одну покупку, с числом тех, кто совершил две и более."
   ]
  },
  {
   "cell_type": "code",
   "execution_count": 17,
   "id": "3c1d4c88",
   "metadata": {},
   "outputs": [],
   "source": [
    "first_purchase = 885 # количество пользователей, совершивших 1 покупку\n",
    "repeated_purchase = 136 # количество пользователей, совершивших 2 и более покупок"
   ]
  },
  {
   "cell_type": "code",
   "execution_count": 20,
   "id": "a5fe8ecc",
   "metadata": {},
   "outputs": [
    {
     "name": "stdout",
     "output_type": "stream",
     "text": [
      "Общее кол-во покупателей: 1021\n"
     ]
    }
   ],
   "source": [
    "total = first_purchase + repeated_purchase\n",
    "print('Общее кол-во покупателей:', total)"
   ]
  },
  {
   "cell_type": "markdown",
   "id": "2de6ca7f",
   "metadata": {},
   "source": [
    "#### 4. Посчитайте долю повторных покупок как отношение repeated_purchase к total. Ответ положите в переменную repeated_purchase_part.Результат выведите на экран так: 'Доля повторных покупок равна ...%'. Процент отобразите в виде целого числа — с точностью ноль знаков после запятой."
   ]
  },
  {
   "cell_type": "code",
   "execution_count": 25,
   "id": "322ebdad",
   "metadata": {},
   "outputs": [
    {
     "name": "stdout",
     "output_type": "stream",
     "text": [
      "Доля повторных покупок равна 13 %\n"
     ]
    }
   ],
   "source": [
    "repeated_purchase_part = repeated_purchase / total * 100\n",
    "print('Доля повторных покупок равна {:.0f} %'.format(repeated_purchase_part)) "
   ]
  },
  {
   "cell_type": "markdown",
   "id": "b55ea783",
   "metadata": {},
   "source": [
    "#### 5. Вам прислали таблицу со статистикой первичных и повторных покупок по источникам трафика. Прочитайте содержимое файла returned.csv и сохраните его в датафрейме purchases. Посчитайте общее число покупок для каждого источника трафика. Результат запишите в столбец 'total'. Выведите весь датафрейм на экран."
   ]
  },
  {
   "cell_type": "code",
   "execution_count": 26,
   "id": "ea4b5a8f",
   "metadata": {},
   "outputs": [],
   "source": [
    "import pandas as pd"
   ]
  },
  {
   "cell_type": "code",
   "execution_count": 29,
   "id": "c3436fe9",
   "metadata": {},
   "outputs": [
    {
     "data": {
      "text/html": [
       "<div>\n",
       "<style scoped>\n",
       "    .dataframe tbody tr th:only-of-type {\n",
       "        vertical-align: middle;\n",
       "    }\n",
       "\n",
       "    .dataframe tbody tr th {\n",
       "        vertical-align: top;\n",
       "    }\n",
       "\n",
       "    .dataframe thead th {\n",
       "        text-align: right;\n",
       "    }\n",
       "</style>\n",
       "<table border=\"1\" class=\"dataframe\">\n",
       "  <thead>\n",
       "    <tr style=\"text-align: right;\">\n",
       "      <th></th>\n",
       "      <th>source</th>\n",
       "      <th>first</th>\n",
       "      <th>repeated</th>\n",
       "    </tr>\n",
       "  </thead>\n",
       "  <tbody>\n",
       "    <tr>\n",
       "      <th>0</th>\n",
       "      <td>context</td>\n",
       "      <td>2933</td>\n",
       "      <td>96</td>\n",
       "    </tr>\n",
       "    <tr>\n",
       "      <th>1</th>\n",
       "      <td>email</td>\n",
       "      <td>885</td>\n",
       "      <td>136</td>\n",
       "    </tr>\n",
       "    <tr>\n",
       "      <th>2</th>\n",
       "      <td>smm</td>\n",
       "      <td>1653</td>\n",
       "      <td>139</td>\n",
       "    </tr>\n",
       "  </tbody>\n",
       "</table>\n",
       "</div>"
      ],
      "text/plain": [
       "    source  first  repeated\n",
       "0  context   2933        96\n",
       "1    email    885       136\n",
       "2      smm   1653       139"
      ]
     },
     "execution_count": 29,
     "metadata": {},
     "output_type": "execute_result"
    }
   ],
   "source": [
    "purchases = pd.read_csv('data/returned.csv')\n",
    "purchases"
   ]
  },
  {
   "cell_type": "code",
   "execution_count": 30,
   "id": "91f8784c",
   "metadata": {},
   "outputs": [
    {
     "data": {
      "text/html": [
       "<div>\n",
       "<style scoped>\n",
       "    .dataframe tbody tr th:only-of-type {\n",
       "        vertical-align: middle;\n",
       "    }\n",
       "\n",
       "    .dataframe tbody tr th {\n",
       "        vertical-align: top;\n",
       "    }\n",
       "\n",
       "    .dataframe thead th {\n",
       "        text-align: right;\n",
       "    }\n",
       "</style>\n",
       "<table border=\"1\" class=\"dataframe\">\n",
       "  <thead>\n",
       "    <tr style=\"text-align: right;\">\n",
       "      <th></th>\n",
       "      <th>source</th>\n",
       "      <th>first</th>\n",
       "      <th>repeated</th>\n",
       "      <th>total</th>\n",
       "    </tr>\n",
       "  </thead>\n",
       "  <tbody>\n",
       "    <tr>\n",
       "      <th>0</th>\n",
       "      <td>context</td>\n",
       "      <td>2933</td>\n",
       "      <td>96</td>\n",
       "      <td>3029</td>\n",
       "    </tr>\n",
       "    <tr>\n",
       "      <th>1</th>\n",
       "      <td>email</td>\n",
       "      <td>885</td>\n",
       "      <td>136</td>\n",
       "      <td>1021</td>\n",
       "    </tr>\n",
       "    <tr>\n",
       "      <th>2</th>\n",
       "      <td>smm</td>\n",
       "      <td>1653</td>\n",
       "      <td>139</td>\n",
       "      <td>1792</td>\n",
       "    </tr>\n",
       "  </tbody>\n",
       "</table>\n",
       "</div>"
      ],
      "text/plain": [
       "    source  first  repeated  total\n",
       "0  context   2933        96   3029\n",
       "1    email    885       136   1021\n",
       "2      smm   1653       139   1792"
      ]
     },
     "execution_count": 30,
     "metadata": {},
     "output_type": "execute_result"
    }
   ],
   "source": [
    "purchases['total'] = purchases['first'] + purchases['repeated']\n",
    "purchases"
   ]
  },
  {
   "cell_type": "markdown",
   "id": "44608b60",
   "metadata": {},
   "source": [
    "#### 6. Для каждого источника трафика посчитайте долю повторных покупок — отношение количества повторных ко всем покупкам. Выведите весь датафрейм на экран."
   ]
  },
  {
   "cell_type": "code",
   "execution_count": 32,
   "id": "a15d10ba",
   "metadata": {},
   "outputs": [
    {
     "data": {
      "text/html": [
       "<div>\n",
       "<style scoped>\n",
       "    .dataframe tbody tr th:only-of-type {\n",
       "        vertical-align: middle;\n",
       "    }\n",
       "\n",
       "    .dataframe tbody tr th {\n",
       "        vertical-align: top;\n",
       "    }\n",
       "\n",
       "    .dataframe thead th {\n",
       "        text-align: right;\n",
       "    }\n",
       "</style>\n",
       "<table border=\"1\" class=\"dataframe\">\n",
       "  <thead>\n",
       "    <tr style=\"text-align: right;\">\n",
       "      <th></th>\n",
       "      <th>source</th>\n",
       "      <th>first</th>\n",
       "      <th>repeated</th>\n",
       "      <th>total</th>\n",
       "      <th>repeated_share</th>\n",
       "    </tr>\n",
       "  </thead>\n",
       "  <tbody>\n",
       "    <tr>\n",
       "      <th>0</th>\n",
       "      <td>context</td>\n",
       "      <td>2933</td>\n",
       "      <td>96</td>\n",
       "      <td>3029</td>\n",
       "      <td>0.031694</td>\n",
       "    </tr>\n",
       "    <tr>\n",
       "      <th>1</th>\n",
       "      <td>email</td>\n",
       "      <td>885</td>\n",
       "      <td>136</td>\n",
       "      <td>1021</td>\n",
       "      <td>0.133203</td>\n",
       "    </tr>\n",
       "    <tr>\n",
       "      <th>2</th>\n",
       "      <td>smm</td>\n",
       "      <td>1653</td>\n",
       "      <td>139</td>\n",
       "      <td>1792</td>\n",
       "      <td>0.077567</td>\n",
       "    </tr>\n",
       "  </tbody>\n",
       "</table>\n",
       "</div>"
      ],
      "text/plain": [
       "    source  first  repeated  total  repeated_share\n",
       "0  context   2933        96   3029        0.031694\n",
       "1    email    885       136   1021        0.133203\n",
       "2      smm   1653       139   1792        0.077567"
      ]
     },
     "execution_count": 32,
     "metadata": {},
     "output_type": "execute_result"
    }
   ],
   "source": [
    "purchases['repeated_share'] = purchases['repeated'] / purchases['total'] \n",
    "purchases"
   ]
  },
  {
   "cell_type": "markdown",
   "id": "74b2be42",
   "metadata": {},
   "source": [
    "#### 7. Постройте рейтинг источников трафика по доле повторных покупок. Отсортируйте датафрейм purchases по убыванию значений столбца 'repeated_share'. Выражение напишите в скобках функции print(), чтобы вывести результат на экран."
   ]
  },
  {
   "cell_type": "code",
   "execution_count": 34,
   "id": "8c57b465",
   "metadata": {
    "scrolled": true
   },
   "outputs": [
    {
     "name": "stdout",
     "output_type": "stream",
     "text": [
      "    source  first  repeated  total  repeated_share\n",
      "1    email    885       136   1021        0.133203\n",
      "2      smm   1653       139   1792        0.077567\n",
      "0  context   2933        96   3029        0.031694\n"
     ]
    }
   ],
   "source": [
    "print(purchases.sort_values('repeated_share', ascending=False))"
   ]
  },
  {
   "cell_type": "code",
   "execution_count": null,
   "id": "3a4e1b65",
   "metadata": {},
   "outputs": [],
   "source": []
  },
  {
   "cell_type": "code",
   "execution_count": 37,
   "id": "fd3e2316",
   "metadata": {},
   "outputs": [
    {
     "data": {
      "text/html": [
       "<div>\n",
       "<style scoped>\n",
       "    .dataframe tbody tr th:only-of-type {\n",
       "        vertical-align: middle;\n",
       "    }\n",
       "\n",
       "    .dataframe tbody tr th {\n",
       "        vertical-align: top;\n",
       "    }\n",
       "\n",
       "    .dataframe thead th {\n",
       "        text-align: right;\n",
       "    }\n",
       "</style>\n",
       "<table border=\"1\" class=\"dataframe\">\n",
       "  <thead>\n",
       "    <tr style=\"text-align: right;\">\n",
       "      <th></th>\n",
       "      <th>user_id</th>\n",
       "      <th>source</th>\n",
       "      <th>email</th>\n",
       "      <th>purchase</th>\n",
       "    </tr>\n",
       "  </thead>\n",
       "  <tbody>\n",
       "    <tr>\n",
       "      <th>0</th>\n",
       "      <td>7141786820</td>\n",
       "      <td>other</td>\n",
       "      <td>NaN</td>\n",
       "      <td>0</td>\n",
       "    </tr>\n",
       "    <tr>\n",
       "      <th>1</th>\n",
       "      <td>5644686960</td>\n",
       "      <td>email</td>\n",
       "      <td>c129aa540a</td>\n",
       "      <td>0</td>\n",
       "    </tr>\n",
       "    <tr>\n",
       "      <th>2</th>\n",
       "      <td>1914055396</td>\n",
       "      <td>context</td>\n",
       "      <td>NaN</td>\n",
       "      <td>0</td>\n",
       "    </tr>\n",
       "    <tr>\n",
       "      <th>3</th>\n",
       "      <td>4099355752</td>\n",
       "      <td>other</td>\n",
       "      <td>NaN</td>\n",
       "      <td>0</td>\n",
       "    </tr>\n",
       "    <tr>\n",
       "      <th>4</th>\n",
       "      <td>6032477554</td>\n",
       "      <td>context</td>\n",
       "      <td>NaN</td>\n",
       "      <td>1</td>\n",
       "    </tr>\n",
       "    <tr>\n",
       "      <th>...</th>\n",
       "      <td>...</td>\n",
       "      <td>...</td>\n",
       "      <td>...</td>\n",
       "      <td>...</td>\n",
       "    </tr>\n",
       "    <tr>\n",
       "      <th>199995</th>\n",
       "      <td>8714621942</td>\n",
       "      <td>other</td>\n",
       "      <td>NaN</td>\n",
       "      <td>0</td>\n",
       "    </tr>\n",
       "    <tr>\n",
       "      <th>199996</th>\n",
       "      <td>6064948744</td>\n",
       "      <td>context</td>\n",
       "      <td>NaN</td>\n",
       "      <td>1</td>\n",
       "    </tr>\n",
       "    <tr>\n",
       "      <th>199997</th>\n",
       "      <td>9210683879</td>\n",
       "      <td>context</td>\n",
       "      <td>NaN</td>\n",
       "      <td>0</td>\n",
       "    </tr>\n",
       "    <tr>\n",
       "      <th>199998</th>\n",
       "      <td>1629959686</td>\n",
       "      <td>other</td>\n",
       "      <td>NaN</td>\n",
       "      <td>1</td>\n",
       "    </tr>\n",
       "    <tr>\n",
       "      <th>199999</th>\n",
       "      <td>2089329795</td>\n",
       "      <td>other</td>\n",
       "      <td>NaN</td>\n",
       "      <td>0</td>\n",
       "    </tr>\n",
       "  </tbody>\n",
       "</table>\n",
       "<p>200000 rows × 4 columns</p>\n",
       "</div>"
      ],
      "text/plain": [
       "           user_id   source       email  purchase\n",
       "0       7141786820    other         NaN         0\n",
       "1       5644686960    email  c129aa540a         0\n",
       "2       1914055396  context         NaN         0\n",
       "3       4099355752    other         NaN         0\n",
       "4       6032477554  context         NaN         1\n",
       "...            ...      ...         ...       ...\n",
       "199995  8714621942    other         NaN         0\n",
       "199996  6064948744  context         NaN         1\n",
       "199997  9210683879  context         NaN         0\n",
       "199998  1629959686    other         NaN         1\n",
       "199999  2089329795    other         NaN         0\n",
       "\n",
       "[200000 rows x 4 columns]"
      ]
     },
     "execution_count": 37,
     "metadata": {},
     "output_type": "execute_result"
    }
   ],
   "source": [
    "logs = pd.read_csv('data/logs.csv')\n",
    "logs"
   ]
  },
  {
   "cell_type": "code",
   "execution_count": 38,
   "id": "887fd58b",
   "metadata": {},
   "outputs": [
    {
     "name": "stdout",
     "output_type": "stream",
     "text": [
      "<class 'pandas.core.frame.DataFrame'>\n",
      "RangeIndex: 200000 entries, 0 to 199999\n",
      "Data columns (total 4 columns):\n",
      " #   Column    Non-Null Count   Dtype \n",
      "---  ------    --------------   ----- \n",
      " 0   user_id   200000 non-null  int64 \n",
      " 1   source    200000 non-null  object\n",
      " 2   email     13953 non-null   object\n",
      " 3   purchase  200000 non-null  int64 \n",
      "dtypes: int64(2), object(2)\n",
      "memory usage: 6.1+ MB\n"
     ]
    }
   ],
   "source": [
    "logs.info()"
   ]
  },
  {
   "cell_type": "markdown",
   "id": "7ee307d0",
   "metadata": {},
   "source": [
    "#### 8. Посчитайте количество уникальных email и уникальных User ID в таблице logs."
   ]
  },
  {
   "cell_type": "code",
   "execution_count": 58,
   "id": "0d361039",
   "metadata": {},
   "outputs": [
    {
     "name": "stdout",
     "output_type": "stream",
     "text": [
      "Кол-во уникальных email 6062\n",
      "Кол-во уникальных user_id 86571\n"
     ]
    }
   ],
   "source": [
    "print('Кол-во уникальных email',len(logs['email'].unique()) - 1)  # -1 т.к NaN тоже берется как уникальное значение\n",
    "print('Кол-во уникальных user_id',len(logs['user_id'].unique())) "
   ]
  },
  {
   "cell_type": "markdown",
   "id": "7cbd7a5c",
   "metadata": {},
   "source": [
    "#### 9. Методом unique() определите, какие уникальные источники трафика есть в таблице. Результат выведите на экран."
   ]
  },
  {
   "cell_type": "code",
   "execution_count": 59,
   "id": "202f0625",
   "metadata": {},
   "outputs": [
    {
     "data": {
      "text/plain": [
       "array(['other', 'email', 'context', 'None', 'undef'], dtype=object)"
      ]
     },
     "execution_count": 59,
     "metadata": {},
     "output_type": "execute_result"
    }
   ],
   "source": [
    "logs['source'].unique()"
   ]
  },
  {
   "cell_type": "code",
   "execution_count": null,
   "id": "51209e95",
   "metadata": {},
   "outputs": [],
   "source": []
  },
  {
   "cell_type": "code",
   "execution_count": 61,
   "id": "8f350cad",
   "metadata": {},
   "outputs": [
    {
     "data": {
      "text/html": [
       "<div>\n",
       "<style scoped>\n",
       "    .dataframe tbody tr th:only-of-type {\n",
       "        vertical-align: middle;\n",
       "    }\n",
       "\n",
       "    .dataframe tbody tr th {\n",
       "        vertical-align: top;\n",
       "    }\n",
       "\n",
       "    .dataframe thead th {\n",
       "        text-align: right;\n",
       "    }\n",
       "</style>\n",
       "<table border=\"1\" class=\"dataframe\">\n",
       "  <thead>\n",
       "    <tr style=\"text-align: right;\">\n",
       "      <th></th>\n",
       "      <th>faculty_name</th>\n",
       "      <th>student_name</th>\n",
       "      <th>points</th>\n",
       "    </tr>\n",
       "  </thead>\n",
       "  <tbody>\n",
       "    <tr>\n",
       "      <th>0</th>\n",
       "      <td>Гриффиндор</td>\n",
       "      <td>Гарри Поттер</td>\n",
       "      <td>15</td>\n",
       "    </tr>\n",
       "    <tr>\n",
       "      <th>1</th>\n",
       "      <td>Слизерин</td>\n",
       "      <td>Драко Малфой</td>\n",
       "      <td>28</td>\n",
       "    </tr>\n",
       "    <tr>\n",
       "      <th>2</th>\n",
       "      <td>Когтевран</td>\n",
       "      <td>Полумна Лавгуд</td>\n",
       "      <td>10</td>\n",
       "    </tr>\n",
       "    <tr>\n",
       "      <th>3</th>\n",
       "      <td>NaN</td>\n",
       "      <td>Рон Уизли</td>\n",
       "      <td>5</td>\n",
       "    </tr>\n",
       "    <tr>\n",
       "      <th>4</th>\n",
       "      <td>Пуффендуй</td>\n",
       "      <td>Седрик Диггори</td>\n",
       "      <td>17</td>\n",
       "    </tr>\n",
       "    <tr>\n",
       "      <th>5</th>\n",
       "      <td>Гриффиндор</td>\n",
       "      <td>Невилл Долгопупс</td>\n",
       "      <td>12</td>\n",
       "    </tr>\n",
       "  </tbody>\n",
       "</table>\n",
       "</div>"
      ],
      "text/plain": [
       "  faculty_name      student_name  points\n",
       "0   Гриффиндор      Гарри Поттер      15\n",
       "1     Слизерин      Драко Малфой      28\n",
       "2    Когтевран    Полумна Лавгуд      10\n",
       "3          NaN         Рон Уизли       5\n",
       "4    Пуффендуй    Седрик Диггори      17\n",
       "5   Гриффиндор  Невилл Долгопупс      12"
      ]
     },
     "execution_count": 61,
     "metadata": {},
     "output_type": "execute_result"
    }
   ],
   "source": [
    "hogwarts_points = pd.read_csv('data/hogwarts_points.csv')\n",
    "hogwarts_points"
   ]
  },
  {
   "cell_type": "markdown",
   "id": "1050f228",
   "metadata": {},
   "source": [
    "#### 10. Прежде чем заполнять пропуски, их нужно найти. Напечатайте на экране строки таблицы, у которых есть пропуски в столбце 'faculty_name'."
   ]
  },
  {
   "cell_type": "code",
   "execution_count": 64,
   "id": "c5de3996",
   "metadata": {},
   "outputs": [
    {
     "data": {
      "text/html": [
       "<div>\n",
       "<style scoped>\n",
       "    .dataframe tbody tr th:only-of-type {\n",
       "        vertical-align: middle;\n",
       "    }\n",
       "\n",
       "    .dataframe tbody tr th {\n",
       "        vertical-align: top;\n",
       "    }\n",
       "\n",
       "    .dataframe thead th {\n",
       "        text-align: right;\n",
       "    }\n",
       "</style>\n",
       "<table border=\"1\" class=\"dataframe\">\n",
       "  <thead>\n",
       "    <tr style=\"text-align: right;\">\n",
       "      <th></th>\n",
       "      <th>faculty_name</th>\n",
       "      <th>student_name</th>\n",
       "      <th>points</th>\n",
       "    </tr>\n",
       "  </thead>\n",
       "  <tbody>\n",
       "    <tr>\n",
       "      <th>3</th>\n",
       "      <td>NaN</td>\n",
       "      <td>Рон Уизли</td>\n",
       "      <td>5</td>\n",
       "    </tr>\n",
       "  </tbody>\n",
       "</table>\n",
       "</div>"
      ],
      "text/plain": [
       "  faculty_name student_name  points\n",
       "3          NaN    Рон Уизли       5"
      ]
     },
     "execution_count": 64,
     "metadata": {},
     "output_type": "execute_result"
    }
   ],
   "source": [
    "hogwarts_points[hogwarts_points['faculty_name'].isna()]"
   ]
  },
  {
   "cell_type": "markdown",
   "id": "42aa21b5",
   "metadata": {},
   "source": [
    "#### 11. Восстановите справедливость: верните Рону его факультет, заменив значение NaN на 'Гриффиндор' методом fillna()."
   ]
  },
  {
   "cell_type": "code",
   "execution_count": 65,
   "id": "a5658e1e",
   "metadata": {},
   "outputs": [
    {
     "data": {
      "text/html": [
       "<div>\n",
       "<style scoped>\n",
       "    .dataframe tbody tr th:only-of-type {\n",
       "        vertical-align: middle;\n",
       "    }\n",
       "\n",
       "    .dataframe tbody tr th {\n",
       "        vertical-align: top;\n",
       "    }\n",
       "\n",
       "    .dataframe thead th {\n",
       "        text-align: right;\n",
       "    }\n",
       "</style>\n",
       "<table border=\"1\" class=\"dataframe\">\n",
       "  <thead>\n",
       "    <tr style=\"text-align: right;\">\n",
       "      <th></th>\n",
       "      <th>faculty_name</th>\n",
       "      <th>student_name</th>\n",
       "      <th>points</th>\n",
       "    </tr>\n",
       "  </thead>\n",
       "  <tbody>\n",
       "    <tr>\n",
       "      <th>0</th>\n",
       "      <td>Гриффиндор</td>\n",
       "      <td>Гарри Поттер</td>\n",
       "      <td>15</td>\n",
       "    </tr>\n",
       "    <tr>\n",
       "      <th>1</th>\n",
       "      <td>Слизерин</td>\n",
       "      <td>Драко Малфой</td>\n",
       "      <td>28</td>\n",
       "    </tr>\n",
       "    <tr>\n",
       "      <th>2</th>\n",
       "      <td>Когтевран</td>\n",
       "      <td>Полумна Лавгуд</td>\n",
       "      <td>10</td>\n",
       "    </tr>\n",
       "    <tr>\n",
       "      <th>3</th>\n",
       "      <td>Гриффиндор</td>\n",
       "      <td>Рон Уизли</td>\n",
       "      <td>5</td>\n",
       "    </tr>\n",
       "    <tr>\n",
       "      <th>4</th>\n",
       "      <td>Пуффендуй</td>\n",
       "      <td>Седрик Диггори</td>\n",
       "      <td>17</td>\n",
       "    </tr>\n",
       "    <tr>\n",
       "      <th>5</th>\n",
       "      <td>Гриффиндор</td>\n",
       "      <td>Невилл Долгопупс</td>\n",
       "      <td>12</td>\n",
       "    </tr>\n",
       "  </tbody>\n",
       "</table>\n",
       "</div>"
      ],
      "text/plain": [
       "  faculty_name      student_name  points\n",
       "0   Гриффиндор      Гарри Поттер      15\n",
       "1     Слизерин      Драко Малфой      28\n",
       "2    Когтевран    Полумна Лавгуд      10\n",
       "3   Гриффиндор         Рон Уизли       5\n",
       "4    Пуффендуй    Седрик Диггори      17\n",
       "5   Гриффиндор  Невилл Долгопупс      12"
      ]
     },
     "execution_count": 65,
     "metadata": {},
     "output_type": "execute_result"
    }
   ],
   "source": [
    "hogwarts_points['faculty_name'] = hogwarts_points['faculty_name'].fillna(value='Гриффиндор')\n",
    "hogwarts_points"
   ]
  },
  {
   "cell_type": "markdown",
   "id": "38eec3c2",
   "metadata": {},
   "source": [
    "#### 12. Найдите суммарные баллы каждого из факультетов и сохраните результат в переменной faculty_points. Потом используя эту переменную найдите факультет-победитель и сохраните результат в переменной winner. В конце выведите значения обеих переменных на экран (уже в прекоде)."
   ]
  },
  {
   "cell_type": "code",
   "execution_count": 96,
   "id": "10a1d9ba",
   "metadata": {},
   "outputs": [
    {
     "name": "stdout",
     "output_type": "stream",
     "text": [
      "Победитель Гриффиндор\n"
     ]
    }
   ],
   "source": [
    "faculty_points = hogwarts_points.groupby('faculty_name')[['points']].sum()\n",
    "faculty_points = faculty_points.sort_values(by='points', ascending=False).reset_index(drop=False)\n",
    "winner = faculty_points.loc[0, 'faculty_name']\n",
    "\n",
    "print('Победитель', winner)"
   ]
  },
  {
   "cell_type": "markdown",
   "id": "4bf35951",
   "metadata": {},
   "source": [
    "#### 13. Возьмём источники трафика Яндекс.Маркета и рассчитаем конверсию.Найдите количество визитов из каждого источника трафика. Для этого сгруппируйте данные из столбца с идентификаторами пользователей по столбцу с источниками. Результат сохраните в переменной visits и выведите на экран."
   ]
  },
  {
   "cell_type": "code",
   "execution_count": 97,
   "id": "33657cc6",
   "metadata": {},
   "outputs": [
    {
     "data": {
      "text/html": [
       "<div>\n",
       "<style scoped>\n",
       "    .dataframe tbody tr th:only-of-type {\n",
       "        vertical-align: middle;\n",
       "    }\n",
       "\n",
       "    .dataframe tbody tr th {\n",
       "        vertical-align: top;\n",
       "    }\n",
       "\n",
       "    .dataframe thead th {\n",
       "        text-align: right;\n",
       "    }\n",
       "</style>\n",
       "<table border=\"1\" class=\"dataframe\">\n",
       "  <thead>\n",
       "    <tr style=\"text-align: right;\">\n",
       "      <th></th>\n",
       "      <th>user_id</th>\n",
       "      <th>source</th>\n",
       "      <th>email</th>\n",
       "      <th>purchase</th>\n",
       "    </tr>\n",
       "  </thead>\n",
       "  <tbody>\n",
       "    <tr>\n",
       "      <th>0</th>\n",
       "      <td>7141786820</td>\n",
       "      <td>other</td>\n",
       "      <td>NaN</td>\n",
       "      <td>0</td>\n",
       "    </tr>\n",
       "    <tr>\n",
       "      <th>1</th>\n",
       "      <td>5644686960</td>\n",
       "      <td>email</td>\n",
       "      <td>c129aa540a</td>\n",
       "      <td>0</td>\n",
       "    </tr>\n",
       "    <tr>\n",
       "      <th>2</th>\n",
       "      <td>1914055396</td>\n",
       "      <td>context</td>\n",
       "      <td>NaN</td>\n",
       "      <td>0</td>\n",
       "    </tr>\n",
       "    <tr>\n",
       "      <th>3</th>\n",
       "      <td>4099355752</td>\n",
       "      <td>other</td>\n",
       "      <td>NaN</td>\n",
       "      <td>0</td>\n",
       "    </tr>\n",
       "    <tr>\n",
       "      <th>4</th>\n",
       "      <td>6032477554</td>\n",
       "      <td>context</td>\n",
       "      <td>NaN</td>\n",
       "      <td>1</td>\n",
       "    </tr>\n",
       "  </tbody>\n",
       "</table>\n",
       "</div>"
      ],
      "text/plain": [
       "      user_id   source       email  purchase\n",
       "0  7141786820    other         NaN         0\n",
       "1  5644686960    email  c129aa540a         0\n",
       "2  1914055396  context         NaN         0\n",
       "3  4099355752    other         NaN         0\n",
       "4  6032477554  context         NaN         1"
      ]
     },
     "execution_count": 97,
     "metadata": {},
     "output_type": "execute_result"
    }
   ],
   "source": [
    "logs.head()"
   ]
  },
  {
   "cell_type": "code",
   "execution_count": 113,
   "id": "96686bcb",
   "metadata": {
    "scrolled": true
   },
   "outputs": [
    {
     "data": {
      "text/html": [
       "<div>\n",
       "<style scoped>\n",
       "    .dataframe tbody tr th:only-of-type {\n",
       "        vertical-align: middle;\n",
       "    }\n",
       "\n",
       "    .dataframe tbody tr th {\n",
       "        vertical-align: top;\n",
       "    }\n",
       "\n",
       "    .dataframe thead th {\n",
       "        text-align: right;\n",
       "    }\n",
       "</style>\n",
       "<table border=\"1\" class=\"dataframe\">\n",
       "  <thead>\n",
       "    <tr style=\"text-align: right;\">\n",
       "      <th></th>\n",
       "      <th>source</th>\n",
       "      <th>user_id</th>\n",
       "    </tr>\n",
       "  </thead>\n",
       "  <tbody>\n",
       "    <tr>\n",
       "      <th>0</th>\n",
       "      <td>None</td>\n",
       "      <td>1674</td>\n",
       "    </tr>\n",
       "    <tr>\n",
       "      <th>1</th>\n",
       "      <td>context</td>\n",
       "      <td>52032</td>\n",
       "    </tr>\n",
       "    <tr>\n",
       "      <th>2</th>\n",
       "      <td>email</td>\n",
       "      <td>12279</td>\n",
       "    </tr>\n",
       "    <tr>\n",
       "      <th>3</th>\n",
       "      <td>other</td>\n",
       "      <td>133834</td>\n",
       "    </tr>\n",
       "    <tr>\n",
       "      <th>4</th>\n",
       "      <td>undef</td>\n",
       "      <td>181</td>\n",
       "    </tr>\n",
       "  </tbody>\n",
       "</table>\n",
       "</div>"
      ],
      "text/plain": [
       "    source  user_id\n",
       "0     None     1674\n",
       "1  context    52032\n",
       "2    email    12279\n",
       "3    other   133834\n",
       "4    undef      181"
      ]
     },
     "execution_count": 113,
     "metadata": {},
     "output_type": "execute_result"
    }
   ],
   "source": [
    "visits = logs.groupby('source')[['user_id']].count().reset_index(drop=False)\n",
    "visits"
   ]
  },
  {
   "cell_type": "markdown",
   "id": "63fb8b0b",
   "metadata": {},
   "source": [
    "#### 14. Посчитайте количество совершённых покупок для каждого источника трафика. Результат сохраните в переменной purchase и выведите на экран."
   ]
  },
  {
   "cell_type": "code",
   "execution_count": 121,
   "id": "b4ddb63a",
   "metadata": {},
   "outputs": [
    {
     "data": {
      "text/html": [
       "<div>\n",
       "<style scoped>\n",
       "    .dataframe tbody tr th:only-of-type {\n",
       "        vertical-align: middle;\n",
       "    }\n",
       "\n",
       "    .dataframe tbody tr th {\n",
       "        vertical-align: top;\n",
       "    }\n",
       "\n",
       "    .dataframe thead th {\n",
       "        text-align: right;\n",
       "    }\n",
       "</style>\n",
       "<table border=\"1\" class=\"dataframe\">\n",
       "  <thead>\n",
       "    <tr style=\"text-align: right;\">\n",
       "      <th></th>\n",
       "      <th>source</th>\n",
       "      <th>purchase</th>\n",
       "    </tr>\n",
       "  </thead>\n",
       "  <tbody>\n",
       "    <tr>\n",
       "      <th>0</th>\n",
       "      <td>None</td>\n",
       "      <td>108</td>\n",
       "    </tr>\n",
       "    <tr>\n",
       "      <th>1</th>\n",
       "      <td>context</td>\n",
       "      <td>3029</td>\n",
       "    </tr>\n",
       "    <tr>\n",
       "      <th>2</th>\n",
       "      <td>email</td>\n",
       "      <td>913</td>\n",
       "    </tr>\n",
       "    <tr>\n",
       "      <th>3</th>\n",
       "      <td>other</td>\n",
       "      <td>8041</td>\n",
       "    </tr>\n",
       "    <tr>\n",
       "      <th>4</th>\n",
       "      <td>undef</td>\n",
       "      <td>12</td>\n",
       "    </tr>\n",
       "  </tbody>\n",
       "</table>\n",
       "</div>"
      ],
      "text/plain": [
       "    source  purchase\n",
       "0     None       108\n",
       "1  context      3029\n",
       "2    email       913\n",
       "3    other      8041\n",
       "4    undef        12"
      ]
     },
     "execution_count": 121,
     "metadata": {},
     "output_type": "execute_result"
    }
   ],
   "source": [
    "purchase = logs.groupby('source')[['purchase']].sum().reset_index(drop=False)\n",
    "purchase"
   ]
  },
  {
   "cell_type": "markdown",
   "id": "56591d44",
   "metadata": {},
   "source": [
    "#### 15. Посчитайте конверсию по каждому источнику трафика, результат сохраните в переменной conversion и выведите на экран."
   ]
  },
  {
   "cell_type": "code",
   "execution_count": 117,
   "id": "4ea8875a",
   "metadata": {},
   "outputs": [
    {
     "data": {
      "text/plain": [
       "0    6.451613\n",
       "1    5.821418\n",
       "2    7.435459\n",
       "3    6.008189\n",
       "4    6.629834\n",
       "dtype: float64"
      ]
     },
     "execution_count": 117,
     "metadata": {},
     "output_type": "execute_result"
    }
   ],
   "source": [
    "conversion = purchase['purchase'] / visits['user_id'] * 100\n",
    "conversion"
   ]
  },
  {
   "cell_type": "markdown",
   "id": "7a524c64",
   "metadata": {},
   "source": [
    "#### 15. В столбце email встречаются значения NaN — вместо электронных почт пользователей, не подписавшихся на рассылку магазина. Их электронный адрес вы вряд ли узнаете, и не сможете заполнить пропуски вручную. Да и самих NaN слишком много для ручной замены.Тем не менее избавиться от значений NaN можно, если заменить их единым значением. Например, пустой строкой. Так изучать таблицу будет проще: не нужно будет различать NaN и email-адрес.Замените пропуски пустыми строками, используя знакомый метод fillna(). После этого преобразования выведите на экран первые 5 строк датафрейма."
   ]
  },
  {
   "cell_type": "code",
   "execution_count": 122,
   "id": "bba38409",
   "metadata": {},
   "outputs": [
    {
     "data": {
      "text/html": [
       "<div>\n",
       "<style scoped>\n",
       "    .dataframe tbody tr th:only-of-type {\n",
       "        vertical-align: middle;\n",
       "    }\n",
       "\n",
       "    .dataframe tbody tr th {\n",
       "        vertical-align: top;\n",
       "    }\n",
       "\n",
       "    .dataframe thead th {\n",
       "        text-align: right;\n",
       "    }\n",
       "</style>\n",
       "<table border=\"1\" class=\"dataframe\">\n",
       "  <thead>\n",
       "    <tr style=\"text-align: right;\">\n",
       "      <th></th>\n",
       "      <th>user_id</th>\n",
       "      <th>source</th>\n",
       "      <th>email</th>\n",
       "      <th>purchase</th>\n",
       "    </tr>\n",
       "  </thead>\n",
       "  <tbody>\n",
       "    <tr>\n",
       "      <th>0</th>\n",
       "      <td>7141786820</td>\n",
       "      <td>other</td>\n",
       "      <td></td>\n",
       "      <td>0</td>\n",
       "    </tr>\n",
       "    <tr>\n",
       "      <th>1</th>\n",
       "      <td>5644686960</td>\n",
       "      <td>email</td>\n",
       "      <td>c129aa540a</td>\n",
       "      <td>0</td>\n",
       "    </tr>\n",
       "    <tr>\n",
       "      <th>2</th>\n",
       "      <td>1914055396</td>\n",
       "      <td>context</td>\n",
       "      <td></td>\n",
       "      <td>0</td>\n",
       "    </tr>\n",
       "    <tr>\n",
       "      <th>3</th>\n",
       "      <td>4099355752</td>\n",
       "      <td>other</td>\n",
       "      <td></td>\n",
       "      <td>0</td>\n",
       "    </tr>\n",
       "    <tr>\n",
       "      <th>4</th>\n",
       "      <td>6032477554</td>\n",
       "      <td>context</td>\n",
       "      <td></td>\n",
       "      <td>1</td>\n",
       "    </tr>\n",
       "  </tbody>\n",
       "</table>\n",
       "</div>"
      ],
      "text/plain": [
       "      user_id   source       email  purchase\n",
       "0  7141786820    other                     0\n",
       "1  5644686960    email  c129aa540a         0\n",
       "2  1914055396  context                     0\n",
       "3  4099355752    other                     0\n",
       "4  6032477554  context                     1"
      ]
     },
     "execution_count": 122,
     "metadata": {},
     "output_type": "execute_result"
    }
   ],
   "source": [
    "logs['email'] = logs['email'].fillna('')\n",
    "logs.head()"
   ]
  },
  {
   "cell_type": "markdown",
   "id": "d2920759",
   "metadata": {},
   "source": [
    "#### 16. Пропуски в столбце source записаны в строковом формате — 'None' вместо None. Выясните, случайно ли их возникновение: проверьте, имеет ли каждая строка с источником 'None' определённый email.Для этого примените к датафрейму logs два фильтра: Источник source равен 'None'; начение столбца email равно пустой строке ''.Выведите датафрейм с применёнными фильтрами. "
   ]
  },
  {
   "cell_type": "code",
   "execution_count": 124,
   "id": "3890fdea",
   "metadata": {},
   "outputs": [
    {
     "data": {
      "text/html": [
       "<div>\n",
       "<style scoped>\n",
       "    .dataframe tbody tr th:only-of-type {\n",
       "        vertical-align: middle;\n",
       "    }\n",
       "\n",
       "    .dataframe tbody tr th {\n",
       "        vertical-align: top;\n",
       "    }\n",
       "\n",
       "    .dataframe thead th {\n",
       "        text-align: right;\n",
       "    }\n",
       "</style>\n",
       "<table border=\"1\" class=\"dataframe\">\n",
       "  <thead>\n",
       "    <tr style=\"text-align: right;\">\n",
       "      <th></th>\n",
       "      <th>user_id</th>\n",
       "      <th>source</th>\n",
       "      <th>email</th>\n",
       "      <th>purchase</th>\n",
       "    </tr>\n",
       "  </thead>\n",
       "  <tbody>\n",
       "  </tbody>\n",
       "</table>\n",
       "</div>"
      ],
      "text/plain": [
       "Empty DataFrame\n",
       "Columns: [user_id, source, email, purchase]\n",
       "Index: []"
      ]
     },
     "execution_count": 124,
     "metadata": {},
     "output_type": "execute_result"
    }
   ],
   "source": [
    "logs[(logs['email'] == '') & (logs['source'] == 'None')]"
   ]
  },
  {
   "cell_type": "markdown",
   "id": "84d57594",
   "metadata": {},
   "source": [
    "Датафрейм пуст, значит пользователи оставляютсвой email в случае подписки на рассылку. Так, можно заменить все вхождения None в столбце source на email"
   ]
  },
  {
   "cell_type": "code",
   "execution_count": 125,
   "id": "a1a22a4e",
   "metadata": {},
   "outputs": [
    {
     "data": {
      "text/plain": [
       "other      133834\n",
       "context     52032\n",
       "email       13953\n",
       "undef         181\n",
       "Name: source, dtype: int64"
      ]
     },
     "execution_count": 125,
     "metadata": {},
     "output_type": "execute_result"
    }
   ],
   "source": [
    "logs['source'] = logs['source'].replace('None', 'email')\n",
    "logs['source'].value_counts()"
   ]
  },
  {
   "cell_type": "markdown",
   "id": "b9f507cd",
   "metadata": {},
   "source": [
    "#### 17.Посчитайте количество визитов и покупок по источнику трафика ('source'). Вызовите метод agg.Сохраните результат в переменной logs_grouped и выведите на экран."
   ]
  },
  {
   "cell_type": "code",
   "execution_count": 137,
   "id": "0d4dd1cb",
   "metadata": {},
   "outputs": [
    {
     "data": {
      "text/html": [
       "<div>\n",
       "<style scoped>\n",
       "    .dataframe tbody tr th:only-of-type {\n",
       "        vertical-align: middle;\n",
       "    }\n",
       "\n",
       "    .dataframe tbody tr th {\n",
       "        vertical-align: top;\n",
       "    }\n",
       "\n",
       "    .dataframe thead th {\n",
       "        text-align: right;\n",
       "    }\n",
       "</style>\n",
       "<table border=\"1\" class=\"dataframe\">\n",
       "  <thead>\n",
       "    <tr style=\"text-align: right;\">\n",
       "      <th></th>\n",
       "      <th>user_id</th>\n",
       "      <th>purchase</th>\n",
       "    </tr>\n",
       "    <tr>\n",
       "      <th>source</th>\n",
       "      <th></th>\n",
       "      <th></th>\n",
       "    </tr>\n",
       "  </thead>\n",
       "  <tbody>\n",
       "    <tr>\n",
       "      <th>context</th>\n",
       "      <td>52032</td>\n",
       "      <td>3029</td>\n",
       "    </tr>\n",
       "    <tr>\n",
       "      <th>email</th>\n",
       "      <td>13953</td>\n",
       "      <td>1021</td>\n",
       "    </tr>\n",
       "    <tr>\n",
       "      <th>other</th>\n",
       "      <td>133834</td>\n",
       "      <td>8041</td>\n",
       "    </tr>\n",
       "    <tr>\n",
       "      <th>undef</th>\n",
       "      <td>181</td>\n",
       "      <td>12</td>\n",
       "    </tr>\n",
       "  </tbody>\n",
       "</table>\n",
       "</div>"
      ],
      "text/plain": [
       "         user_id  purchase\n",
       "source                    \n",
       "context    52032      3029\n",
       "email      13953      1021\n",
       "other     133834      8041\n",
       "undef        181        12"
      ]
     },
     "execution_count": 137,
     "metadata": {},
     "output_type": "execute_result"
    }
   ],
   "source": [
    "logs_grouped = logs.groupby('source').agg({\n",
    "    'user_id' : 'count',\n",
    "    'purchase' : 'sum'\n",
    "})\n",
    "logs_grouped"
   ]
  },
  {
   "cell_type": "markdown",
   "id": "b3b2e8a2",
   "metadata": {},
   "source": [
    "#### 18. Посчитайте конверсию визитов в покупки для каждого источника трафика (т. е. отношение столбца sum к count).Сохраните результат в новый столбец logs_grouped['conversion'] и выведите обновлённую таблицу на экран."
   ]
  },
  {
   "cell_type": "code",
   "execution_count": 140,
   "id": "cafb7484",
   "metadata": {},
   "outputs": [
    {
     "data": {
      "text/html": [
       "<div>\n",
       "<style scoped>\n",
       "    .dataframe tbody tr th:only-of-type {\n",
       "        vertical-align: middle;\n",
       "    }\n",
       "\n",
       "    .dataframe tbody tr th {\n",
       "        vertical-align: top;\n",
       "    }\n",
       "\n",
       "    .dataframe thead th {\n",
       "        text-align: right;\n",
       "    }\n",
       "</style>\n",
       "<table border=\"1\" class=\"dataframe\">\n",
       "  <thead>\n",
       "    <tr style=\"text-align: right;\">\n",
       "      <th></th>\n",
       "      <th>user_id</th>\n",
       "      <th>purchase</th>\n",
       "      <th>conversion</th>\n",
       "    </tr>\n",
       "    <tr>\n",
       "      <th>source</th>\n",
       "      <th></th>\n",
       "      <th></th>\n",
       "      <th></th>\n",
       "    </tr>\n",
       "  </thead>\n",
       "  <tbody>\n",
       "    <tr>\n",
       "      <th>context</th>\n",
       "      <td>52032</td>\n",
       "      <td>3029</td>\n",
       "      <td>5.821418</td>\n",
       "    </tr>\n",
       "    <tr>\n",
       "      <th>email</th>\n",
       "      <td>13953</td>\n",
       "      <td>1021</td>\n",
       "      <td>7.317423</td>\n",
       "    </tr>\n",
       "    <tr>\n",
       "      <th>other</th>\n",
       "      <td>133834</td>\n",
       "      <td>8041</td>\n",
       "      <td>6.008189</td>\n",
       "    </tr>\n",
       "    <tr>\n",
       "      <th>undef</th>\n",
       "      <td>181</td>\n",
       "      <td>12</td>\n",
       "      <td>6.629834</td>\n",
       "    </tr>\n",
       "  </tbody>\n",
       "</table>\n",
       "</div>"
      ],
      "text/plain": [
       "         user_id  purchase  conversion\n",
       "source                                \n",
       "context    52032      3029    5.821418\n",
       "email      13953      1021    7.317423\n",
       "other     133834      8041    6.008189\n",
       "undef        181        12    6.629834"
      ]
     },
     "execution_count": 140,
     "metadata": {},
     "output_type": "execute_result"
    }
   ],
   "source": [
    "logs_grouped['conversion'] = logs_grouped['purchase'] / logs_grouped['user_id'] * 100\n",
    "logs_grouped"
   ]
  },
  {
   "cell_type": "markdown",
   "id": "50fb4193",
   "metadata": {},
   "source": [
    "#### 19. "
   ]
  }
 ],
 "metadata": {
  "kernelspec": {
   "display_name": "Python 3",
   "language": "python",
   "name": "python3"
  },
  "language_info": {
   "codemirror_mode": {
    "name": "ipython",
    "version": 3
   },
   "file_extension": ".py",
   "mimetype": "text/x-python",
   "name": "python",
   "nbconvert_exporter": "python",
   "pygments_lexer": "ipython3",
   "version": "3.8.8"
  }
 },
 "nbformat": 4,
 "nbformat_minor": 5
}
