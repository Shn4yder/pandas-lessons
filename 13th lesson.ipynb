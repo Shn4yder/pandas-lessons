{
 "cells": [
  {
   "cell_type": "markdown",
   "id": "cc2cadc6",
   "metadata": {},
   "source": [
    "#### 1. Яндекс отслеживает количество удачных постов определённого блога для Дзена. Абсолютно удачным постом считается такой, у которого число репостов сравнимо с числом лайков. Этот успех считаем за 100%.\n",
    "\n",
    "Сгенерируйте 20, 400, 10000 случайных целых чисел из отрезка [1, 100]. Это соотношение репостов к лайкам в популяции блогеров в целом. Если для избранного блогера соотношение всегда выше, он причисляется к хорошим.\n",
    "Для каждого набора чисел вычислите вероятность события «Сгенерированное число лежит в отрезке [21, 40]» (самая типичная доля репостов). Сохраните её в переменных p_20, p_400 и p_10000 соответственно.\n",
    "Для вычисления вероятности напишите функцию calculate_p которая принимает в качестве параметра количество случайных чисел из отрезка [1, 100], а на выходе передаёт долю тех чисел, которые находятся в отрезке от 21 до 40 включительно."
   ]
  },
  {
   "cell_type": "code",
   "execution_count": 1,
   "id": "4a2cde5a",
   "metadata": {},
   "outputs": [],
   "source": [
    "from random import randint"
   ]
  },
  {
   "cell_type": "code",
   "execution_count": 2,
   "id": "3fb6090a",
   "metadata": {},
   "outputs": [],
   "source": [
    "def calculate_p(n):\n",
    "    rep_num = [randint(1, 101) for x in range(1, n + 1)] \n",
    "    good_rep = [x for x in rep_num if x >= 21 and x <= 40]\n",
    "    probability = len(good_rep) / len(rep_num)\n",
    "    return probability"
   ]
  },
  {
   "cell_type": "code",
   "execution_count": 3,
   "id": "6ef600ff",
   "metadata": {},
   "outputs": [
    {
     "name": "stdout",
     "output_type": "stream",
     "text": [
      "0.25 0.19 0.1955\n"
     ]
    }
   ],
   "source": [
    "p_20 = calculate_p(20)\n",
    "p_400 = calculate_p(400)\n",
    "p_10000 = calculate_p(10000)\n",
    "\n",
    "print(p_20, p_400, p_10000)"
   ]
  },
  {
   "cell_type": "markdown",
   "id": "ed3b3601",
   "metadata": {},
   "source": [
    "#### 2. Ваша компания устраивает важное мероприятие. Пиарщики ищут хотя бы шесть инфопартнёров, чтобы обеспечить освещение этого события. По опыту, соглашается примерно одно из пяти медиа, с которыми начинаются переговоры. Постройте распределения вероятностей и гистограммы для случайной величины «количество инфопартнёров», если вы начали переговоры с 30 медиа."
   ]
  },
  {
   "cell_type": "code",
   "execution_count": 5,
   "id": "9fc7e155",
   "metadata": {},
   "outputs": [],
   "source": [
    "from math import factorial\n",
    "from matplotlib import pyplot as plt"
   ]
  },
  {
   "cell_type": "code",
   "execution_count": 7,
   "id": "f2793cb8",
   "metadata": {},
   "outputs": [
    {
     "data": {
      "text/plain": [
       "<BarContainer object of 31 artists>"
      ]
     },
     "execution_count": 7,
     "metadata": {},
     "output_type": "execute_result"
    },
    {
     "data": {
      "image/png": "[encoded data removed]",
      "text/plain": [
       "<Figure size 432x288 with 1 Axes>"
      ]
     },
     "metadata": {
      "needs_background": "light"
     },
     "output_type": "display_data"
    }
   ],
   "source": [
    "p = 0.2  # какова вероятность заключить контракт?\n",
    "n = 30  # со сколькими компаниями начинаем переговоры?\n",
    "\n",
    "distr = [] # переменную, в которой будете хранить значения распределения\n",
    "\n",
    "for k in range(0, n + 1):\n",
    "    choose = factorial(n) / (factorial(k) * factorial(n - k))\n",
    "    prob = choose * p ** k * (1 - p) ** (n - k)\n",
    "    distr.append(prob)\n",
    "    \n",
    "plt.bar(range(0, n + 1), distr)"
   ]
  },
  {
   "cell_type": "markdown",
   "id": "3c2199a5",
   "metadata": {},
   "source": [
    "#### 3. Постройте распределения вероятностей и гистограммы для случайной величины «количество инфопартнёров», если вы начали переговоры с 60 медиа."
   ]
  },
  {
   "cell_type": "code",
   "execution_count": 8,
   "id": "e8829048",
   "metadata": {},
   "outputs": [
    {
     "data": {
      "text/plain": [
       "<BarContainer object of 61 artists>"
      ]
     },
     "execution_count": 8,
     "metadata": {},
     "output_type": "execute_result"
    },
    {
     "data": {
      "image/png": "[encoded data removed]",
      "text/plain": [
       "<Figure size 432x288 with 1 Axes>"
      ]
     },
     "metadata": {
      "needs_background": "light"
     },
     "output_type": "display_data"
    }
   ],
   "source": [
    "p = 0.2  # какова вероятность заключить контракт?\n",
    "n = 60  # со сколькими компаниями начинаем переговоры?\n",
    "\n",
    "distr = [] # переменную, в которой будете хранить значения распределения\n",
    "\n",
    "for k in range(0, n + 1):\n",
    "    choose = factorial(n) / (factorial(k) * factorial(n - k))\n",
    "    prob = choose * p ** k * (1 - p) ** (n - k)\n",
    "    distr.append(prob)\n",
    "    \n",
    "plt.bar(range(0, n + 1), distr)"
   ]
  },
  {
   "cell_type": "markdown",
   "id": "78e204de",
   "metadata": {},
   "source": [
    "#### 4. Количество посетителей сайта интернет-издания «Кукуруза» за месяц распределено нормально со средним, равным 100500 человек, и стандартным отклонением в 3500 человек.Рекламодатель, заказавший рекламу, настоял на штрафе, если материал посмотрит меньше 92000 посетителей. Его желание понятно: никто не хочет переплачивать, если охват будет не такой большой, как хотелось. В ответ менеджер сайта предложил включить в договор бонус, если материал посмотрит более 111000 человек.Предположим, что дополнительных действий по привлечению трафика запланировано не было. Найдите вероятность того, что сайт интернет-издания за следующую неделю посетит: а) менее 92000 человек; б) более 111000 человек."
   ]
  },
  {
   "cell_type": "code",
   "execution_count": 9,
   "id": "6fdcb5a1",
   "metadata": {},
   "outputs": [],
   "source": [
    "from scipy import stats as st"
   ]
  },
  {
   "cell_type": "code",
   "execution_count": 10,
   "id": "db6844c7",
   "metadata": {},
   "outputs": [],
   "source": [
    "mu = 100500\n",
    "sigma = 3500\n",
    "\n",
    "bonus_threshold = 111000\n",
    "fail_threshold = 92000"
   ]
  },
  {
   "cell_type": "code",
   "execution_count": 15,
   "id": "df802223",
   "metadata": {},
   "outputs": [
    {
     "name": "stdout",
     "output_type": "stream",
     "text": [
      "Вероятность бонуса 0.0013498980316301035\n",
      "Вероятность штрафа 0.0075792194387197245\n"
     ]
    }
   ],
   "source": [
    "distr = st.norm(mu, sigma)  #задаем нормальное распределние\n",
    "\n",
    "p_fail = distr.cdf(fail_threshold)\n",
    "p_bonus = 1 - distr.cdf(bonus_threshold)  #Метод st.norm.cdf() выдаёт вероятность получить значение, которое <= заданному.\n",
    "\n",
    "print('Вероятность бонуса', p_bonus)\n",
    "print('Вероятность штрафа', p_fail)"
   ]
  },
  {
   "cell_type": "markdown",
   "id": "5d27993e",
   "metadata": {},
   "source": [
    "#### 5. Интернет-магазин «Супервип» продаёт сувенирную продукцию для узкой аудитории корпоративных клиентов. Продажи премиальных шахмат из хрусталя за неделю распределены нормально со средним значением 420 и стандартным отклонением 65.\n",
    "Сколько отделу закупок нужно заказать хрустальных шахмат, чтобы продать их все на следующей неделе с вероятностью 90%? Склад перед поставкой на следующую неделю будет уже пуст."
   ]
  },
  {
   "cell_type": "code",
   "execution_count": 19,
   "id": "01ec9564",
   "metadata": {},
   "outputs": [
    {
     "name": "stdout",
     "output_type": "stream",
     "text": [
      "нужно заказать 336.69914823960096\n"
     ]
    }
   ],
   "source": [
    "mu = 420\n",
    "sigma = 65\n",
    "\n",
    "distr = st.norm(mu, sigma)\n",
    "\n",
    "prob = 1 - 0.9\n",
    "\n",
    "chess_count = distr.ppf(prob)\n",
    "print('нужно заказать', chess_count)"
   ]
  },
  {
   "cell_type": "markdown",
   "id": "1fb76145",
   "metadata": {},
   "source": [
    "#### 6. В интернет-магазине «Вазон» пользователи делают заказы, стоимости которых распределены нормально со средним 2400 руб. и стандартным отклонением 320 руб.\n",
    "Бóльшая часть покупателей выбирает доставку курьером, на которую нужно установить фиксированную цену независимо от суммы заказа.\n",
    "Если верить исследованию, пользователи расстраиваются, когда стоимость доставки больше или равна половине стоимости заказа. Сколько должна стоить курьерская доставка, чтобы для ³⁄₄ заказов она не превышала половины цены?"
   ]
  },
  {
   "cell_type": "code",
   "execution_count": 20,
   "id": "1accad40",
   "metadata": {},
   "outputs": [
    {
     "name": "stdout",
     "output_type": "stream",
     "text": [
      "1092.0816399686269\n"
     ]
    }
   ],
   "source": [
    "mu = 2400\n",
    "sigma = 320\n",
    "\n",
    "distr = st.norm(mu, sigma)\n",
    "\n",
    "threshold = 0.25\n",
    "\n",
    "max = distr.ppf(threshold) / 2\n",
    "print(max)"
   ]
  },
  {
   "cell_type": "markdown",
   "id": "32d985ed",
   "metadata": {},
   "source": [
    "#### 7. Компания делает ежемесячную рассылку по базе клиентов — в ней новости и предложения от партнёров. Известно, что рассылку открывают 40% получателей.\n",
    "Один партнёр спланировал рекламную кампанию и рассчитывает на охват в 9 тысяч пользователей. Посчитайте, с какой вероятностью ожидания клиента будут оправданы, если сделать рассылку на 23 тысячи человек. Выведите значение p_threshold на экран."
   ]
  },
  {
   "cell_type": "code",
   "execution_count": 24,
   "id": "a754fa61",
   "metadata": {},
   "outputs": [
    {
     "name": "stdout",
     "output_type": "stream",
     "text": [
      "0.9964477890716447\n"
     ]
    }
   ],
   "source": [
    "binom_n = 23000 #  целевое количество человек в рассылке\n",
    "binom_p = 0.4 # сколько пользователей открывают рассылку?\n",
    "\n",
    "threshold = 9000   # на какой охват сейчас рассчитывают?\n",
    "\n",
    "mu = binom_n * binom_p  # чему равно среднее значение распределения\n",
    "sigma = (binom_n * binom_p * (1 - binom_p)) ** 0.5 # чему равно стандартное отклонение распределения\n",
    "\n",
    "p_threshold = 1 - st.norm(mu, sigma).cdf(threshold)\n",
    "print(p_threshold)"
   ]
  }
 ],
 "metadata": {
  "kernelspec": {
   "display_name": "Python 3",
   "language": "python",
   "name": "python3"
  },
  "language_info": {
   "codemirror_mode": {
    "name": "ipython",
    "version": 3
   },
   "file_extension": ".py",
   "mimetype": "text/x-python",
   "name": "python",
   "nbconvert_exporter": "python",
   "pygments_lexer": "ipython3",
   "version": "3.8.8"
  }
 },
 "nbformat": 4,
 "nbformat_minor": 5
}
