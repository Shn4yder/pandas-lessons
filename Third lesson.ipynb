{
 "cells": [
  {
   "cell_type": "code",
   "execution_count": 2,
   "id": "68029129",
   "metadata": {},
   "outputs": [],
   "source": [
    "import pandas as pd"
   ]
  },
  {
   "cell_type": "code",
   "execution_count": 3,
   "id": "226fe36c",
   "metadata": {},
   "outputs": [],
   "source": [
    "df = pd.read_csv('data/music_log_upd.csv')"
   ]
  },
  {
   "cell_type": "markdown",
   "id": "8e337470",
   "metadata": {},
   "source": [
    "#### 1. Сгруппируйте данные по user_id, а колонку genre_name выберите как показатель для сравнения. Результат сохраните в переменной genre_grouping.Затем посчитайте количество жанров, которые слушал каждый пользователь, — методом count(). Результат сохраните в переменной genre_counting.Выведите на экран первые 30 строк из genre_counting."
   ]
  },
  {
   "cell_type": "code",
   "execution_count": 4,
   "id": "a4c893ef",
   "metadata": {},
   "outputs": [
    {
     "name": "stdout",
     "output_type": "stream",
     "text": [
      "user_id\n",
      "100080DD    4\n",
      "100351E3    1\n",
      "1006CA56    1\n",
      "1006FCEA    1\n",
      "100CE9      4\n",
      "100DB5AA    1\n",
      "100EF65A    1\n",
      "10129A7A    3\n",
      "10189D10    1\n",
      "10190C72    1\n",
      "101AE353    1\n",
      "101BBC61    2\n",
      "101CE4E2    3\n",
      "101CF71A    1\n",
      "101FCD47    2\n",
      "10207505    1\n",
      "10207CE1    5\n",
      "10207E1F    1\n",
      "1022648D    1\n",
      "10270767    1\n",
      "1027DE43    4\n",
      "10292580    2\n",
      "10299B4F    1\n",
      "102A0499    1\n",
      "102A782D    2\n",
      "102AA0E9    2\n",
      "102ABCC4    1\n",
      "102AFB4F    1\n",
      "102B3B4C    1\n",
      "102F799B    1\n",
      "Name: genre_name, dtype: int64\n"
     ]
    }
   ],
   "source": [
    "genre_counting = df.groupby('user_id')['genre_name'].count()\n",
    "print(genre_counting.head(30))"
   ]
  },
  {
   "cell_type": "markdown",
   "id": "343daeaf",
   "metadata": {},
   "source": [
    "#### 2. Предположим, что более широкие вкусы характерны для пользователей, которые слушают больше 50 песен. Чтобы найти такого пользователя, напишите функцию user_genres.\n",
    "Эта функция:\n",
    "- Принимает группировку, сгруппированные данные, как значение для параметра group.\n",
    "- Перебирает группы, входящие в эту группировку. В каждой группе два элемента — имя группы с индексом 0 и список значений с индексом 1.\n",
    "- Обнаружив первую группу, в которой список (элемент с индексом 1) содержит более 50 значений, функция вернёт имя группы (элемент с индексом 0)."
   ]
  },
  {
   "cell_type": "code",
   "execution_count": 6,
   "id": "b23d973d",
   "metadata": {},
   "outputs": [
    {
     "name": "stdout",
     "output_type": "stream",
     "text": [
      "174C0ED6\n"
     ]
    }
   ],
   "source": [
    "genre_grouping = df.groupby('user_id')['genre_name']\n",
    "\n",
    "def user_genres(group):\n",
    "    for col in group:\n",
    "        if len(col[1]) > 50:\n",
    "            user = col[0]\n",
    "            return user\n",
    "\n",
    "print(user_genres(genre_grouping))"
   ]
  },
  {
   "cell_type": "markdown",
   "id": "67627608",
   "metadata": {},
   "source": [
    "#### 3. вы нашли в данных Яндекс Музыки меломана с уникальными данными. Он за день послушал больше 50 композиций.Получите таблицу с прослушанными им треками.Для этого запросите из структуры данных df строки, отвечающие сразу двум условиям:\n",
    "Значение в столбце 'user_id' должно быть равно значению переменной search_id.\n",
    "Время прослушивания, значение в столбце 'total_play_seconds', не должно равняться 0."
   ]
  },
  {
   "cell_type": "code",
   "execution_count": 7,
   "id": "d3868b02",
   "metadata": {},
   "outputs": [
    {
     "name": "stdout",
     "output_type": "stream",
     "text": [
      "        user_id  total_play_seconds              artist_name  genre_name  \\\n",
      "1099   174C0ED6            5.182650                      黃小琥         pop   \n",
      "2452   174C0ED6            7.881289  Affabre Chamber Singers        easy   \n",
      "2978   174C0ED6            5.746300                  McLevit       urban   \n",
      "4102   174C0ED6           19.148514            Los Iracundos         pop   \n",
      "7030   174C0ED6           49.593786                Enigmatix         pop   \n",
      "...         ...                 ...                      ...         ...   \n",
      "59264  174C0ED6           13.967074           Essential Hits         pop   \n",
      "59371  174C0ED6           16.170088                 Yoga Lin        jazz   \n",
      "60438  174C0ED6            9.690201         Joselito Pascual         pop   \n",
      "60836  174C0ED6           19.740967            Jason Donavan  electronic   \n",
      "61059  174C0ED6           10.194734             Kutia Tuteru       world   \n",
      "\n",
      "                                            track_name  \n",
      "1099                             How Deep Is Your Love  \n",
      "2452                             How Deep Is Your Love  \n",
      "2978                             How Deep Is Your Love  \n",
      "4102   Que Profundo Es Tu Amor (How Deep Is Your Love)  \n",
      "7030                                      Perhaps Love  \n",
      "...                                                ...  \n",
      "59264                            How Deep Is Your Love  \n",
      "59371                            How Deep Is Your Love  \n",
      "60438                            How Deep Is Your Love  \n",
      "60836                            How Deep Is Your Love  \n",
      "61059             How Deep Is Your Love/Teardrops Fall  \n",
      "\n",
      "[71 rows x 5 columns]\n"
     ]
    }
   ],
   "source": [
    "search_id = user_genres(genre_grouping)\n",
    "\n",
    "music_user = df[(df['user_id'] == search_id) & (df['total_play_seconds'] > 0)]\n",
    "print(music_user)"
   ]
  },
  {
   "cell_type": "markdown",
   "id": "e166b277",
   "metadata": {},
   "source": [
    "#### 4. Сгруппируйте данные таблицы music_user по столбцу 'genre_name' и получите сумму значений столбца 'total_play_seconds'. Сохраните результат в переменной sum_music_user и выведите её значение на экран."
   ]
  },
  {
   "cell_type": "code",
   "execution_count": 8,
   "id": "436496f3",
   "metadata": {},
   "outputs": [
    {
     "name": "stdout",
     "output_type": "stream",
     "text": [
      "genre_name\n",
      "alternative       6.011604\n",
      "bacheta          24.841131\n",
      "boleros          12.525643\n",
      "children          5.345668\n",
      "dance            17.060924\n",
      "easy             60.838524\n",
      "electronic       95.148723\n",
      "folk              5.753263\n",
      "hiphop           20.595967\n",
      "instrumental     28.233265\n",
      "jazz             95.539506\n",
      "latin            32.562321\n",
      "pop             480.814559\n",
      "rap               3.980564\n",
      "rock             70.778604\n",
      "soundtrack        7.230859\n",
      "spiritual        11.078248\n",
      "top               9.345213\n",
      "urban             5.746300\n",
      "world            10.194734\n",
      "Name: total_play_seconds, dtype: float64\n"
     ]
    }
   ],
   "source": [
    "sum_music_user = music_user.groupby('genre_name')['total_play_seconds'].sum()\n",
    "print(sum_music_user)"
   ]
  },
  {
   "cell_type": "markdown",
   "id": "ef03d104",
   "metadata": {},
   "source": [
    "#### 5. Предпочтения меломана начинают проявляться. Но, возможно, длительность композиций от жанра к жанру сильно различается. Важно знать, сколько треков каждого жанра он включил.Сгруппируйте данные по столбцу genre_name и посчитайте значения в столбце genre_name. Сохраните результат в переменной count_music_user и выведите её значение на экран."
   ]
  },
  {
   "cell_type": "code",
   "execution_count": 10,
   "id": "bd3a508a",
   "metadata": {},
   "outputs": [
    {
     "name": "stdout",
     "output_type": "stream",
     "text": [
      "genre_name\n",
      "alternative      1\n",
      "bacheta          1\n",
      "boleros          1\n",
      "children         1\n",
      "dance            2\n",
      "easy             5\n",
      "electronic       5\n",
      "folk             1\n",
      "hiphop           3\n",
      "instrumental     1\n",
      "jazz             6\n",
      "latin            4\n",
      "pop             30\n",
      "rap              1\n",
      "rock             4\n",
      "soundtrack       1\n",
      "spiritual        1\n",
      "top              1\n",
      "urban            1\n",
      "world            1\n",
      "Name: user_id, dtype: int64\n"
     ]
    }
   ],
   "source": [
    "count_music_user = music_user.groupby('genre_name')['user_id'].count()\n",
    "print(count_music_user)"
   ]
  },
  {
   "cell_type": "markdown",
   "id": "809fd6a5",
   "metadata": {},
   "source": [
    "#### 6. Чтобы предпочтения были видны сразу, самые крупные значения нужно расположить сверху.Отсортируйте данные в группировке sum_music_user по убыванию. Когда применяете метод sort_values() к Series с единственным столбцом, аргумент by указывать не нужно — только порядок сортировки.Сохраните результат в переменной final_sum и выведите её значение на экран. Теперь то же самое сделайте с числом прослушанных меломаном композиций. Отсортируйте данные группировки count_music_user по убыванию. Сохраните результат в переменной final_count, значение которой выведите на экран."
   ]
  },
  {
   "cell_type": "code",
   "execution_count": 16,
   "id": "6d968362",
   "metadata": {},
   "outputs": [
    {
     "name": "stdout",
     "output_type": "stream",
     "text": [
      "genre_name\n",
      "pop             480.814559\n",
      "jazz             95.539506\n",
      "electronic       95.148723\n",
      "rock             70.778604\n",
      "easy             60.838524\n",
      "latin            32.562321\n",
      "instrumental     28.233265\n",
      "bacheta          24.841131\n",
      "hiphop           20.595967\n",
      "dance            17.060924\n",
      "boleros          12.525643\n",
      "spiritual        11.078248\n",
      "world            10.194734\n",
      "top               9.345213\n",
      "soundtrack        7.230859\n",
      "alternative       6.011604\n",
      "folk              5.753263\n",
      "urban             5.746300\n",
      "children          5.345668\n",
      "rap               3.980564\n",
      "Name: total_play_seconds, dtype: float64\n",
      "genre_name\n",
      "pop             30\n",
      "jazz             6\n",
      "easy             5\n",
      "electronic       5\n",
      "rock             4\n",
      "latin            4\n",
      "hiphop           3\n",
      "dance            2\n",
      "rap              1\n",
      "urban            1\n",
      "top              1\n",
      "spiritual        1\n",
      "soundtrack       1\n",
      "alternative      1\n",
      "bacheta          1\n",
      "instrumental     1\n",
      "folk             1\n",
      "children         1\n",
      "boleros          1\n",
      "world            1\n",
      "Name: user_id, dtype: int64\n"
     ]
    }
   ],
   "source": [
    "final_sum = sum_music_user.sort_values(ascending=False)\n",
    "final_count = count_music_user.sort_values(ascending=False)\n",
    "print(final_sum)\n",
    "print(final_count)"
   ]
  },
  {
   "cell_type": "markdown",
   "id": "198d3b20",
   "metadata": {},
   "source": [
    "#### 7. Получите таблицу с композициями самого популярного жанра — pop. Затем исключите пропущенные треки — которые слушали 0 секунд. Сохраните результат в переменной pop_music."
   ]
  },
  {
   "cell_type": "code",
   "execution_count": 18,
   "id": "fa91df4b",
   "metadata": {},
   "outputs": [
    {
     "name": "stdout",
     "output_type": "stream",
     "text": [
      "        user_id  total_play_seconds            artist_name genre_name  \\\n",
      "0      BF6EA5AF           92.851388             Marina Rei        pop   \n",
      "3      82F52E69          193.776327                 Rixton        pop   \n",
      "7      A5E0D927            3.161000  Andrew Paul Woodworth        pop   \n",
      "12     79D2876C            2.000000        Henning Wehland        pop   \n",
      "15     AEAEF451           15.000000              Albatraoz        pop   \n",
      "...         ...                 ...                    ...        ...   \n",
      "61167  DA333564          283.036735          La Colombiana        pop   \n",
      "61174  2D758485           18.554472               Yuri May        pop   \n",
      "61202  B0DF0750           44.200000   Bierstrassen Cowboys        pop   \n",
      "61208  2E27DF51          220.551837           Nadine Coyle        pop   \n",
      "61211  DB0038A8           11.529112           Less Chapell        pop   \n",
      "\n",
      "                                 track_name  \n",
      "0                                    Musica  \n",
      "3                    Me And My Broken Heart  \n",
      "7      The Name of This Next Song Is Called  \n",
      "12                       Räuber und Gendarm  \n",
      "15                              General Zod  \n",
      "...                                     ...  \n",
      "61167                      Que Me Quedes Tú  \n",
      "61174                         Вера Вероника  \n",
      "61202  Du hast den schönsten Arsch der Welt  \n",
      "61208                         Girls On Fire  \n",
      "61211                                  Home  \n",
      "\n",
      "[7449 rows x 5 columns]\n"
     ]
    }
   ],
   "source": [
    "pop_music = df[(df['genre_name'] == 'pop') & (df['total_play_seconds'] > 0)]\n",
    "print(pop_music)"
   ]
  },
  {
   "cell_type": "markdown",
   "id": "b2cdb3eb",
   "metadata": {},
   "source": [
    "#### 8. Найдите максимальное время прослушивания песни в жанре pop. Сохраните результат в переменной pop_music_max_total_play и выведите её значение на экран."
   ]
  },
  {
   "cell_type": "code",
   "execution_count": 20,
   "id": "bed6c6e1",
   "metadata": {},
   "outputs": [
    {
     "name": "stdout",
     "output_type": "stream",
     "text": [
      "1158.0280450000016\n"
     ]
    }
   ],
   "source": [
    "pop_music_max_total_play = pop_music['total_play_seconds'].max()\n",
    "print(pop_music_max_total_play)"
   ]
  },
  {
   "cell_type": "markdown",
   "id": "2a8aa6cc",
   "metadata": {},
   "source": [
    "#### 9. Получите из таблицы pop_music строку с максимальным временем прослушивания. Результат сохраните в переменной pop_music_max_info и выведите на экран."
   ]
  },
  {
   "cell_type": "code",
   "execution_count": 21,
   "id": "4a526b14",
   "metadata": {},
   "outputs": [
    {
     "name": "stdout",
     "output_type": "stream",
     "text": [
      "        user_id  total_play_seconds artist_name genre_name     track_name\n",
      "58075  FF13D5C6         1158.028045     Cinders        pop  Sleep Walking\n"
     ]
    }
   ],
   "source": [
    "pop_music_max_info = pop_music[pop_music['total_play_seconds'] == pop_music_max_total_play]\n",
    "print(pop_music_max_info)"
   ]
  },
  {
   "cell_type": "markdown",
   "id": "393f3926",
   "metadata": {},
   "source": [
    "#### 10. Найдите минимальное время прослушивания композиции в жанре pop, отличное от нуля. Сохраните его в переменной pop_music_min_total_play, значение выведите на экран."
   ]
  },
  {
   "cell_type": "code",
   "execution_count": 23,
   "id": "23a319f0",
   "metadata": {},
   "outputs": [
    {
     "name": "stdout",
     "output_type": "stream",
     "text": [
      "0.000794\n"
     ]
    }
   ],
   "source": [
    "pop_music_min_total_play= pop_music['total_play_seconds'].min()\n",
    "print(pop_music_min_total_play)"
   ]
  },
  {
   "cell_type": "markdown",
   "id": "85d1750d",
   "metadata": {},
   "source": [
    "#### 11. Выведите на экран строку о композиции жанра pop, которую начали слушать, но выключили быстрее всех остальных. Результат сохраните в переменную pop_music_min_info и выведите на экран."
   ]
  },
  {
   "cell_type": "code",
   "execution_count": 24,
   "id": "28f2416a",
   "metadata": {},
   "outputs": [
    {
     "name": "stdout",
     "output_type": "stream",
     "text": [
      "        user_id  total_play_seconds artist_name genre_name track_name\n",
      "36140  2815A725            0.000794      Chicco        pop   Modjadji\n"
     ]
    }
   ],
   "source": [
    "pop_music_min_info = pop_music[pop_music['total_play_seconds'] == pop_music_min_total_play]\n",
    "print(pop_music_min_info)"
   ]
  },
  {
   "cell_type": "markdown",
   "id": "489ee6ca",
   "metadata": {},
   "source": [
    "#### 12. Рассчитайте медиану времени прослушивания произведений жанра pop. Сохраните результат в переменной pop_music_median и выведите на экран."
   ]
  },
  {
   "cell_type": "code",
   "execution_count": 25,
   "id": "5ad5b856",
   "metadata": {},
   "outputs": [
    {
     "name": "stdout",
     "output_type": "stream",
     "text": [
      "34.473015000000004\n"
     ]
    }
   ],
   "source": [
    "pop_music_median = pop_music['total_play_seconds'].median()\n",
    "print(pop_music_median)"
   ]
  },
  {
   "cell_type": "markdown",
   "id": "a8f2aa81",
   "metadata": {},
   "source": [
    "#### 13. Рассчитайте среднее арифметическое времени прослушивания произведений жанра pop. Сохраните результат в переменной pop_music_mean и выведите на экран."
   ]
  },
  {
   "cell_type": "code",
   "execution_count": 26,
   "id": "624c5244",
   "metadata": {},
   "outputs": [
    {
     "name": "stdout",
     "output_type": "stream",
     "text": [
      "98.37319899786826\n"
     ]
    }
   ],
   "source": [
    "pop_music_mean = pop_music['total_play_seconds'].mean()\n",
    "print(pop_music_mean)"
   ]
  }
 ],
 "metadata": {
  "kernelspec": {
   "display_name": "Python 3",
   "language": "python",
   "name": "python3"
  },
  "language_info": {
   "codemirror_mode": {
    "name": "ipython",
    "version": 3
   },
   "file_extension": ".py",
   "mimetype": "text/x-python",
   "name": "python",
   "nbconvert_exporter": "python",
   "pygments_lexer": "ipython3",
   "version": "3.8.8"
  }
 },
 "nbformat": 4,
 "nbformat_minor": 5
}
