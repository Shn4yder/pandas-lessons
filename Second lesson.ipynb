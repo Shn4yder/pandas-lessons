{
 "cells": [
  {
   "cell_type": "code",
   "execution_count": 23,
   "id": "75f61f70",
   "metadata": {},
   "outputs": [],
   "source": [
    "import pandas as pd"
   ]
  },
  {
   "cell_type": "code",
   "execution_count": 24,
   "id": "cbf2c1d7",
   "metadata": {},
   "outputs": [
    {
     "name": "stdout",
     "output_type": "stream",
     "text": [
      "<class 'pandas.core.frame.DataFrame'>\n",
      "RangeIndex: 67963 entries, 0 to 67962\n",
      "Data columns (total 5 columns):\n",
      " #   Column      Non-Null Count  Dtype  \n",
      "---  ------      --------------  -----  \n",
      " 0     user_id   67963 non-null  object \n",
      " 1   total play  67399 non-null  float64\n",
      " 2   Artist      59647 non-null  object \n",
      " 3   genre       64661 non-null  object \n",
      " 4   track       64804 non-null  object \n",
      "dtypes: float64(1), object(4)\n",
      "memory usage: 2.6+ MB\n"
     ]
    }
   ],
   "source": [
    "df = pd.read_csv('data/music_log.csv')\n",
    "df.info()"
   ]
  },
  {
   "cell_type": "markdown",
   "id": "0e738a73",
   "metadata": {},
   "source": [
    "#### 1. Исправьте проблемы в названиях столбцов таблицы df:\n",
    "- из названия колонки с 'user_id' уберите два пробела,\n",
    "- 'total play' приведите к змеиному регистру,\n",
    "- в 'Artist' сделайте все буквы строчными.\n",
    "Вызовите метод rename() и передайте ему словарь:\n",
    "- со старыми названиями из прошлого задания;\n",
    "- исправленными названиями.\n",
    "Результат сохраните в переменной df."
   ]
  },
  {
   "cell_type": "code",
   "execution_count": 25,
   "id": "f89f7a91",
   "metadata": {},
   "outputs": [
    {
     "name": "stdout",
     "output_type": "stream",
     "text": [
      "Index(['user_id', 'total_play', 'artist', 'genre', 'track'], dtype='object')\n"
     ]
    }
   ],
   "source": [
    "df = df.rename(columns={'  user_id': 'user_id', 'total play': 'total_play', 'Artist': 'artist'}) \n",
    "print(df.columns)"
   ]
  },
  {
   "cell_type": "markdown",
   "id": "c6ee0972",
   "metadata": {},
   "source": [
    "#### 2. Для исследования важно сохранить содержание столбца genre. Если по какой-то причине имя исполнителя и название трека оказались упущены, а жанр композиции известен, эту строку надо сберечь.Заполните отсутствующие значения столбца track строкой 'unknown'. Проделать ту же работу с столбцом исполнитель"
   ]
  },
  {
   "cell_type": "code",
   "execution_count": 26,
   "id": "f8c54370",
   "metadata": {},
   "outputs": [
    {
     "name": "stdout",
     "output_type": "stream",
     "text": [
      "user_id          0\n",
      "total_play     564\n",
      "artist        8316\n",
      "genre         3302\n",
      "track         3159\n",
      "dtype: int64\n"
     ]
    }
   ],
   "source": [
    "print(df.isna().sum()) # кол-во пропусков по столбцам"
   ]
  },
  {
   "cell_type": "code",
   "execution_count": 27,
   "id": "4a362963",
   "metadata": {},
   "outputs": [
    {
     "name": "stdout",
     "output_type": "stream",
     "text": [
      "user_id          0\n",
      "total_play     564\n",
      "artist           0\n",
      "genre         3302\n",
      "track            0\n",
      "dtype: int64\n"
     ]
    }
   ],
   "source": [
    "df[['track', 'artist']] = df[['track', 'artist']].fillna('unknown') \n",
    "print(df.isna().sum())"
   ]
  },
  {
   "cell_type": "markdown",
   "id": "9639abf0",
   "metadata": {},
   "source": [
    "#### 3.Удалите строки, в которых отсутствует значение в столбце genre."
   ]
  },
  {
   "cell_type": "code",
   "execution_count": 29,
   "id": "13c49232",
   "metadata": {},
   "outputs": [
    {
     "data": {
      "text/html": [
       "<div>\n",
       "<style scoped>\n",
       "    .dataframe tbody tr th:only-of-type {\n",
       "        vertical-align: middle;\n",
       "    }\n",
       "\n",
       "    .dataframe tbody tr th {\n",
       "        vertical-align: top;\n",
       "    }\n",
       "\n",
       "    .dataframe thead th {\n",
       "        text-align: right;\n",
       "    }\n",
       "</style>\n",
       "<table border=\"1\" class=\"dataframe\">\n",
       "  <thead>\n",
       "    <tr style=\"text-align: right;\">\n",
       "      <th></th>\n",
       "      <th>user_id</th>\n",
       "      <th>total_play</th>\n",
       "      <th>artist</th>\n",
       "      <th>genre</th>\n",
       "      <th>track</th>\n",
       "    </tr>\n",
       "  </thead>\n",
       "  <tbody>\n",
       "    <tr>\n",
       "      <th>0</th>\n",
       "      <td>BF6EA5AF</td>\n",
       "      <td>92.851388</td>\n",
       "      <td>Marina Rei</td>\n",
       "      <td>pop</td>\n",
       "      <td>Musica</td>\n",
       "    </tr>\n",
       "    <tr>\n",
       "      <th>1</th>\n",
       "      <td>FB1E568E</td>\n",
       "      <td>282.981000</td>\n",
       "      <td>Stive Morgan</td>\n",
       "      <td>ambient</td>\n",
       "      <td>Love Planet</td>\n",
       "    </tr>\n",
       "    <tr>\n",
       "      <th>2</th>\n",
       "      <td>FB1E568E</td>\n",
       "      <td>282.981000</td>\n",
       "      <td>Stive Morgan</td>\n",
       "      <td>ambient</td>\n",
       "      <td>Love Planet</td>\n",
       "    </tr>\n",
       "    <tr>\n",
       "      <th>3</th>\n",
       "      <td>EF15C7BA</td>\n",
       "      <td>8.966000</td>\n",
       "      <td>unknown</td>\n",
       "      <td>dance</td>\n",
       "      <td>Loving Every Minute</td>\n",
       "    </tr>\n",
       "    <tr>\n",
       "      <th>4</th>\n",
       "      <td>82F52E69</td>\n",
       "      <td>193.776327</td>\n",
       "      <td>Rixton</td>\n",
       "      <td>pop</td>\n",
       "      <td>Me And My Broken Heart</td>\n",
       "    </tr>\n",
       "    <tr>\n",
       "      <th>5</th>\n",
       "      <td>4166D680</td>\n",
       "      <td>3.007000</td>\n",
       "      <td>Henry Hall &amp; His Gleneagles Hotel Band</td>\n",
       "      <td>jazz</td>\n",
       "      <td>Home</td>\n",
       "    </tr>\n",
       "    <tr>\n",
       "      <th>6</th>\n",
       "      <td>F4F5677</td>\n",
       "      <td>0.100000</td>\n",
       "      <td>unknown</td>\n",
       "      <td>classicmetal</td>\n",
       "      <td>unknown</td>\n",
       "    </tr>\n",
       "    <tr>\n",
       "      <th>7</th>\n",
       "      <td>386FE1ED</td>\n",
       "      <td>211.880000</td>\n",
       "      <td>unknown</td>\n",
       "      <td>electronic</td>\n",
       "      <td>Riviera</td>\n",
       "    </tr>\n",
       "    <tr>\n",
       "      <th>8</th>\n",
       "      <td>A5E0D927</td>\n",
       "      <td>3.161000</td>\n",
       "      <td>Andrew Paul Woodworth</td>\n",
       "      <td>pop</td>\n",
       "      <td>The Name of This Next Song Is Called</td>\n",
       "    </tr>\n",
       "    <tr>\n",
       "      <th>9</th>\n",
       "      <td>E9E8A0CA</td>\n",
       "      <td>274.390000</td>\n",
       "      <td>Pillar Point</td>\n",
       "      <td>indie</td>\n",
       "      <td>Dove</td>\n",
       "    </tr>\n",
       "  </tbody>\n",
       "</table>\n",
       "</div>"
      ],
      "text/plain": [
       "    user_id  total_play                                  artist         genre  \\\n",
       "0  BF6EA5AF   92.851388                              Marina Rei           pop   \n",
       "1  FB1E568E  282.981000                            Stive Morgan       ambient   \n",
       "2  FB1E568E  282.981000                            Stive Morgan       ambient   \n",
       "3  EF15C7BA    8.966000                                 unknown         dance   \n",
       "4  82F52E69  193.776327                                  Rixton           pop   \n",
       "5  4166D680    3.007000  Henry Hall & His Gleneagles Hotel Band          jazz   \n",
       "6   F4F5677    0.100000                                 unknown  classicmetal   \n",
       "7  386FE1ED  211.880000                                 unknown    electronic   \n",
       "8  A5E0D927    3.161000                   Andrew Paul Woodworth           pop   \n",
       "9  E9E8A0CA  274.390000                            Pillar Point         indie   \n",
       "\n",
       "                                  track  \n",
       "0                                Musica  \n",
       "1                           Love Planet  \n",
       "2                           Love Planet  \n",
       "3                   Loving Every Minute  \n",
       "4                Me And My Broken Heart  \n",
       "5                                  Home  \n",
       "6                               unknown  \n",
       "7                               Riviera  \n",
       "8  The Name of This Next Song Is Called  \n",
       "9                                  Dove  "
      ]
     },
     "execution_count": 29,
     "metadata": {},
     "output_type": "execute_result"
    }
   ],
   "source": [
    "df = df.dropna(subset=['genre']).reset_index(drop=True) #если параметр drop False, то в дф будет столбец index - со старыми индексами\n",
    "df.head(10)"
   ]
  },
  {
   "cell_type": "markdown",
   "id": "6626b3a0",
   "metadata": {},
   "source": [
    "#### 4. Посчитайте и выведите на экран суммарное количество дубликатов в таблице. "
   ]
  },
  {
   "cell_type": "code",
   "execution_count": 31,
   "id": "c35be25e",
   "metadata": {},
   "outputs": [
    {
     "name": "stdout",
     "output_type": "stream",
     "text": [
      "3978\n",
      "        user_id  total_play                       artist        genre  \\\n",
      "2      FB1E568E  282.981000                 Stive Morgan      ambient   \n",
      "486     8E2B511   18.003328              Griffin & Flint          pop   \n",
      "561    F1014BD5  202.135510  Emanuel Borok Cullan Bryant    classical   \n",
      "1433    A97D9A0    7.206244                      unknown       hiphop   \n",
      "1457   36EFD5CB    1.555000                      unknown          pop   \n",
      "...         ...         ...                          ...          ...   \n",
      "64615  BFCEC5EC  123.986000                     Magellan  progressive   \n",
      "64617  33780514    4.000000                         Asaf       hiphop   \n",
      "64633  FF3F4084   38.216000                        Arena         rock   \n",
      "64636  8B6704A2   68.495839                     Dom Blvd          pop   \n",
      "64650  A6E13637    1.318000                  Julien Mier        dance   \n",
      "\n",
      "                 track  \n",
      "2          Love Planet  \n",
      "486    Sweater Weather  \n",
      "561      Love's Sorrow  \n",
      "1433            Ошибки  \n",
      "1457    All Or Nothing  \n",
      "...                ...  \n",
      "64615         Gameface  \n",
      "64617      Kiss My Abs  \n",
      "64633        Should I?  \n",
      "64636        Dear Love  \n",
      "64650           Nearby  \n",
      "\n",
      "[3978 rows x 5 columns]\n"
     ]
    }
   ],
   "source": [
    "print(df.duplicated().sum()) \n",
    "duplicated_df = df[df.duplicated()] # таблица с дубликатами\n",
    "print(duplicated_df)"
   ]
  },
  {
   "cell_type": "markdown",
   "id": "746de5d8",
   "metadata": {},
   "source": [
    "#### 5. Избавьтесь от дубликатов. Вызовите метод reset_index(drop=True) , чтобы обновить индексы строк и удалить колонку со старыми индексами."
   ]
  },
  {
   "cell_type": "code",
   "execution_count": 33,
   "id": "a8c41d3b",
   "metadata": {},
   "outputs": [
    {
     "name": "stdout",
     "output_type": "stream",
     "text": [
      "0\n"
     ]
    }
   ],
   "source": [
    "df = df.drop_duplicates().reset_index(drop=True) \n",
    "print(df.duplicated().sum()) "
   ]
  },
  {
   "cell_type": "markdown",
   "id": "42838d40",
   "metadata": {},
   "source": [
    "#### 6. Теперь очередь неявных дубликатов.Получите уникальные значения столбца genre_name методом unique(). Просмотрите результат и найдите название жанра, которое выглядит как неявный дубликат."
   ]
  },
  {
   "cell_type": "code",
   "execution_count": 38,
   "id": "784c313f",
   "metadata": {},
   "outputs": [
    {
     "name": "stdout",
     "output_type": "stream",
     "text": [
      "['pop' 'ambient' 'dance' 'jazz' 'classicmetal' 'electronic' 'indie'\n",
      " 'hiphop' 'spoken' 'new' 'latin' 'extrememetal' 'instrumental' 'classical'\n",
      " 'alternative' 'rock' 'german' 'french' 'metal' 'dubstep' 'house'\n",
      " 'miscellaneous' 'rap' 'world' 'country' 'punk' 'rusrap' 'rnb' 'beats'\n",
      " 'ukrrock' 'inspiritual' 'ruspop' 'caucasian' 'rusrock' 'dub' 'soundtrack'\n",
      " 'folk' 'shanson' 'fairytail' 'hard-n-heavy' 'romance' 'religious'\n",
      " 'hardcore' 'orchestral' 'minimal' 'film' 'spiritual' 'melodic' 'trance'\n",
      " 'comedy' 'reggae' 'deep' 'mpb' 'techno' 'reggaeton' 'singer' 'karaoke'\n",
      " 'children' 'adult' 'western' 'psychedelic' 'grime' 'christian' 'holiday'\n",
      " 'argentinetango' 'disco' 'lounge' 'urban' 'local' 'progressive' 'other'\n",
      " 'funk' 'blues' 'easy' 'dancehall' 'tatar' 'conjazz' 'drum' 'chill' 'jpop'\n",
      " 'fitness' 'gospel' 'brazilian' 'vocal' 'chanson' 'gothic' 'irish' 'k-pop'\n",
      " 'acoustic' 'industrial' 'numetal' 'soul' 'experimental' 'relax' 'mexican'\n",
      " 'videogame' 'glitch' 'worldmusic' 'postrock' 'folkmetal' 'bossa' 'black'\n",
      " 'tech' 'schlager' 'chinese' 'educational' 'russian' 'international'\n",
      " \"hard'n'heavy\" 'animated' 'americana' 'mass' 'downtempo' 'club' 'prog'\n",
      " 'bigroom' 'avantgarde' 'tropical' 'samba' 'jewish' 'epicmetal'\n",
      " 'halloween' 'middle' 'old' 'downbeat' 'gangsta' 'broadway' 'european'\n",
      " 'modern' 'opera' 'türkçe' 'estrada' 'deutschrock' 'posthardcore'\n",
      " 'progmetal' 'axé' 'sport' 'art' 'indian' 'future' 'ska' 'grunge' 'salsa'\n",
      " 'dark' 'synthrock' 'ethnic' 'folkrock' 'trip' 'asiapop' 'speech'\n",
      " 'bassline' 'funky' 'bluegrass' 'fusion' 'chillhouse' 'breaks' 'death'\n",
      " 'thrash' 'power' 'variété' 'post' 'celtic' 'rnr' 'self' 'nu' 'caribbean'\n",
      " 'balkan' 'cantopop' 'breakbeat' 'indonesia' 'regional' 'piano'\n",
      " 'inspirational' 'southern' 'traditional' 'mood' 'rockabilly' 'action'\n",
      " 'uzbek' 'contemporary' 'christmas' 'fado' 'solo' 'handsup' 'electropop'\n",
      " 'canzone' 'lecture' 'bollywood' 'dancepop' 'anime' 'korean' 'eurofolk'\n",
      " 'audiobook' 'garage' 'smooth' 'newage' 'top' 'rancheras' 'native'\n",
      " 'tradjazz' 'cuba' 'arabesk' 'synthpop' 'boleros' 'rhythm' 'swing'\n",
      " 'african' 'folklore' 'colombian' 'stonerrock' 'jam' 'specialty'\n",
      " 'quebecois' 'i̇slami' 'wort' 'afro' 'sertanejo' 'afrikaans' 'baile'\n",
      " 'eastern' 'synthi' 'surf' 'gabba' 'italo' 'tango' 'französisch' 'muslim'\n",
      " 'электроника' 'symphonic' 'dnb' 'japanese' 'cuban' 'acid' 'cantautori'\n",
      " 'idm' 'general' 'devotional' 'skarock' 'yoga' 'mandopop' 'bass'\n",
      " 'flamenco' 'türk' 'jiddisch' 'punjabi' 'symphony' 'entehno' 'latino'\n",
      " 'swingbeat' 'leftfield' 'rhythmic' 'hardstyle' 'crunk' 'hardtrance'\n",
      " 'goth' 'newwave' 'concerto' 'musique' 'meditative' 'bacheta' 'requiem'\n",
      " 'metalcore' 'freestyle' 'standards' 'emo' 'choral' 'drone' 'nujazz'\n",
      " 'roots' 'jumpstyle' 'merengue' 'chamber' 'dirty' 'kürtçe' 'oceania'\n",
      " 'soulful' 'gypsy' 'afrika' 'indipop' 'hymn' 'cajun' 'turbo' 'psychobilly'\n",
      " 'trumpet' 'broken' 'kayokyoku' 'doom' 'polka' 'blip' 'orgel' 'ranchera'\n",
      " 'deutscherock' 'retro' 'oratorio' 'alternativepunk' 'ukr' 'bolero' 'dj'\n",
      " 'acapella' 'djent' 'independent' 'şiir' 'shoegazing' 'rave']\n"
     ]
    },
    {
     "data": {
      "text/plain": [
       "304"
      ]
     },
     "execution_count": 38,
     "metadata": {},
     "output_type": "execute_result"
    }
   ],
   "source": [
    "print(df['genre'].unique())  #неявный дубликат - электроника\n",
    "len(df['genre'].unique())"
   ]
  },
  {
   "cell_type": "markdown",
   "id": "87d61f1b",
   "metadata": {},
   "source": []
  },
  {
   "cell_type": "code",
   "execution_count": 44,
   "id": "ec55525c",
   "metadata": {},
   "outputs": [
    {
     "name": "stdout",
     "output_type": "stream",
     "text": [
      "['pop' 'ambient' 'dance' 'jazz' 'classicmetal' 'electronic' 'indie'\n",
      " 'hiphop' 'spoken' 'new' 'latin' 'extrememetal' 'instrumental' 'classical'\n",
      " 'alternative' 'rock' 'german' 'french' 'metal' 'dubstep' 'house'\n",
      " 'miscellaneous' 'rap' 'world' 'country' 'punk' 'rusrap' 'rnb' 'beats'\n",
      " 'ukrrock' 'inspiritual' 'ruspop' 'caucasian' 'rusrock' 'dub' 'soundtrack'\n",
      " 'folk' 'shanson' 'fairytail' 'hard-n-heavy' 'romance' 'religious'\n",
      " 'hardcore' 'orchestral' 'minimal' 'film' 'spiritual' 'melodic' 'trance'\n",
      " 'comedy' 'reggae' 'deep' 'mpb' 'techno' 'reggaeton' 'singer' 'karaoke'\n",
      " 'children' 'adult' 'western' 'psychedelic' 'grime' 'christian' 'holiday'\n",
      " 'argentinetango' 'disco' 'lounge' 'urban' 'local' 'progressive' 'other'\n",
      " 'funk' 'blues' 'easy' 'dancehall' 'tatar' 'conjazz' 'drum' 'chill' 'jpop'\n",
      " 'fitness' 'gospel' 'brazilian' 'vocal' 'chanson' 'gothic' 'irish' 'k-pop'\n",
      " 'acoustic' 'industrial' 'numetal' 'soul' 'experimental' 'relax' 'mexican'\n",
      " 'videogame' 'glitch' 'worldmusic' 'postrock' 'folkmetal' 'bossa' 'black'\n",
      " 'tech' 'schlager' 'chinese' 'educational' 'russian' 'international'\n",
      " \"hard'n'heavy\" 'animated' 'americana' 'mass' 'downtempo' 'club' 'prog'\n",
      " 'bigroom' 'avantgarde' 'tropical' 'samba' 'jewish' 'epicmetal'\n",
      " 'halloween' 'middle' 'old' 'downbeat' 'gangsta' 'broadway' 'european'\n",
      " 'modern' 'opera' 'türkçe' 'estrada' 'deutschrock' 'posthardcore'\n",
      " 'progmetal' 'axé' 'sport' 'art' 'indian' 'future' 'ska' 'grunge' 'salsa'\n",
      " 'dark' 'synthrock' 'ethnic' 'folkrock' 'trip' 'asiapop' 'speech'\n",
      " 'bassline' 'funky' 'bluegrass' 'fusion' 'chillhouse' 'breaks' 'death'\n",
      " 'thrash' 'power' 'variété' 'post' 'celtic' 'rnr' 'self' 'nu' 'caribbean'\n",
      " 'balkan' 'cantopop' 'breakbeat' 'indonesia' 'regional' 'piano'\n",
      " 'inspirational' 'southern' 'traditional' 'mood' 'rockabilly' 'action'\n",
      " 'uzbek' 'contemporary' 'christmas' 'fado' 'solo' 'handsup' 'electropop'\n",
      " 'canzone' 'lecture' 'bollywood' 'dancepop' 'anime' 'korean' 'eurofolk'\n",
      " 'audiobook' 'garage' 'smooth' 'newage' 'top' 'rancheras' 'native'\n",
      " 'tradjazz' 'cuba' 'arabesk' 'synthpop' 'boleros' 'rhythm' 'swing'\n",
      " 'african' 'folklore' 'colombian' 'stonerrock' 'jam' 'specialty'\n",
      " 'quebecois' 'i̇slami' 'wort' 'afro' 'sertanejo' 'afrikaans' 'baile'\n",
      " 'eastern' 'synthi' 'surf' 'gabba' 'italo' 'tango' 'französisch' 'muslim'\n",
      " 'symphonic' 'dnb' 'japanese' 'cuban' 'acid' 'cantautori' 'idm' 'general'\n",
      " 'devotional' 'skarock' 'yoga' 'mandopop' 'bass' 'flamenco' 'türk'\n",
      " 'jiddisch' 'punjabi' 'symphony' 'entehno' 'latino' 'swingbeat'\n",
      " 'leftfield' 'rhythmic' 'hardstyle' 'crunk' 'hardtrance' 'goth' 'newwave'\n",
      " 'concerto' 'musique' 'meditative' 'bacheta' 'requiem' 'metalcore'\n",
      " 'freestyle' 'standards' 'emo' 'choral' 'drone' 'nujazz' 'roots'\n",
      " 'jumpstyle' 'merengue' 'chamber' 'dirty' 'kürtçe' 'oceania' 'soulful'\n",
      " 'gypsy' 'afrika' 'indipop' 'hymn' 'cajun' 'turbo' 'psychobilly' 'trumpet'\n",
      " 'broken' 'kayokyoku' 'doom' 'polka' 'blip' 'orgel' 'ranchera'\n",
      " 'deutscherock' 'retro' 'oratorio' 'alternativepunk' 'ukr' 'bolero' 'dj'\n",
      " 'acapella' 'djent' 'independent' 'şiir' 'shoegazing' 'rave']\n"
     ]
    },
    {
     "data": {
      "text/plain": [
       "303"
      ]
     },
     "execution_count": 44,
     "metadata": {},
     "output_type": "execute_result"
    }
   ],
   "source": [
    "df['genre'] = df['genre'].replace('электроника', 'electronic')\n",
    "print(df['genre'].unique())\n",
    "len(df['genre'].unique())"
   ]
  },
  {
   "cell_type": "code",
   "execution_count": null,
   "id": "2d36c6a3",
   "metadata": {},
   "outputs": [],
   "source": []
  }
 ],
 "metadata": {
  "kernelspec": {
   "display_name": "Python 3",
   "language": "python",
   "name": "python3"
  },
  "language_info": {
   "codemirror_mode": {
    "name": "ipython",
    "version": 3
   },
   "file_extension": ".py",
   "mimetype": "text/x-python",
   "name": "python",
   "nbconvert_exporter": "python",
   "pygments_lexer": "ipython3",
   "version": "3.8.8"
  }
 },
 "nbformat": 4,
 "nbformat_minor": 5
}
