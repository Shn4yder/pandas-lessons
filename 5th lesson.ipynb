{
 "cells": [
  {
   "cell_type": "code",
   "execution_count": 1,
   "id": "82334a4a",
   "metadata": {},
   "outputs": [],
   "source": [
    "import pandas as pd"
   ]
  },
  {
   "cell_type": "code",
   "execution_count": 6,
   "id": "50adf6a0",
   "metadata": {},
   "outputs": [
    {
     "data": {
      "text/html": [
       "<div>\n",
       "<style scoped>\n",
       "    .dataframe tbody tr th:only-of-type {\n",
       "        vertical-align: middle;\n",
       "    }\n",
       "\n",
       "    .dataframe tbody tr th {\n",
       "        vertical-align: top;\n",
       "    }\n",
       "\n",
       "    .dataframe thead th {\n",
       "        text-align: right;\n",
       "    }\n",
       "</style>\n",
       "<table border=\"1\" class=\"dataframe\">\n",
       "  <thead>\n",
       "    <tr style=\"text-align: right;\">\n",
       "      <th></th>\n",
       "      <th>subcategory_id</th>\n",
       "      <th>source</th>\n",
       "      <th>visits</th>\n",
       "      <th>Unnamed: 3</th>\n",
       "    </tr>\n",
       "  </thead>\n",
       "  <tbody>\n",
       "    <tr>\n",
       "      <th>0</th>\n",
       "      <td>cf2e61c7af</td>\n",
       "      <td>direct</td>\n",
       "      <td>501165.668858</td>\n",
       "      <td>NaN</td>\n",
       "    </tr>\n",
       "    <tr>\n",
       "      <th>1</th>\n",
       "      <td>0cd903d1cc</td>\n",
       "      <td>direct</td>\n",
       "      <td>126342.359505</td>\n",
       "      <td>NaN</td>\n",
       "    </tr>\n",
       "    <tr>\n",
       "      <th>2</th>\n",
       "      <td>ef35bc88a7</td>\n",
       "      <td>direct</td>\n",
       "      <td>95626.321402</td>\n",
       "      <td>NaN</td>\n",
       "    </tr>\n",
       "    <tr>\n",
       "      <th>3</th>\n",
       "      <td>6ff9f4014c</td>\n",
       "      <td>direct</td>\n",
       "      <td>75680.653002</td>\n",
       "      <td>NaN</td>\n",
       "    </tr>\n",
       "    <tr>\n",
       "      <th>4</th>\n",
       "      <td>72bc238e4d</td>\n",
       "      <td>direct</td>\n",
       "      <td>64435.934651</td>\n",
       "      <td>NaN</td>\n",
       "    </tr>\n",
       "    <tr>\n",
       "      <th>5</th>\n",
       "      <td>88c78ea685</td>\n",
       "      <td>direct</td>\n",
       "      <td>39638.202995</td>\n",
       "      <td>NaN</td>\n",
       "    </tr>\n",
       "    <tr>\n",
       "      <th>6</th>\n",
       "      <td>179bfacf4a</td>\n",
       "      <td>direct</td>\n",
       "      <td>31007.471245</td>\n",
       "      <td>NaN</td>\n",
       "    </tr>\n",
       "    <tr>\n",
       "      <th>7</th>\n",
       "      <td>b0fb8f259a</td>\n",
       "      <td>direct</td>\n",
       "      <td>30324.097324</td>\n",
       "      <td>NaN</td>\n",
       "    </tr>\n",
       "    <tr>\n",
       "      <th>8</th>\n",
       "      <td>3c67eb2d90</td>\n",
       "      <td>direct</td>\n",
       "      <td>25878.814329</td>\n",
       "      <td>NaN</td>\n",
       "    </tr>\n",
       "    <tr>\n",
       "      <th>9</th>\n",
       "      <td>24e6c815c6</td>\n",
       "      <td>direct</td>\n",
       "      <td>25276.373358</td>\n",
       "      <td>NaN</td>\n",
       "    </tr>\n",
       "  </tbody>\n",
       "</table>\n",
       "</div>"
      ],
      "text/plain": [
       "  subcategory_id  source         visits  Unnamed: 3\n",
       "0     cf2e61c7af  direct  501165.668858         NaN\n",
       "1     0cd903d1cc  direct  126342.359505         NaN\n",
       "2     ef35bc88a7  direct   95626.321402         NaN\n",
       "3     6ff9f4014c  direct   75680.653002         NaN\n",
       "4     72bc238e4d  direct   64435.934651         NaN\n",
       "5     88c78ea685  direct   39638.202995         NaN\n",
       "6     179bfacf4a  direct   31007.471245         NaN\n",
       "7     b0fb8f259a  direct   30324.097324         NaN\n",
       "8     3c67eb2d90  direct   25878.814329         NaN\n",
       "9     24e6c815c6  direct   25276.373358         NaN"
      ]
     },
     "execution_count": 6,
     "metadata": {},
     "output_type": "execute_result"
    }
   ],
   "source": [
    "data = pd.read_excel('data/seo_data.xlsx')\n",
    "data.head(10)"
   ]
  },
  {
   "cell_type": "code",
   "execution_count": 7,
   "id": "450de731",
   "metadata": {},
   "outputs": [
    {
     "name": "stdout",
     "output_type": "stream",
     "text": [
      "<class 'pandas.core.frame.DataFrame'>\n",
      "RangeIndex: 1930 entries, 0 to 1929\n",
      "Data columns (total 4 columns):\n",
      " #   Column          Non-Null Count  Dtype  \n",
      "---  ------          --------------  -----  \n",
      " 0   subcategory_id  1930 non-null   object \n",
      " 1   source          1930 non-null   object \n",
      " 2   visits          1930 non-null   object \n",
      " 3   Unnamed: 3      0 non-null      float64\n",
      "dtypes: float64(1), object(3)\n",
      "memory usage: 60.4+ KB\n"
     ]
    }
   ],
   "source": [
    "data.info()"
   ]
  },
  {
   "cell_type": "markdown",
   "id": "c641b147",
   "metadata": {},
   "source": [
    "- subcategory_id — идентификатор товарной подкатегории, или её зашифрованное название;\n",
    "- source — источник трафика. В нашем случае источников два: прямой заход на сайт в таблице обозначен как direct, переход из поисковых систем — organic;\n",
    "- visits — количество визитов на страницу подкатегории за отчётный период."
   ]
  },
  {
   "cell_type": "markdown",
   "id": "0ff6e2b6",
   "metadata": {},
   "source": [
    "#### 1. Пока в первых 5 строчках таблицы виден только один источник трафика direct. Проверьте, какие источники есть в столбце source. Выведите на экран список уникальных значений этого столбца."
   ]
  },
  {
   "cell_type": "code",
   "execution_count": 13,
   "id": "6d5f9f63",
   "metadata": {},
   "outputs": [
    {
     "data": {
      "text/plain": [
       "array(['direct', 'organic'], dtype=object)"
      ]
     },
     "execution_count": 13,
     "metadata": {},
     "output_type": "execute_result"
    }
   ],
   "source": [
    "data['source'].unique()"
   ]
  },
  {
   "cell_type": "markdown",
   "id": "8837b7e7",
   "metadata": {},
   "source": [
    "#### 2. Методом read_excel() прочтите второй лист 'subcategory_ids' и сохраните его в переменной subcategory_dict. Выведите на экран его первые 5 строк методом head().Обратите внимание на названия столбцов: к знакомым нам идентификаторам подкатегорий (subcategory_id) добавились идентификаторы категорий (category_id) и названия подкатегорий (subcategory_name).\n",
    "Всё это похоже на словарь, где идентификаторам подкатегорий из цифр и латинских букв соответствуют понятные нам названия. Поэтому датафрейм называется subcategory_dict."
   ]
  },
  {
   "cell_type": "code",
   "execution_count": 16,
   "id": "f4f3f085",
   "metadata": {},
   "outputs": [
    {
     "data": {
      "text/html": [
       "<div>\n",
       "<style scoped>\n",
       "    .dataframe tbody tr th:only-of-type {\n",
       "        vertical-align: middle;\n",
       "    }\n",
       "\n",
       "    .dataframe tbody tr th {\n",
       "        vertical-align: top;\n",
       "    }\n",
       "\n",
       "    .dataframe thead th {\n",
       "        text-align: right;\n",
       "    }\n",
       "</style>\n",
       "<table border=\"1\" class=\"dataframe\">\n",
       "  <thead>\n",
       "    <tr style=\"text-align: right;\">\n",
       "      <th></th>\n",
       "      <th>subcategory_id</th>\n",
       "      <th>subcategory_name</th>\n",
       "      <th>category_id</th>\n",
       "    </tr>\n",
       "  </thead>\n",
       "  <tbody>\n",
       "    <tr>\n",
       "      <th>0</th>\n",
       "      <td>cf2e61c7af</td>\n",
       "      <td>Мобильные телефоны</td>\n",
       "      <td>09f279a643</td>\n",
       "    </tr>\n",
       "    <tr>\n",
       "      <th>1</th>\n",
       "      <td>0cd903d1cc</td>\n",
       "      <td>Ноутбуки</td>\n",
       "      <td>3509869a61</td>\n",
       "    </tr>\n",
       "    <tr>\n",
       "      <th>2</th>\n",
       "      <td>ef35bc88a7</td>\n",
       "      <td>Телевизоры</td>\n",
       "      <td>09f279a643</td>\n",
       "    </tr>\n",
       "    <tr>\n",
       "      <th>3</th>\n",
       "      <td>6ff9f4014c</td>\n",
       "      <td>Планшеты</td>\n",
       "      <td>3509869a61</td>\n",
       "    </tr>\n",
       "    <tr>\n",
       "      <th>4</th>\n",
       "      <td>72bc238e4d</td>\n",
       "      <td>Наушники и Bluetooth-гарнитуры</td>\n",
       "      <td>09f279a643</td>\n",
       "    </tr>\n",
       "  </tbody>\n",
       "</table>\n",
       "</div>"
      ],
      "text/plain": [
       "  subcategory_id                subcategory_name category_id\n",
       "0     cf2e61c7af              Мобильные телефоны  09f279a643\n",
       "1     0cd903d1cc                        Ноутбуки  3509869a61\n",
       "2     ef35bc88a7                      Телевизоры  09f279a643\n",
       "3     6ff9f4014c                        Планшеты  3509869a61\n",
       "4     72bc238e4d  Наушники и Bluetooth-гарнитуры  09f279a643"
      ]
     },
     "execution_count": 16,
     "metadata": {},
     "output_type": "execute_result"
    }
   ],
   "source": [
    "subcategory_dict = pd.read_excel('data/seo_data.xlsx', sheet_name='subcategory_ids')\n",
    "subcategory_dict.head()"
   ]
  },
  {
   "cell_type": "markdown",
   "id": "062afea4",
   "metadata": {},
   "source": [
    "#### 3. Mетодом read_excel() прочтём третий лист category_ids и сохраним его в переменной category_dict. Выведите на экран первые 5 строк листа методом head()."
   ]
  },
  {
   "cell_type": "code",
   "execution_count": 17,
   "id": "5b7738ef",
   "metadata": {},
   "outputs": [
    {
     "data": {
      "text/html": [
       "<div>\n",
       "<style scoped>\n",
       "    .dataframe tbody tr th:only-of-type {\n",
       "        vertical-align: middle;\n",
       "    }\n",
       "\n",
       "    .dataframe tbody tr th {\n",
       "        vertical-align: top;\n",
       "    }\n",
       "\n",
       "    .dataframe thead th {\n",
       "        text-align: right;\n",
       "    }\n",
       "</style>\n",
       "<table border=\"1\" class=\"dataframe\">\n",
       "  <thead>\n",
       "    <tr style=\"text-align: right;\">\n",
       "      <th></th>\n",
       "      <th>category_id</th>\n",
       "      <th>category_name</th>\n",
       "    </tr>\n",
       "  </thead>\n",
       "  <tbody>\n",
       "    <tr>\n",
       "      <th>0</th>\n",
       "      <td>09f279a643</td>\n",
       "      <td>Электроника</td>\n",
       "    </tr>\n",
       "    <tr>\n",
       "      <th>1</th>\n",
       "      <td>3509869a61</td>\n",
       "      <td>Компьютерная техника</td>\n",
       "    </tr>\n",
       "    <tr>\n",
       "      <th>2</th>\n",
       "      <td>65922fa39c</td>\n",
       "      <td>Авто</td>\n",
       "    </tr>\n",
       "    <tr>\n",
       "      <th>3</th>\n",
       "      <td>6074ad29ac</td>\n",
       "      <td>Одежда, обувь и аксессуары</td>\n",
       "    </tr>\n",
       "    <tr>\n",
       "      <th>4</th>\n",
       "      <td>10a493e03b</td>\n",
       "      <td>Товары для здоровья</td>\n",
       "    </tr>\n",
       "  </tbody>\n",
       "</table>\n",
       "</div>"
      ],
      "text/plain": [
       "  category_id               category_name\n",
       "0  09f279a643                 Электроника\n",
       "1  3509869a61        Компьютерная техника\n",
       "2  65922fa39c                        Авто\n",
       "3  6074ad29ac  Одежда, обувь и аксессуары\n",
       "4  10a493e03b         Товары для здоровья"
      ]
     },
     "execution_count": 17,
     "metadata": {},
     "output_type": "execute_result"
    }
   ],
   "source": [
    "category_dict = pd.read_excel('data/seo_data.xlsx', sheet_name='category_ids')\n",
    "category_dict.head()"
   ]
  },
  {
   "cell_type": "code",
   "execution_count": null,
   "id": "20c809c7",
   "metadata": {},
   "outputs": [],
   "source": []
  },
  {
   "cell_type": "markdown",
   "id": "f4312e49",
   "metadata": {},
   "source": [
    "#### 4. Переведите значения столбца 'id' из строк в числа методом to_numeric()."
   ]
  },
  {
   "cell_type": "code",
   "execution_count": 20,
   "id": "d54e82df",
   "metadata": {},
   "outputs": [
    {
     "name": "stdout",
     "output_type": "stream",
     "text": [
      "<class 'pandas.core.frame.DataFrame'>\n",
      "RangeIndex: 49 entries, 0 to 48\n",
      "Data columns (total 3 columns):\n",
      " #   Column    Non-Null Count  Dtype \n",
      "---  ------    --------------  ----- \n",
      " 0   id        49 non-null     object\n",
      " 1   category  49 non-null     object\n",
      " 2   amount    49 non-null     object\n",
      "dtypes: object(3)\n",
      "memory usage: 1.3+ KB\n"
     ]
    }
   ],
   "source": [
    "df = pd.read_excel('data/ids.xlsx')\n",
    "df.info()"
   ]
  },
  {
   "cell_type": "code",
   "execution_count": 28,
   "id": "400f08ff",
   "metadata": {},
   "outputs": [
    {
     "name": "stdout",
     "output_type": "stream",
     "text": [
      "<class 'pandas.core.frame.DataFrame'>\n",
      "RangeIndex: 49 entries, 0 to 48\n",
      "Data columns (total 3 columns):\n",
      " #   Column    Non-Null Count  Dtype \n",
      "---  ------    --------------  ----- \n",
      " 0   id        49 non-null     int64 \n",
      " 1   category  49 non-null     object\n",
      " 2   amount    49 non-null     object\n",
      "dtypes: int64(1), object(2)\n",
      "memory usage: 1.3+ KB\n"
     ]
    }
   ],
   "source": [
    "df['id'] = df['id'].replace('Null', None)\n",
    "df['id'] = pd.to_numeric(df['id'])\n",
    "df.info()"
   ]
  },
  {
   "cell_type": "markdown",
   "id": "2b017c12",
   "metadata": {},
   "source": [
    "#### 5. Методом to_numeric() превратите значения столбца amount в числа, заменив некорректные значения на NaN. Проверьте результаты преобразований методом info()."
   ]
  },
  {
   "cell_type": "code",
   "execution_count": 31,
   "id": "d1ce7cfa",
   "metadata": {},
   "outputs": [],
   "source": [
    "df['amount'] = pd.to_numeric(df['amount'], errors='coerce')"
   ]
  },
  {
   "cell_type": "markdown",
   "id": "11ea79d6",
   "metadata": {},
   "source": [
    "#### 6. Посчитайте общую стоимость проданных товаров — сумму значений столбца amount "
   ]
  },
  {
   "cell_type": "code",
   "execution_count": 33,
   "id": "765b30a9",
   "metadata": {},
   "outputs": [
    {
     "data": {
      "text/plain": [
       "596107.1"
      ]
     },
     "execution_count": 33,
     "metadata": {},
     "output_type": "execute_result"
    }
   ],
   "source": [
    "total = df['amount'].sum()\n",
    "total"
   ]
  },
  {
   "cell_type": "markdown",
   "id": "ac1e240f",
   "metadata": {},
   "source": [
    "#### 7. Рассчитайте сумму продаж для каждой категории."
   ]
  },
  {
   "cell_type": "code",
   "execution_count": 34,
   "id": "823f5e0b",
   "metadata": {},
   "outputs": [
    {
     "data": {
      "text/plain": [
       "category\n",
       "A       133988.50\n",
       "B       168617.89\n",
       "C       173332.50\n",
       "D        62630.82\n",
       "E        57537.39\n",
       "Null         0.00\n",
       "Name: amount, dtype: float64"
      ]
     },
     "execution_count": 34,
     "metadata": {},
     "output_type": "execute_result"
    }
   ],
   "source": [
    "category_amount = df.groupby('category')['amount'].sum()\n",
    "category_amount"
   ]
  },
  {
   "cell_type": "markdown",
   "id": "9623da32",
   "metadata": {},
   "source": [
    "#### 8. Вернитесь к таблице с трафиком: вы сможете найти сумму визитов.Раньше вместо неё получались склеенные названия категорий, а столбец visits определялся как строковый (тип object).Переведите значения столбца visits датафрейма data в числовой тип методом to_numeric()"
   ]
  },
  {
   "cell_type": "code",
   "execution_count": 37,
   "id": "d50b8499",
   "metadata": {},
   "outputs": [
    {
     "name": "stdout",
     "output_type": "stream",
     "text": [
      "<class 'pandas.core.frame.DataFrame'>\n",
      "RangeIndex: 1930 entries, 0 to 1929\n",
      "Data columns (total 4 columns):\n",
      " #   Column          Non-Null Count  Dtype  \n",
      "---  ------          --------------  -----  \n",
      " 0   subcategory_id  1930 non-null   object \n",
      " 1   source          1930 non-null   object \n",
      " 2   visits          1928 non-null   float64\n",
      " 3   Unnamed: 3      0 non-null      float64\n",
      "dtypes: float64(2), object(2)\n",
      "memory usage: 60.4+ KB\n"
     ]
    }
   ],
   "source": [
    "data['visits'] = pd.to_numeric(data['visits'], errors='coerce')\n",
    "data.info()"
   ]
  },
  {
   "cell_type": "markdown",
   "id": "9b034c7a",
   "metadata": {},
   "source": [
    "#### 9. Узнайте, что не так со строкой 964. Вызовите знакомый из вводного курса метод loc."
   ]
  },
  {
   "cell_type": "code",
   "execution_count": 38,
   "id": "6618f38e",
   "metadata": {},
   "outputs": [
    {
     "data": {
      "text/plain": [
       "subcategory_id     total\n",
       "source            direct\n",
       "visits               NaN\n",
       "Unnamed: 3           NaN\n",
       "Name: 964, dtype: object"
      ]
     },
     "execution_count": 38,
     "metadata": {},
     "output_type": "execute_result"
    }
   ],
   "source": [
    "data.loc[964]"
   ]
  },
  {
   "cell_type": "markdown",
   "id": "90c5b10d",
   "metadata": {},
   "source": [
    "#### 10. Вычислите, сколько всего строк в датафрейме и выведите на экран.Затем выведите на экран строки, которые имеют значение 'total' в столбце 'subcategory_id'. Изучите полученные результаты: сколько строк портят весь датасет?"
   ]
  },
  {
   "cell_type": "code",
   "execution_count": 39,
   "id": "73bb1e7c",
   "metadata": {},
   "outputs": [
    {
     "name": "stdout",
     "output_type": "stream",
     "text": [
      "Кол-во строк 1930\n"
     ]
    }
   ],
   "source": [
    "print('Кол-во строк', data.shape[0])"
   ]
  },
  {
   "cell_type": "code",
   "execution_count": 41,
   "id": "fcc0e265",
   "metadata": {},
   "outputs": [
    {
     "data": {
      "text/html": [
       "<div>\n",
       "<style scoped>\n",
       "    .dataframe tbody tr th:only-of-type {\n",
       "        vertical-align: middle;\n",
       "    }\n",
       "\n",
       "    .dataframe tbody tr th {\n",
       "        vertical-align: top;\n",
       "    }\n",
       "\n",
       "    .dataframe thead th {\n",
       "        text-align: right;\n",
       "    }\n",
       "</style>\n",
       "<table border=\"1\" class=\"dataframe\">\n",
       "  <thead>\n",
       "    <tr style=\"text-align: right;\">\n",
       "      <th></th>\n",
       "      <th>subcategory_id</th>\n",
       "      <th>source</th>\n",
       "      <th>visits</th>\n",
       "      <th>Unnamed: 3</th>\n",
       "    </tr>\n",
       "  </thead>\n",
       "  <tbody>\n",
       "    <tr>\n",
       "      <th>964</th>\n",
       "      <td>total</td>\n",
       "      <td>direct</td>\n",
       "      <td>NaN</td>\n",
       "      <td>NaN</td>\n",
       "    </tr>\n",
       "    <tr>\n",
       "      <th>1929</th>\n",
       "      <td>total</td>\n",
       "      <td>organic</td>\n",
       "      <td>NaN</td>\n",
       "      <td>NaN</td>\n",
       "    </tr>\n",
       "  </tbody>\n",
       "</table>\n",
       "</div>"
      ],
      "text/plain": [
       "     subcategory_id   source  visits  Unnamed: 3\n",
       "964           total   direct     NaN         NaN\n",
       "1929          total  organic     NaN         NaN"
      ]
     },
     "execution_count": 41,
     "metadata": {},
     "output_type": "execute_result"
    }
   ],
   "source": [
    "total_rows = data[data['subcategory_id'] == 'total']\n",
    "total_rows  #2"
   ]
  },
  {
   "cell_type": "markdown",
   "id": "4a6c5a8a",
   "metadata": {},
   "source": [
    "#### 11. Оставьте в датафрейме только строки, удовлетворяющие условию data['subcategory_id'] != 'total'. Проверьте результат: выведите на экран датафрейм с условием data['subcategory_id'] == 'total'."
   ]
  },
  {
   "cell_type": "code",
   "execution_count": 44,
   "id": "42db965e",
   "metadata": {},
   "outputs": [
    {
     "name": "stdout",
     "output_type": "stream",
     "text": [
      "<class 'pandas.core.frame.DataFrame'>\n",
      "Int64Index: 1928 entries, 0 to 1928\n",
      "Data columns (total 4 columns):\n",
      " #   Column          Non-Null Count  Dtype  \n",
      "---  ------          --------------  -----  \n",
      " 0   subcategory_id  1928 non-null   object \n",
      " 1   source          1928 non-null   object \n",
      " 2   visits          1928 non-null   float64\n",
      " 3   Unnamed: 3      0 non-null      float64\n",
      "dtypes: float64(2), object(2)\n",
      "memory usage: 75.3+ KB\n"
     ]
    }
   ],
   "source": [
    "data = data[data['subcategory_id'] != 'total']\n",
    "data.info()  # строк стало на 2 меньше"
   ]
  },
  {
   "cell_type": "markdown",
   "id": "d73ae212",
   "metadata": {},
   "source": [
    "#### 12. Измените тип данных в столбце ['visits'] на integer. Проверьте полученный результат, вызвав метод info()."
   ]
  },
  {
   "cell_type": "code",
   "execution_count": 46,
   "id": "b3ff91e1",
   "metadata": {},
   "outputs": [
    {
     "name": "stdout",
     "output_type": "stream",
     "text": [
      "<class 'pandas.core.frame.DataFrame'>\n",
      "Int64Index: 1928 entries, 0 to 1928\n",
      "Data columns (total 4 columns):\n",
      " #   Column          Non-Null Count  Dtype  \n",
      "---  ------          --------------  -----  \n",
      " 0   subcategory_id  1928 non-null   object \n",
      " 1   source          1928 non-null   object \n",
      " 2   visits          1928 non-null   int32  \n",
      " 3   Unnamed: 3      0 non-null      float64\n",
      "dtypes: float64(1), int32(1), object(2)\n",
      "memory usage: 67.8+ KB\n"
     ]
    }
   ],
   "source": [
    "data['visits'] = data['visits'].astype(int)\n",
    "data.info()"
   ]
  },
  {
   "cell_type": "markdown",
   "id": "b9268ba6",
   "metadata": {},
   "source": [
    "#### 13. Сгруппируйте данные по источникам и вычислите количество визитов для каждого источника. Выведите результат на экран."
   ]
  },
  {
   "cell_type": "code",
   "execution_count": 50,
   "id": "ca19a94a",
   "metadata": {},
   "outputs": [
    {
     "data": {
      "text/plain": [
       "source\n",
       "direct     2368980\n",
       "organic    5687407\n",
       "Name: visits, dtype: int32"
      ]
     },
     "execution_count": 50,
     "metadata": {},
     "output_type": "execute_result"
    }
   ],
   "source": [
    "category_visits = data.groupby('source')['visits'].sum()\n",
    "category_visits"
   ]
  },
  {
   "cell_type": "code",
   "execution_count": null,
   "id": "cdc0414f",
   "metadata": {},
   "outputs": [],
   "source": []
  },
  {
   "cell_type": "markdown",
   "id": "704fce01",
   "metadata": {},
   "source": [
    "#### 14. Прочитайте файл с данными о позиции в поисковой выдаче за 3 месяца. Выведите первые 15 строк на экран."
   ]
  },
  {
   "cell_type": "code",
   "execution_count": 53,
   "id": "db7df549",
   "metadata": {},
   "outputs": [
    {
     "data": {
      "text/html": [
       "<div>\n",
       "<style scoped>\n",
       "    .dataframe tbody tr th:only-of-type {\n",
       "        vertical-align: middle;\n",
       "    }\n",
       "\n",
       "    .dataframe tbody tr th {\n",
       "        vertical-align: top;\n",
       "    }\n",
       "\n",
       "    .dataframe thead th {\n",
       "        text-align: right;\n",
       "    }\n",
       "</style>\n",
       "<table border=\"1\" class=\"dataframe\">\n",
       "  <thead>\n",
       "    <tr style=\"text-align: right;\">\n",
       "      <th></th>\n",
       "      <th>timestamp</th>\n",
       "      <th>level</th>\n",
       "      <th>page_id</th>\n",
       "    </tr>\n",
       "  </thead>\n",
       "  <tbody>\n",
       "    <tr>\n",
       "      <th>0</th>\n",
       "      <td>2019-02-04T13:22:34</td>\n",
       "      <td>1</td>\n",
       "      <td>6ukoNykP</td>\n",
       "    </tr>\n",
       "    <tr>\n",
       "      <th>1</th>\n",
       "      <td>2019-02-06T15:30:54</td>\n",
       "      <td>1</td>\n",
       "      <td>Q62R1Ue7</td>\n",
       "    </tr>\n",
       "    <tr>\n",
       "      <th>2</th>\n",
       "      <td>2019-02-08T14:53:45</td>\n",
       "      <td>1</td>\n",
       "      <td>GmfSxgPs</td>\n",
       "    </tr>\n",
       "    <tr>\n",
       "      <th>3</th>\n",
       "      <td>2019-02-10T16:50:22</td>\n",
       "      <td>2</td>\n",
       "      <td>M56OK96C</td>\n",
       "    </tr>\n",
       "    <tr>\n",
       "      <th>4</th>\n",
       "      <td>2019-02-12T14:16:28</td>\n",
       "      <td>1</td>\n",
       "      <td>q2fqVqPc</td>\n",
       "    </tr>\n",
       "    <tr>\n",
       "      <th>5</th>\n",
       "      <td>2019-02-14T15:10:45</td>\n",
       "      <td>1</td>\n",
       "      <td>LioXfSPk</td>\n",
       "    </tr>\n",
       "    <tr>\n",
       "      <th>6</th>\n",
       "      <td>2019-02-16T14:52:23</td>\n",
       "      <td>3</td>\n",
       "      <td>bQXWpQ2z</td>\n",
       "    </tr>\n",
       "    <tr>\n",
       "      <th>7</th>\n",
       "      <td>2019-02-18T15:45:33</td>\n",
       "      <td>2</td>\n",
       "      <td>gsFVGOTy</td>\n",
       "    </tr>\n",
       "    <tr>\n",
       "      <th>8</th>\n",
       "      <td>2019-02-20T16:35:12</td>\n",
       "      <td>3</td>\n",
       "      <td>zVuiSTm1</td>\n",
       "    </tr>\n",
       "    <tr>\n",
       "      <th>9</th>\n",
       "      <td>2019-02-22T15:52:27</td>\n",
       "      <td>1</td>\n",
       "      <td>kuULtbnm</td>\n",
       "    </tr>\n",
       "    <tr>\n",
       "      <th>10</th>\n",
       "      <td>2019-02-24T12:39:30</td>\n",
       "      <td>2</td>\n",
       "      <td>MKDhBt9L</td>\n",
       "    </tr>\n",
       "    <tr>\n",
       "      <th>11</th>\n",
       "      <td>2019-02-26T12:45:10</td>\n",
       "      <td>3</td>\n",
       "      <td>FEgRztcr</td>\n",
       "    </tr>\n",
       "    <tr>\n",
       "      <th>12</th>\n",
       "      <td>2019-03-04T15:34:46</td>\n",
       "      <td>4</td>\n",
       "      <td>OUBWQSCl</td>\n",
       "    </tr>\n",
       "    <tr>\n",
       "      <th>13</th>\n",
       "      <td>2019-03-06T14:20:57</td>\n",
       "      <td>5</td>\n",
       "      <td>6YeTUHgm</td>\n",
       "    </tr>\n",
       "    <tr>\n",
       "      <th>14</th>\n",
       "      <td>2019-03-08T12:34:43</td>\n",
       "      <td>6</td>\n",
       "      <td>zlrBrZ0d</td>\n",
       "    </tr>\n",
       "  </tbody>\n",
       "</table>\n",
       "</div>"
      ],
      "text/plain": [
       "              timestamp  level   page_id\n",
       "0   2019-02-04T13:22:34      1  6ukoNykP\n",
       "1   2019-02-06T15:30:54      1  Q62R1Ue7\n",
       "2   2019-02-08T14:53:45      1  GmfSxgPs\n",
       "3   2019-02-10T16:50:22      2  M56OK96C\n",
       "4   2019-02-12T14:16:28      1  q2fqVqPc\n",
       "5   2019-02-14T15:10:45      1  LioXfSPk\n",
       "6   2019-02-16T14:52:23      3  bQXWpQ2z\n",
       "7   2019-02-18T15:45:33      2  gsFVGOTy\n",
       "8   2019-02-20T16:35:12      3  zVuiSTm1\n",
       "9   2019-02-22T15:52:27      1  kuULtbnm\n",
       "10  2019-02-24T12:39:30      2  MKDhBt9L\n",
       "11  2019-02-26T12:45:10      3  FEgRztcr\n",
       "12  2019-03-04T15:34:46      4  OUBWQSCl\n",
       "13  2019-03-06T14:20:57      5  6YeTUHgm\n",
       "14  2019-03-08T12:34:43      6  zlrBrZ0d"
      ]
     },
     "execution_count": 53,
     "metadata": {},
     "output_type": "execute_result"
    }
   ],
   "source": [
    "position = pd.read_csv('data/position.csv')\n",
    "position.head(15)"
   ]
  },
  {
   "cell_type": "code",
   "execution_count": 54,
   "id": "4c50b787",
   "metadata": {},
   "outputs": [
    {
     "name": "stdout",
     "output_type": "stream",
     "text": [
      "<class 'pandas.core.frame.DataFrame'>\n",
      "RangeIndex: 39 entries, 0 to 38\n",
      "Data columns (total 3 columns):\n",
      " #   Column     Non-Null Count  Dtype \n",
      "---  ------     --------------  ----- \n",
      " 0   timestamp  39 non-null     object\n",
      " 1   level      39 non-null     int64 \n",
      " 2   page_id    39 non-null     object\n",
      "dtypes: int64(1), object(2)\n",
      "memory usage: 1.0+ KB\n"
     ]
    }
   ],
   "source": [
    "position.info()"
   ]
  },
  {
   "cell_type": "markdown",
   "id": "a926f358",
   "metadata": {},
   "source": [
    "#### 15. Обработайте данные о времени в столбце 'timestamp': переведите их из строкового типа в datetime64. Разделителем даты и времени назначьте заглавную латинскую T. Выведите на экран первые 5 строк таблицы position."
   ]
  },
  {
   "cell_type": "code",
   "execution_count": 57,
   "id": "7dc58289",
   "metadata": {},
   "outputs": [
    {
     "data": {
      "text/html": [
       "<div>\n",
       "<style scoped>\n",
       "    .dataframe tbody tr th:only-of-type {\n",
       "        vertical-align: middle;\n",
       "    }\n",
       "\n",
       "    .dataframe tbody tr th {\n",
       "        vertical-align: top;\n",
       "    }\n",
       "\n",
       "    .dataframe thead th {\n",
       "        text-align: right;\n",
       "    }\n",
       "</style>\n",
       "<table border=\"1\" class=\"dataframe\">\n",
       "  <thead>\n",
       "    <tr style=\"text-align: right;\">\n",
       "      <th></th>\n",
       "      <th>timestamp</th>\n",
       "      <th>level</th>\n",
       "      <th>page_id</th>\n",
       "    </tr>\n",
       "  </thead>\n",
       "  <tbody>\n",
       "    <tr>\n",
       "      <th>0</th>\n",
       "      <td>2019-02-04 13:22:34</td>\n",
       "      <td>1</td>\n",
       "      <td>6ukoNykP</td>\n",
       "    </tr>\n",
       "    <tr>\n",
       "      <th>1</th>\n",
       "      <td>2019-02-06 15:30:54</td>\n",
       "      <td>1</td>\n",
       "      <td>Q62R1Ue7</td>\n",
       "    </tr>\n",
       "    <tr>\n",
       "      <th>2</th>\n",
       "      <td>2019-02-08 14:53:45</td>\n",
       "      <td>1</td>\n",
       "      <td>GmfSxgPs</td>\n",
       "    </tr>\n",
       "    <tr>\n",
       "      <th>3</th>\n",
       "      <td>2019-02-10 16:50:22</td>\n",
       "      <td>2</td>\n",
       "      <td>M56OK96C</td>\n",
       "    </tr>\n",
       "    <tr>\n",
       "      <th>4</th>\n",
       "      <td>2019-02-12 14:16:28</td>\n",
       "      <td>1</td>\n",
       "      <td>q2fqVqPc</td>\n",
       "    </tr>\n",
       "  </tbody>\n",
       "</table>\n",
       "</div>"
      ],
      "text/plain": [
       "            timestamp  level   page_id\n",
       "0 2019-02-04 13:22:34      1  6ukoNykP\n",
       "1 2019-02-06 15:30:54      1  Q62R1Ue7\n",
       "2 2019-02-08 14:53:45      1  GmfSxgPs\n",
       "3 2019-02-10 16:50:22      2  M56OK96C\n",
       "4 2019-02-12 14:16:28      1  q2fqVqPc"
      ]
     },
     "execution_count": 57,
     "metadata": {},
     "output_type": "execute_result"
    }
   ],
   "source": [
    "position['timestamp'] = pd.to_datetime(position['timestamp'], format='%Y-%m-%dT%H:%M:%S')\n",
    "position.head()"
   ]
  },
  {
   "cell_type": "markdown",
   "id": "8bf88750",
   "metadata": {},
   "source": [
    "#### 16. Отсортируйте таблицу position по столбцу 'level' в порядке убывания и выведите на экран."
   ]
  },
  {
   "cell_type": "code",
   "execution_count": 61,
   "id": "abf14d82",
   "metadata": {},
   "outputs": [
    {
     "name": "stdout",
     "output_type": "stream",
     "text": [
      "             timestamp  level   page_id\n",
      "22 2019-03-24 13:49:22      9  WklxK6k4\n",
      "38 2019-04-27 12:48:14      8  5VRryKr6\n",
      "35 2019-04-21 14:40:17      8  JvTMAbs7\n",
      "30 2019-04-11 13:39:15      8  9mL07Mjl\n",
      "21 2019-03-22 16:36:19      8  s24ZIat3\n",
      "15 2019-03-10 13:12:57      7  Vih5ARKA\n",
      "34 2019-04-19 15:43:24      7  MSHZViNg\n",
      "31 2019-04-13 12:13:26      7  ILfc3WmK\n",
      "29 2019-04-09 14:57:20      7  SfnhoGh6\n",
      "27 2019-04-05 14:51:38      7  7JKRCdPA\n",
      "20 2019-03-20 15:53:36      7  VkTjZ6co\n",
      "37 2019-04-25 16:10:50      6  clLGJ4g3\n",
      "33 2019-04-17 16:54:17      6  JjIZd3Jy\n",
      "28 2019-04-07 16:29:58      6  bsORIc79\n",
      "24 2019-03-28 15:28:17      6  aQdvnaZX\n",
      "19 2019-03-18 16:47:36      6  057NPKXX\n",
      "14 2019-03-08 12:34:43      6  zlrBrZ0d\n",
      "18 2019-03-16 16:18:34      5  zPH6tQwc\n",
      "36 2019-04-23 13:17:19      5  6KVLFFQF\n",
      "13 2019-03-06 14:20:57      5  6YeTUHgm\n",
      "23 2019-03-26 15:50:31      5  p4Ofo5uP\n",
      "25 2019-04-01 13:43:49      5  7UCXvXJu\n",
      "32 2019-04-15 12:28:54      5  sCKAcOTN\n",
      "12 2019-03-04 15:34:46      4  OUBWQSCl\n",
      "17 2019-03-14 12:46:19      4  g4si3TQ8\n",
      "16 2019-03-12 15:33:28      3  Y3wTtqaJ\n",
      "6  2019-02-16 14:52:23      3  bQXWpQ2z\n",
      "11 2019-02-26 12:45:10      3  FEgRztcr\n",
      "8  2019-02-20 16:35:12      3  zVuiSTm1\n",
      "3  2019-02-10 16:50:22      2  M56OK96C\n",
      "10 2019-02-24 12:39:30      2  MKDhBt9L\n",
      "7  2019-02-18 15:45:33      2  gsFVGOTy\n",
      "26 2019-04-03 15:12:15      2  NJ1D9dAt\n",
      "9  2019-02-22 15:52:27      1  kuULtbnm\n",
      "5  2019-02-14 15:10:45      1  LioXfSPk\n",
      "4  2019-02-12 14:16:28      1  q2fqVqPc\n",
      "1  2019-02-06 15:30:54      1  Q62R1Ue7\n",
      "2  2019-02-08 14:53:45      1  GmfSxgPs\n",
      "0  2019-02-04 13:22:34      1  6ukoNykP\n"
     ]
    }
   ],
   "source": [
    "print(position.sort_values('level', ascending=False))"
   ]
  },
  {
   "cell_type": "markdown",
   "id": "6dda6331",
   "metadata": {},
   "source": [
    "#### 17. Добавьте столбец 'month' в таблицу position с номером месяца. Выведите на экран первые 5 строк таблицы position."
   ]
  },
  {
   "cell_type": "code",
   "execution_count": 64,
   "id": "d5698f5f",
   "metadata": {},
   "outputs": [
    {
     "data": {
      "text/html": [
       "<div>\n",
       "<style scoped>\n",
       "    .dataframe tbody tr th:only-of-type {\n",
       "        vertical-align: middle;\n",
       "    }\n",
       "\n",
       "    .dataframe tbody tr th {\n",
       "        vertical-align: top;\n",
       "    }\n",
       "\n",
       "    .dataframe thead th {\n",
       "        text-align: right;\n",
       "    }\n",
       "</style>\n",
       "<table border=\"1\" class=\"dataframe\">\n",
       "  <thead>\n",
       "    <tr style=\"text-align: right;\">\n",
       "      <th></th>\n",
       "      <th>timestamp</th>\n",
       "      <th>level</th>\n",
       "      <th>page_id</th>\n",
       "      <th>month</th>\n",
       "    </tr>\n",
       "  </thead>\n",
       "  <tbody>\n",
       "    <tr>\n",
       "      <th>0</th>\n",
       "      <td>2019-02-04 13:22:34</td>\n",
       "      <td>1</td>\n",
       "      <td>6ukoNykP</td>\n",
       "      <td>2</td>\n",
       "    </tr>\n",
       "    <tr>\n",
       "      <th>1</th>\n",
       "      <td>2019-02-06 15:30:54</td>\n",
       "      <td>1</td>\n",
       "      <td>Q62R1Ue7</td>\n",
       "      <td>2</td>\n",
       "    </tr>\n",
       "    <tr>\n",
       "      <th>2</th>\n",
       "      <td>2019-02-08 14:53:45</td>\n",
       "      <td>1</td>\n",
       "      <td>GmfSxgPs</td>\n",
       "      <td>2</td>\n",
       "    </tr>\n",
       "    <tr>\n",
       "      <th>3</th>\n",
       "      <td>2019-02-10 16:50:22</td>\n",
       "      <td>2</td>\n",
       "      <td>M56OK96C</td>\n",
       "      <td>2</td>\n",
       "    </tr>\n",
       "    <tr>\n",
       "      <th>4</th>\n",
       "      <td>2019-02-12 14:16:28</td>\n",
       "      <td>1</td>\n",
       "      <td>q2fqVqPc</td>\n",
       "      <td>2</td>\n",
       "    </tr>\n",
       "  </tbody>\n",
       "</table>\n",
       "</div>"
      ],
      "text/plain": [
       "            timestamp  level   page_id  month\n",
       "0 2019-02-04 13:22:34      1  6ukoNykP      2\n",
       "1 2019-02-06 15:30:54      1  Q62R1Ue7      2\n",
       "2 2019-02-08 14:53:45      1  GmfSxgPs      2\n",
       "3 2019-02-10 16:50:22      2  M56OK96C      2\n",
       "4 2019-02-12 14:16:28      1  q2fqVqPc      2"
      ]
     },
     "execution_count": 64,
     "metadata": {},
     "output_type": "execute_result"
    }
   ],
   "source": [
    "position['month'] = pd.DatetimeIndex(position['timestamp']).month \n",
    "position.head()"
   ]
  },
  {
   "cell_type": "markdown",
   "id": "6da64965",
   "metadata": {},
   "source": [
    "#### 18. Сгруппируйте данные по столбцу 'month' и найдите среднюю позицию в выдаче по месяцам (level). Результат группировки выведите на экран."
   ]
  },
  {
   "cell_type": "code",
   "execution_count": 65,
   "id": "a2a47280",
   "metadata": {},
   "outputs": [
    {
     "name": "stdout",
     "output_type": "stream",
     "text": [
      "month\n",
      "2    1.750000\n",
      "3    5.769231\n",
      "4    6.214286\n",
      "Name: level, dtype: float64\n"
     ]
    }
   ],
   "source": [
    "print(position.groupby('month')['level'].mean())"
   ]
  },
  {
   "cell_type": "code",
   "execution_count": null,
   "id": "43af658d",
   "metadata": {},
   "outputs": [],
   "source": []
  },
  {
   "cell_type": "markdown",
   "id": "bb9de0d8",
   "metadata": {},
   "source": [
    "#### 19. Объедините самостоятельно таблицы subcategory_dict и data. Результат сохраните в переменной data_subcategory и выведите на экран первые 10 строк новой таблицы."
   ]
  },
  {
   "cell_type": "code",
   "execution_count": 66,
   "id": "c6bd7eac",
   "metadata": {},
   "outputs": [
    {
     "data": {
      "text/html": [
       "<div>\n",
       "<style scoped>\n",
       "    .dataframe tbody tr th:only-of-type {\n",
       "        vertical-align: middle;\n",
       "    }\n",
       "\n",
       "    .dataframe tbody tr th {\n",
       "        vertical-align: top;\n",
       "    }\n",
       "\n",
       "    .dataframe thead th {\n",
       "        text-align: right;\n",
       "    }\n",
       "</style>\n",
       "<table border=\"1\" class=\"dataframe\">\n",
       "  <thead>\n",
       "    <tr style=\"text-align: right;\">\n",
       "      <th></th>\n",
       "      <th>subcategory_id</th>\n",
       "      <th>source</th>\n",
       "      <th>visits</th>\n",
       "      <th>Unnamed: 3</th>\n",
       "      <th>subcategory_name</th>\n",
       "      <th>category_id</th>\n",
       "    </tr>\n",
       "  </thead>\n",
       "  <tbody>\n",
       "    <tr>\n",
       "      <th>0</th>\n",
       "      <td>cf2e61c7af</td>\n",
       "      <td>direct</td>\n",
       "      <td>501165</td>\n",
       "      <td>NaN</td>\n",
       "      <td>Мобильные телефоны</td>\n",
       "      <td>09f279a643</td>\n",
       "    </tr>\n",
       "    <tr>\n",
       "      <th>1</th>\n",
       "      <td>0cd903d1cc</td>\n",
       "      <td>direct</td>\n",
       "      <td>126342</td>\n",
       "      <td>NaN</td>\n",
       "      <td>Ноутбуки</td>\n",
       "      <td>3509869a61</td>\n",
       "    </tr>\n",
       "    <tr>\n",
       "      <th>2</th>\n",
       "      <td>ef35bc88a7</td>\n",
       "      <td>direct</td>\n",
       "      <td>95626</td>\n",
       "      <td>NaN</td>\n",
       "      <td>Телевизоры</td>\n",
       "      <td>09f279a643</td>\n",
       "    </tr>\n",
       "    <tr>\n",
       "      <th>3</th>\n",
       "      <td>6ff9f4014c</td>\n",
       "      <td>direct</td>\n",
       "      <td>75680</td>\n",
       "      <td>NaN</td>\n",
       "      <td>Планшеты</td>\n",
       "      <td>3509869a61</td>\n",
       "    </tr>\n",
       "    <tr>\n",
       "      <th>4</th>\n",
       "      <td>72bc238e4d</td>\n",
       "      <td>direct</td>\n",
       "      <td>64435</td>\n",
       "      <td>NaN</td>\n",
       "      <td>Наушники и Bluetooth-гарнитуры</td>\n",
       "      <td>09f279a643</td>\n",
       "    </tr>\n",
       "    <tr>\n",
       "      <th>5</th>\n",
       "      <td>88c78ea685</td>\n",
       "      <td>direct</td>\n",
       "      <td>39638</td>\n",
       "      <td>NaN</td>\n",
       "      <td>Шины</td>\n",
       "      <td>65922fa39c</td>\n",
       "    </tr>\n",
       "    <tr>\n",
       "      <th>6</th>\n",
       "      <td>179bfacf4a</td>\n",
       "      <td>direct</td>\n",
       "      <td>31007</td>\n",
       "      <td>NaN</td>\n",
       "      <td>Умные часы и браслеты</td>\n",
       "      <td>09f279a643</td>\n",
       "    </tr>\n",
       "    <tr>\n",
       "      <th>7</th>\n",
       "      <td>b0fb8f259a</td>\n",
       "      <td>direct</td>\n",
       "      <td>30324</td>\n",
       "      <td>NaN</td>\n",
       "      <td>Мониторы</td>\n",
       "      <td>3509869a61</td>\n",
       "    </tr>\n",
       "    <tr>\n",
       "      <th>8</th>\n",
       "      <td>3c67eb2d90</td>\n",
       "      <td>direct</td>\n",
       "      <td>25878</td>\n",
       "      <td>NaN</td>\n",
       "      <td>Наручные часы</td>\n",
       "      <td>6074ad29ac</td>\n",
       "    </tr>\n",
       "    <tr>\n",
       "      <th>9</th>\n",
       "      <td>24e6c815c6</td>\n",
       "      <td>direct</td>\n",
       "      <td>25276</td>\n",
       "      <td>NaN</td>\n",
       "      <td>Лекарственные препараты и БАДы</td>\n",
       "      <td>10a493e03b</td>\n",
       "    </tr>\n",
       "  </tbody>\n",
       "</table>\n",
       "</div>"
      ],
      "text/plain": [
       "  subcategory_id  source  visits  Unnamed: 3                subcategory_name  \\\n",
       "0     cf2e61c7af  direct  501165         NaN              Мобильные телефоны   \n",
       "1     0cd903d1cc  direct  126342         NaN                        Ноутбуки   \n",
       "2     ef35bc88a7  direct   95626         NaN                      Телевизоры   \n",
       "3     6ff9f4014c  direct   75680         NaN                        Планшеты   \n",
       "4     72bc238e4d  direct   64435         NaN  Наушники и Bluetooth-гарнитуры   \n",
       "5     88c78ea685  direct   39638         NaN                            Шины   \n",
       "6     179bfacf4a  direct   31007         NaN           Умные часы и браслеты   \n",
       "7     b0fb8f259a  direct   30324         NaN                        Мониторы   \n",
       "8     3c67eb2d90  direct   25878         NaN                   Наручные часы   \n",
       "9     24e6c815c6  direct   25276         NaN  Лекарственные препараты и БАДы   \n",
       "\n",
       "  category_id  \n",
       "0  09f279a643  \n",
       "1  3509869a61  \n",
       "2  09f279a643  \n",
       "3  3509869a61  \n",
       "4  09f279a643  \n",
       "5  65922fa39c  \n",
       "6  09f279a643  \n",
       "7  3509869a61  \n",
       "8  6074ad29ac  \n",
       "9  10a493e03b  "
      ]
     },
     "execution_count": 66,
     "metadata": {},
     "output_type": "execute_result"
    }
   ],
   "source": [
    "data_subcategory = data.merge(subcategory_dict, on='subcategory_id', how='left')\n",
    "data_subcategory.head(10)"
   ]
  },
  {
   "cell_type": "markdown",
   "id": "6435fe94",
   "metadata": {},
   "source": [
    "#### 20. Получившуюся таблицу объедините с таблицей category_dict"
   ]
  },
  {
   "cell_type": "code",
   "execution_count": 70,
   "id": "107ad0e4",
   "metadata": {},
   "outputs": [
    {
     "data": {
      "text/html": [
       "<div>\n",
       "<style scoped>\n",
       "    .dataframe tbody tr th:only-of-type {\n",
       "        vertical-align: middle;\n",
       "    }\n",
       "\n",
       "    .dataframe tbody tr th {\n",
       "        vertical-align: top;\n",
       "    }\n",
       "\n",
       "    .dataframe thead th {\n",
       "        text-align: right;\n",
       "    }\n",
       "</style>\n",
       "<table border=\"1\" class=\"dataframe\">\n",
       "  <thead>\n",
       "    <tr style=\"text-align: right;\">\n",
       "      <th></th>\n",
       "      <th>subcategory_id</th>\n",
       "      <th>source</th>\n",
       "      <th>visits</th>\n",
       "      <th>Unnamed: 3</th>\n",
       "      <th>subcategory_name</th>\n",
       "      <th>category_id</th>\n",
       "      <th>category_name</th>\n",
       "    </tr>\n",
       "  </thead>\n",
       "  <tbody>\n",
       "    <tr>\n",
       "      <th>0</th>\n",
       "      <td>cf2e61c7af</td>\n",
       "      <td>direct</td>\n",
       "      <td>501165</td>\n",
       "      <td>NaN</td>\n",
       "      <td>Мобильные телефоны</td>\n",
       "      <td>09f279a643</td>\n",
       "      <td>Электроника</td>\n",
       "    </tr>\n",
       "    <tr>\n",
       "      <th>1</th>\n",
       "      <td>0cd903d1cc</td>\n",
       "      <td>direct</td>\n",
       "      <td>126342</td>\n",
       "      <td>NaN</td>\n",
       "      <td>Ноутбуки</td>\n",
       "      <td>3509869a61</td>\n",
       "      <td>Компьютерная техника</td>\n",
       "    </tr>\n",
       "    <tr>\n",
       "      <th>2</th>\n",
       "      <td>ef35bc88a7</td>\n",
       "      <td>direct</td>\n",
       "      <td>95626</td>\n",
       "      <td>NaN</td>\n",
       "      <td>Телевизоры</td>\n",
       "      <td>09f279a643</td>\n",
       "      <td>Электроника</td>\n",
       "    </tr>\n",
       "    <tr>\n",
       "      <th>3</th>\n",
       "      <td>6ff9f4014c</td>\n",
       "      <td>direct</td>\n",
       "      <td>75680</td>\n",
       "      <td>NaN</td>\n",
       "      <td>Планшеты</td>\n",
       "      <td>3509869a61</td>\n",
       "      <td>Компьютерная техника</td>\n",
       "    </tr>\n",
       "    <tr>\n",
       "      <th>4</th>\n",
       "      <td>72bc238e4d</td>\n",
       "      <td>direct</td>\n",
       "      <td>64435</td>\n",
       "      <td>NaN</td>\n",
       "      <td>Наушники и Bluetooth-гарнитуры</td>\n",
       "      <td>09f279a643</td>\n",
       "      <td>Электроника</td>\n",
       "    </tr>\n",
       "    <tr>\n",
       "      <th>5</th>\n",
       "      <td>88c78ea685</td>\n",
       "      <td>direct</td>\n",
       "      <td>39638</td>\n",
       "      <td>NaN</td>\n",
       "      <td>Шины</td>\n",
       "      <td>65922fa39c</td>\n",
       "      <td>Авто</td>\n",
       "    </tr>\n",
       "    <tr>\n",
       "      <th>6</th>\n",
       "      <td>179bfacf4a</td>\n",
       "      <td>direct</td>\n",
       "      <td>31007</td>\n",
       "      <td>NaN</td>\n",
       "      <td>Умные часы и браслеты</td>\n",
       "      <td>09f279a643</td>\n",
       "      <td>Электроника</td>\n",
       "    </tr>\n",
       "    <tr>\n",
       "      <th>7</th>\n",
       "      <td>b0fb8f259a</td>\n",
       "      <td>direct</td>\n",
       "      <td>30324</td>\n",
       "      <td>NaN</td>\n",
       "      <td>Мониторы</td>\n",
       "      <td>3509869a61</td>\n",
       "      <td>Компьютерная техника</td>\n",
       "    </tr>\n",
       "    <tr>\n",
       "      <th>8</th>\n",
       "      <td>3c67eb2d90</td>\n",
       "      <td>direct</td>\n",
       "      <td>25878</td>\n",
       "      <td>NaN</td>\n",
       "      <td>Наручные часы</td>\n",
       "      <td>6074ad29ac</td>\n",
       "      <td>Одежда, обувь и аксессуары</td>\n",
       "    </tr>\n",
       "    <tr>\n",
       "      <th>9</th>\n",
       "      <td>24e6c815c6</td>\n",
       "      <td>direct</td>\n",
       "      <td>25276</td>\n",
       "      <td>NaN</td>\n",
       "      <td>Лекарственные препараты и БАДы</td>\n",
       "      <td>10a493e03b</td>\n",
       "      <td>Товары для здоровья</td>\n",
       "    </tr>\n",
       "  </tbody>\n",
       "</table>\n",
       "</div>"
      ],
      "text/plain": [
       "  subcategory_id  source  visits  Unnamed: 3                subcategory_name  \\\n",
       "0     cf2e61c7af  direct  501165         NaN              Мобильные телефоны   \n",
       "1     0cd903d1cc  direct  126342         NaN                        Ноутбуки   \n",
       "2     ef35bc88a7  direct   95626         NaN                      Телевизоры   \n",
       "3     6ff9f4014c  direct   75680         NaN                        Планшеты   \n",
       "4     72bc238e4d  direct   64435         NaN  Наушники и Bluetooth-гарнитуры   \n",
       "5     88c78ea685  direct   39638         NaN                            Шины   \n",
       "6     179bfacf4a  direct   31007         NaN           Умные часы и браслеты   \n",
       "7     b0fb8f259a  direct   30324         NaN                        Мониторы   \n",
       "8     3c67eb2d90  direct   25878         NaN                   Наручные часы   \n",
       "9     24e6c815c6  direct   25276         NaN  Лекарственные препараты и БАДы   \n",
       "\n",
       "  category_id               category_name  \n",
       "0  09f279a643                 Электроника  \n",
       "1  3509869a61        Компьютерная техника  \n",
       "2  09f279a643                 Электроника  \n",
       "3  3509869a61        Компьютерная техника  \n",
       "4  09f279a643                 Электроника  \n",
       "5  65922fa39c                        Авто  \n",
       "6  09f279a643                 Электроника  \n",
       "7  3509869a61        Компьютерная техника  \n",
       "8  6074ad29ac  Одежда, обувь и аксессуары  \n",
       "9  10a493e03b         Товары для здоровья  "
      ]
     },
     "execution_count": 70,
     "metadata": {},
     "output_type": "execute_result"
    }
   ],
   "source": [
    "data_final = data_subcategory.merge(category_dict, on='category_id', how='left')\n",
    "data_final.head(10)"
   ]
  },
  {
   "cell_type": "markdown",
   "id": "98eb0cc8",
   "metadata": {},
   "source": [
    "#### 21. Самостоятельно создайте сводную таблицу для набора data_final. Результат сохраните в переменной data_pivot и выведите первых 10 значений на экран."
   ]
  },
  {
   "cell_type": "code",
   "execution_count": 73,
   "id": "59ba66b3",
   "metadata": {},
   "outputs": [
    {
     "data": {
      "text/html": [
       "<div>\n",
       "<style scoped>\n",
       "    .dataframe tbody tr th:only-of-type {\n",
       "        vertical-align: middle;\n",
       "    }\n",
       "\n",
       "    .dataframe tbody tr th {\n",
       "        vertical-align: top;\n",
       "    }\n",
       "\n",
       "    .dataframe thead th {\n",
       "        text-align: right;\n",
       "    }\n",
       "</style>\n",
       "<table border=\"1\" class=\"dataframe\">\n",
       "  <thead>\n",
       "    <tr style=\"text-align: right;\">\n",
       "      <th></th>\n",
       "      <th>source</th>\n",
       "      <th>direct</th>\n",
       "      <th>organic</th>\n",
       "    </tr>\n",
       "    <tr>\n",
       "      <th>category_name</th>\n",
       "      <th>subcategory_name</th>\n",
       "      <th></th>\n",
       "      <th></th>\n",
       "    </tr>\n",
       "  </thead>\n",
       "  <tbody>\n",
       "    <tr>\n",
       "      <th rowspan=\"5\" valign=\"top\">Авто</th>\n",
       "      <th>Автоакустика</th>\n",
       "      <td>5915</td>\n",
       "      <td>15433</td>\n",
       "    </tr>\n",
       "    <tr>\n",
       "      <th>Автомагнитолы</th>\n",
       "      <td>7783</td>\n",
       "      <td>18690</td>\n",
       "    </tr>\n",
       "    <tr>\n",
       "      <th>Автомобильные инверторы</th>\n",
       "      <td>145</td>\n",
       "      <td>150</td>\n",
       "    </tr>\n",
       "    <tr>\n",
       "      <th>Автомобильные компрессоры</th>\n",
       "      <td>407</td>\n",
       "      <td>790</td>\n",
       "    </tr>\n",
       "    <tr>\n",
       "      <th>Автомобильные телевизоры</th>\n",
       "      <td>975</td>\n",
       "      <td>2246</td>\n",
       "    </tr>\n",
       "    <tr>\n",
       "      <th>...</th>\n",
       "      <th>...</th>\n",
       "      <td>...</td>\n",
       "      <td>...</td>\n",
       "    </tr>\n",
       "    <tr>\n",
       "      <th rowspan=\"5\" valign=\"top\">Электроника</th>\n",
       "      <th>Чехлы</th>\n",
       "      <td>4582</td>\n",
       "      <td>11758</td>\n",
       "    </tr>\n",
       "    <tr>\n",
       "      <th>Чехлы-аккумуляторы</th>\n",
       "      <td>219</td>\n",
       "      <td>331</td>\n",
       "    </tr>\n",
       "    <tr>\n",
       "      <th>Штативы и моноподы</th>\n",
       "      <td>1152</td>\n",
       "      <td>2540</td>\n",
       "    </tr>\n",
       "    <tr>\n",
       "      <th>Экшн-камеры</th>\n",
       "      <td>4757</td>\n",
       "      <td>12376</td>\n",
       "    </tr>\n",
       "    <tr>\n",
       "      <th>Электронные книги</th>\n",
       "      <td>4515</td>\n",
       "      <td>11364</td>\n",
       "    </tr>\n",
       "  </tbody>\n",
       "</table>\n",
       "<p>934 rows × 2 columns</p>\n",
       "</div>"
      ],
      "text/plain": [
       "source                                   direct  organic\n",
       "category_name subcategory_name                          \n",
       "Авто          Автоакустика                 5915    15433\n",
       "              Автомагнитолы                7783    18690\n",
       "              Автомобильные инверторы       145      150\n",
       "              Автомобильные компрессоры     407      790\n",
       "              Автомобильные телевизоры      975     2246\n",
       "...                                         ...      ...\n",
       "Электроника   Чехлы                        4582    11758\n",
       "              Чехлы-аккумуляторы            219      331\n",
       "              Штативы и моноподы           1152     2540\n",
       "              Экшн-камеры                  4757    12376\n",
       "              Электронные книги            4515    11364\n",
       "\n",
       "[934 rows x 2 columns]"
      ]
     },
     "execution_count": 73,
     "metadata": {},
     "output_type": "execute_result"
    }
   ],
   "source": [
    "data_pivot = data_final.pivot_table(\n",
    "    index=['category_name', 'subcategory_name'], \n",
    "    columns='source', \n",
    "    values='visits', \n",
    "    aggfunc='sum')\n",
    "\n",
    "data_pivot"
   ]
  }
 ],
 "metadata": {
  "kernelspec": {
   "display_name": "Python 3",
   "language": "python",
   "name": "python3"
  },
  "language_info": {
   "codemirror_mode": {
    "name": "ipython",
    "version": 3
   },
   "file_extension": ".py",
   "mimetype": "text/x-python",
   "name": "python",
   "nbconvert_exporter": "python",
   "pygments_lexer": "ipython3",
   "version": "3.8.8"
  }
 },
 "nbformat": 4,
 "nbformat_minor": 5
}
