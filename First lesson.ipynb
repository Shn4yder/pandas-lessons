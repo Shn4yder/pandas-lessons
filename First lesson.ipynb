{
 "cells": [
  {
   "cell_type": "code",
   "execution_count": 2,
   "id": "403b96ec",
   "metadata": {},
   "outputs": [],
   "source": [
    "import pandas as pd"
   ]
  },
  {
   "cell_type": "markdown",
   "id": "bbde296a",
   "metadata": {},
   "source": [
    "#### 1.Прочитайте файл music_log.csv и сохраните его данные в переменной df. Создайте переменную shape_table и сохраните в ней размеры таблицы music_log.csv. Напечатайте на экране размер таблицы"
   ]
  },
  {
   "cell_type": "code",
   "execution_count": 3,
   "id": "9620bd83",
   "metadata": {},
   "outputs": [],
   "source": [
    "df = pd.read_csv('data/music_log.csv')"
   ]
  },
  {
   "cell_type": "code",
   "execution_count": 8,
   "id": "1c14829b",
   "metadata": {},
   "outputs": [
    {
     "name": "stdout",
     "output_type": "stream",
     "text": [
      "Размер таблицы (67963, 5)\n"
     ]
    }
   ],
   "source": [
    "shape_table = df.shape\n",
    "print(\"Размер таблицы\", shape_table)"
   ]
  },
  {
   "cell_type": "markdown",
   "id": "81010fc3",
   "metadata": {},
   "source": [
    "#### 2.Сохраните в observations_table количество строк таблицы. Для этого получите первый элемент из кортежа shape_table. Выведите результат на экран"
   ]
  },
  {
   "cell_type": "code",
   "execution_count": 9,
   "id": "40a1e447",
   "metadata": {},
   "outputs": [
    {
     "name": "stdout",
     "output_type": "stream",
     "text": [
      "Количество строк 67963\n"
     ]
    }
   ],
   "source": [
    "observations_table = shape_table[0]\n",
    "print(\"Количество строк\", observations_table)"
   ]
  },
  {
   "cell_type": "markdown",
   "id": "548f5726",
   "metadata": {},
   "source": [
    "#### 3.Вызовите метод info(). Найдите в его выводе количество наблюдений (количество строк таблицы, вы выводили его на экран в предыдущей задаче)."
   ]
  },
  {
   "cell_type": "code",
   "execution_count": 11,
   "id": "b5e3e387",
   "metadata": {},
   "outputs": [
    {
     "name": "stdout",
     "output_type": "stream",
     "text": [
      "<class 'pandas.core.frame.DataFrame'>\n",
      "RangeIndex: 67963 entries, 0 to 67962\n",
      "Data columns (total 5 columns):\n",
      " #   Column      Non-Null Count  Dtype  \n",
      "---  ------      --------------  -----  \n",
      " 0     user_id   67963 non-null  object \n",
      " 1   total play  67399 non-null  float64\n",
      " 2   Artist      59647 non-null  object \n",
      " 3   genre       64661 non-null  object \n",
      " 4   track       64804 non-null  object \n",
      "dtypes: float64(1), object(4)\n",
      "memory usage: 2.6+ MB\n"
     ]
    }
   ],
   "source": [
    "df.info()"
   ]
  },
  {
   "cell_type": "markdown",
   "id": "e2b1b13e",
   "metadata": {},
   "source": [
    "#### 4.Из таблицы в переменной df извлеките два столбца: genre и Artist. Результат сохраните в genre_fight. Тогда print() выведет результат на экран."
   ]
  },
  {
   "cell_type": "code",
   "execution_count": 15,
   "id": "6d0c66e0",
   "metadata": {},
   "outputs": [
    {
     "name": "stdout",
     "output_type": "stream",
     "text": [
      "         genre        Artist\n",
      "0          pop    Marina Rei\n",
      "1      ambient  Stive Morgan\n",
      "2      ambient  Stive Morgan\n",
      "3        dance           NaN\n",
      "4          pop        Rixton\n",
      "...        ...           ...\n",
      "67958      pop  Nadine Coyle\n",
      "67959    dance  Digital Hero\n",
      "67960    metal       Red God\n",
      "67961      pop  Less Chapell\n",
      "67962      NaN           NaN\n",
      "\n",
      "[67963 rows x 2 columns]\n"
     ]
    }
   ],
   "source": [
    "genre_fight = df[['genre', 'Artist']]\n",
    "print(genre_fight)"
   ]
  },
  {
   "cell_type": "markdown",
   "id": "30f4d415",
   "metadata": {},
   "source": [
    "#### 5.Добавьте в код подсчёт треков жанра «поп». С помощью логической индексации получите ячейки со значением 'pop' и посчитайте их методом count().Результат сохраните в переменной genre_pop. Напечатайте его на экране"
   ]
  },
  {
   "cell_type": "code",
   "execution_count": 30,
   "id": "98e67a01",
   "metadata": {},
   "outputs": [
    {
     "name": "stdout",
     "output_type": "stream",
     "text": [
      "Число прослушанных треков в жанре поп равно 8599\n"
     ]
    }
   ],
   "source": [
    "genre_pop = df.loc[df.loc[:,'genre'] == 'pop']['genre'].count()\n",
    "#genre_pop =  df[df['genre'] == 'pop']['genre'].count()\n",
    "print(\"Число прослушанных треков в жанре поп равно\", genre_pop)"
   ]
  },
  {
   "cell_type": "markdown",
   "id": "4b93962f",
   "metadata": {},
   "source": [
    "#### 6.Из df получите таблицу только с жанром rock и сохраните её в переменной rock.Выделите время прослушивания роковых композиций в особую структуру данных. Сохраните колонку total play таблицы rock в переменной rock_time."
   ]
  },
  {
   "cell_type": "code",
   "execution_count": 33,
   "id": "25ca9088",
   "metadata": {},
   "outputs": [
    {
     "name": "stdout",
     "output_type": "stream",
     "text": [
      "35       134.112625\n",
      "39         3.663453\n",
      "45         0.100000\n",
      "49         6.000000\n",
      "50       378.644898\n",
      "            ...    \n",
      "67931     10.553495\n",
      "67934     38.216000\n",
      "67941    197.616327\n",
      "67942    236.277551\n",
      "67955    185.000000\n",
      "Name: total play, Length: 6811, dtype: float64\n"
     ]
    }
   ],
   "source": [
    "rock =  df[df['genre'] == 'rock']\n",
    "rock_time = rock['total play']\n",
    "print(rock_time)"
   ]
  },
  {
   "cell_type": "markdown",
   "id": "674ea6f4",
   "metadata": {},
   "source": [
    "#### 7.Посчитайте треки в rock_time, которые слушали пять секунд или менее. Это пропущенные композиции: пользователи начинали их слушать, но быстро выключали."
   ]
  },
  {
   "cell_type": "code",
   "execution_count": 36,
   "id": "73552c94",
   "metadata": {},
   "outputs": [
    {
     "name": "stdout",
     "output_type": "stream",
     "text": [
      "2272\n"
     ]
    }
   ],
   "source": [
    "skipped = rock[rock['total play'] <= 5]['total play'].count()\n",
    "print(skipped)"
   ]
  },
  {
   "cell_type": "markdown",
   "id": "50f2d9af",
   "metadata": {},
   "source": [
    "#### 8.Выберите в таблице df только строки с жанром 'pop' и сохраните эту новую таблицу в переменной pop.Из таблицы pop извлеките столбец total play и сохраните его в переменную pop_time.Посчитайте треки в pop_time, которые слушали пять секунд или менее. Это пропущенные композиции: пользователи начинали их слушать, но быстро выключали. Результат сохраните в переменной pop_haters"
   ]
  },
  {
   "cell_type": "code",
   "execution_count": 38,
   "id": "ac002850",
   "metadata": {},
   "outputs": [
    {
     "name": "stdout",
     "output_type": "stream",
     "text": [
      "2974\n"
     ]
    }
   ],
   "source": [
    "pop =  df[df['genre'] == 'pop']\n",
    "pop_time = pop['total play']\n",
    "pop_haters = pop_time[pop_time <= 5].count()\n",
    "print(pop_haters)"
   ]
  },
  {
   "cell_type": "markdown",
   "id": "07be642d",
   "metadata": {},
   "source": [
    "### Срезы\n",
    "#### Поочередно вывести корабли"
   ]
  },
  {
   "cell_type": "code",
   "execution_count": 4,
   "id": "4d424d12",
   "metadata": {},
   "outputs": [
    {
     "name": "stdout",
     "output_type": "stream",
     "text": [
      "   A  B  C  D  E  F  G  H  J\n",
      "0  0  0  0  0  0  0  0  0  1\n",
      "1  0  1  0  0  0  0  0  0  0\n",
      "2  0  1  0  0  0  0  0  0  0\n",
      "3  0  1  0  0  0  0  0  0  0\n",
      "4  0  0  0  0  0  0  0  0  0\n",
      "5  0  0  1  1  1  1  0  0  0\n",
      "6  0  0  0  0  0  0  0  1  0\n",
      "7  0  0  0  0  0  0  0  1  0\n",
      "8  0  0  0  0  0  0  0  1  0\n",
      "9  0  0  0  0  0  0  0  1  0\n"
     ]
    }
   ],
   "source": [
    "df = pd.read_csv('data/game_board.csv')\n",
    "print(df)"
   ]
  },
  {
   "cell_type": "code",
   "execution_count": 21,
   "id": "bb3da4e2",
   "metadata": {},
   "outputs": [
    {
     "name": "stdout",
     "output_type": "stream",
     "text": [
      "Однопалубный: 1\n"
     ]
    }
   ],
   "source": [
    "one_deck = df.loc[0, 'J']\n",
    "print(\"Однопалубный:\", one_deck)"
   ]
  },
  {
   "cell_type": "code",
   "execution_count": 19,
   "id": "c7f3f734",
   "metadata": {},
   "outputs": [
    {
     "name": "stdout",
     "output_type": "stream",
     "text": [
      "Трехпалубный:\n",
      " 1    1\n",
      "2    1\n",
      "3    1\n",
      "Name: B, dtype: int64\n"
     ]
    }
   ],
   "source": [
    "three_deck_loc = df[1:4] #срез строк (4 не включено)\n",
    "three_deck = three_deck_loc['B']\n",
    "print(\"Трехпалубный:\\n\", three_deck)"
   ]
  },
  {
   "cell_type": "code",
   "execution_count": 30,
   "id": "96cc41e2",
   "metadata": {},
   "outputs": [
    {
     "name": "stdout",
     "output_type": "stream",
     "text": [
      "Четырехпалубный 1:\n",
      "    C  D  E  F\n",
      "5  1  1  1  1\n"
     ]
    }
   ],
   "source": [
    "four_deck_1 = df.loc[5:5, 'C':'F']\n",
    "print(\"Четырехпалубный 1:\\n\", four_deck_1)"
   ]
  },
  {
   "cell_type": "code",
   "execution_count": 35,
   "id": "559a88b8",
   "metadata": {},
   "outputs": [
    {
     "name": "stdout",
     "output_type": "stream",
     "text": [
      "Четырехпалубный 2:\n",
      " 6    1\n",
      "7    1\n",
      "8    1\n",
      "9    1\n",
      "Name: H, dtype: int64\n"
     ]
    }
   ],
   "source": [
    "four_deck_2 = df[df['H'] == 1]['H'] # логическая индексация\n",
    "print(\"Четырехпалубный 2:\\n\", four_deck_2)"
   ]
  }
 ],
 "metadata": {
  "kernelspec": {
   "display_name": "Python 3",
   "language": "python",
   "name": "python3"
  },
  "language_info": {
   "codemirror_mode": {
    "name": "ipython",
    "version": 3
   },
   "file_extension": ".py",
   "mimetype": "text/x-python",
   "name": "python",
   "nbconvert_exporter": "python",
   "pygments_lexer": "ipython3",
   "version": "3.8.8"
  }
 },
 "nbformat": 4,
 "nbformat_minor": 5
}
