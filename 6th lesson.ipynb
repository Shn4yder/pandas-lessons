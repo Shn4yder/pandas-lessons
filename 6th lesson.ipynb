{
 "cells": [
  {
   "cell_type": "code",
   "execution_count": 2,
   "id": "31184442",
   "metadata": {},
   "outputs": [],
   "source": [
    "import pandas as pd"
   ]
  },
  {
   "cell_type": "code",
   "execution_count": 3,
   "id": "d55cb1d5",
   "metadata": {},
   "outputs": [
    {
     "data": {
      "text/html": [
       "<div>\n",
       "<style scoped>\n",
       "    .dataframe tbody tr th:only-of-type {\n",
       "        vertical-align: middle;\n",
       "    }\n",
       "\n",
       "    .dataframe tbody tr th {\n",
       "        vertical-align: top;\n",
       "    }\n",
       "\n",
       "    .dataframe thead th {\n",
       "        text-align: right;\n",
       "    }\n",
       "</style>\n",
       "<table border=\"1\" class=\"dataframe\">\n",
       "  <thead>\n",
       "    <tr style=\"text-align: right;\">\n",
       "      <th></th>\n",
       "      <th>id</th>\n",
       "      <th>item</th>\n",
       "      <th>count</th>\n",
       "    </tr>\n",
       "  </thead>\n",
       "  <tbody>\n",
       "    <tr>\n",
       "      <th>0</th>\n",
       "      <td>100480924</td>\n",
       "      <td>Смартфон Xiaomi Redmi 6A 16GB</td>\n",
       "      <td>32</td>\n",
       "    </tr>\n",
       "    <tr>\n",
       "      <th>1</th>\n",
       "      <td>100480929</td>\n",
       "      <td>Смартфон Xiaomi Redmi 6A 16GB</td>\n",
       "      <td>10</td>\n",
       "    </tr>\n",
       "    <tr>\n",
       "      <th>2</th>\n",
       "      <td>100480938</td>\n",
       "      <td>Смартфон Samsung Galaxy A30 32GB</td>\n",
       "      <td>49</td>\n",
       "    </tr>\n",
       "    <tr>\n",
       "      <th>3</th>\n",
       "      <td>100480952</td>\n",
       "      <td>смартфон Samsung Galaxy A30 32gb</td>\n",
       "      <td>11</td>\n",
       "    </tr>\n",
       "    <tr>\n",
       "      <th>4</th>\n",
       "      <td>100480959</td>\n",
       "      <td>Смартфон HUAWEI P30 lite</td>\n",
       "      <td>5</td>\n",
       "    </tr>\n",
       "    <tr>\n",
       "      <th>5</th>\n",
       "      <td>100480975</td>\n",
       "      <td>Смартфон Apple iPhone Xr 64gb</td>\n",
       "      <td>10</td>\n",
       "    </tr>\n",
       "    <tr>\n",
       "      <th>6</th>\n",
       "      <td>100480988</td>\n",
       "      <td>Смартфон Honor 8X 64GB</td>\n",
       "      <td>64</td>\n",
       "    </tr>\n",
       "    <tr>\n",
       "      <th>7</th>\n",
       "      <td>100480998</td>\n",
       "      <td>Смартфон HUAWEI P30 lite</td>\n",
       "      <td>33</td>\n",
       "    </tr>\n",
       "    <tr>\n",
       "      <th>8</th>\n",
       "      <td>100481008</td>\n",
       "      <td>Смартфон Xiaomi Redmi 6A 16GB</td>\n",
       "      <td>2</td>\n",
       "    </tr>\n",
       "    <tr>\n",
       "      <th>9</th>\n",
       "      <td>100481020</td>\n",
       "      <td>Смартфон Apple iPhone Xr 64GB</td>\n",
       "      <td>19</td>\n",
       "    </tr>\n",
       "  </tbody>\n",
       "</table>\n",
       "</div>"
      ],
      "text/plain": [
       "          id                              item  count\n",
       "0  100480924     Смартфон Xiaomi Redmi 6A 16GB     32\n",
       "1  100480929     Смартфон Xiaomi Redmi 6A 16GB     10\n",
       "2  100480938  Смартфон Samsung Galaxy A30 32GB     49\n",
       "3  100480952  смартфон Samsung Galaxy A30 32gb     11\n",
       "4  100480959          Смартфон HUAWEI P30 lite      5\n",
       "5  100480975     Смартфон Apple iPhone Xr 64gb     10\n",
       "6  100480988            Смартфон Honor 8X 64GB     64\n",
       "7  100480998          Смартфон HUAWEI P30 lite     33\n",
       "8  100481008     Смартфон Xiaomi Redmi 6A 16GB      2\n",
       "9  100481020     Смартфон Apple iPhone Xr 64GB     19"
      ]
     },
     "execution_count": 3,
     "metadata": {},
     "output_type": "execute_result"
    }
   ],
   "source": [
    "stock = pd.read_excel('data/stock.xlsx')\n",
    "stock"
   ]
  },
  {
   "cell_type": "markdown",
   "id": "75988978",
   "metadata": {},
   "source": [
    "#### 1. Посчитайте количество дубликатов в столбце 'item', вызвав методы duplicated() и sum()."
   ]
  },
  {
   "cell_type": "code",
   "execution_count": 7,
   "id": "0132f37d",
   "metadata": {},
   "outputs": [
    {
     "name": "stdout",
     "output_type": "stream",
     "text": [
      "Кол-во дубликатов 3\n"
     ]
    }
   ],
   "source": [
    "print('Кол-во дубликатов', stock['item'].duplicated().sum())"
   ]
  },
  {
   "cell_type": "markdown",
   "id": "fcb61886",
   "metadata": {},
   "source": [
    "#### 2. Примените метод value_counts() к столбцу 'item'."
   ]
  },
  {
   "cell_type": "code",
   "execution_count": 8,
   "id": "8d87791c",
   "metadata": {},
   "outputs": [
    {
     "data": {
      "text/plain": [
       "Смартфон Xiaomi Redmi 6A 16GB       3\n",
       "Смартфон HUAWEI P30 lite            2\n",
       "Смартфон Samsung Galaxy A30 32GB    1\n",
       "Смартфон Honor 8X 64GB              1\n",
       "Смартфон Apple iPhone Xr 64GB       1\n",
       "смартфон Samsung Galaxy A30 32gb    1\n",
       "Смартфон Apple iPhone Xr 64gb       1\n",
       "Name: item, dtype: int64"
      ]
     },
     "execution_count": 8,
     "metadata": {},
     "output_type": "execute_result"
    }
   ],
   "source": [
    "stock['item'].value_counts()"
   ]
  },
  {
   "cell_type": "markdown",
   "id": "028b3b39",
   "metadata": {},
   "source": [
    "#### 3. Начните собирать данные для новой таблицы уже без дубликатов. Посчитайте количество телефонов марки Xiaomi Redmi на складе и сохраните его в переменной xiaomi. "
   ]
  },
  {
   "cell_type": "code",
   "execution_count": 12,
   "id": "aec32eae",
   "metadata": {},
   "outputs": [],
   "source": [
    "xiaomi = stock[stock['item'] == 'Смартфон Xiaomi Redmi 6A 16GB']['count'].sum()  #44"
   ]
  },
  {
   "cell_type": "markdown",
   "id": "79eb1921",
   "metadata": {},
   "source": [
    "#### 4. Найдите количество смартфонов HUAWEI и сохраните его в переменной huawei."
   ]
  },
  {
   "cell_type": "code",
   "execution_count": 14,
   "id": "9ca6dc36",
   "metadata": {},
   "outputs": [],
   "source": [
    "huawei = stock[stock['item'] == 'Смартфон HUAWEI P30 lite']['count'].sum()  #38"
   ]
  },
  {
   "cell_type": "markdown",
   "id": "6e1dac04",
   "metadata": {},
   "source": [
    "#### 5. Удалите дубликаты из столбца item, «перезаписав» его."
   ]
  },
  {
   "cell_type": "code",
   "execution_count": 15,
   "id": "742d89ee",
   "metadata": {},
   "outputs": [
    {
     "data": {
      "text/html": [
       "<div>\n",
       "<style scoped>\n",
       "    .dataframe tbody tr th:only-of-type {\n",
       "        vertical-align: middle;\n",
       "    }\n",
       "\n",
       "    .dataframe tbody tr th {\n",
       "        vertical-align: top;\n",
       "    }\n",
       "\n",
       "    .dataframe thead th {\n",
       "        text-align: right;\n",
       "    }\n",
       "</style>\n",
       "<table border=\"1\" class=\"dataframe\">\n",
       "  <thead>\n",
       "    <tr style=\"text-align: right;\">\n",
       "      <th></th>\n",
       "      <th>id</th>\n",
       "      <th>item</th>\n",
       "      <th>count</th>\n",
       "    </tr>\n",
       "  </thead>\n",
       "  <tbody>\n",
       "    <tr>\n",
       "      <th>0</th>\n",
       "      <td>100480924</td>\n",
       "      <td>Смартфон Xiaomi Redmi 6A 16GB</td>\n",
       "      <td>32</td>\n",
       "    </tr>\n",
       "    <tr>\n",
       "      <th>1</th>\n",
       "      <td>100480929</td>\n",
       "      <td>NaN</td>\n",
       "      <td>10</td>\n",
       "    </tr>\n",
       "    <tr>\n",
       "      <th>2</th>\n",
       "      <td>100480938</td>\n",
       "      <td>Смартфон Samsung Galaxy A30 32GB</td>\n",
       "      <td>49</td>\n",
       "    </tr>\n",
       "    <tr>\n",
       "      <th>3</th>\n",
       "      <td>100480952</td>\n",
       "      <td>смартфон Samsung Galaxy A30 32gb</td>\n",
       "      <td>11</td>\n",
       "    </tr>\n",
       "    <tr>\n",
       "      <th>4</th>\n",
       "      <td>100480959</td>\n",
       "      <td>Смартфон HUAWEI P30 lite</td>\n",
       "      <td>5</td>\n",
       "    </tr>\n",
       "    <tr>\n",
       "      <th>5</th>\n",
       "      <td>100480975</td>\n",
       "      <td>Смартфон Apple iPhone Xr 64gb</td>\n",
       "      <td>10</td>\n",
       "    </tr>\n",
       "    <tr>\n",
       "      <th>6</th>\n",
       "      <td>100480988</td>\n",
       "      <td>Смартфон Honor 8X 64GB</td>\n",
       "      <td>64</td>\n",
       "    </tr>\n",
       "    <tr>\n",
       "      <th>7</th>\n",
       "      <td>100480998</td>\n",
       "      <td>NaN</td>\n",
       "      <td>33</td>\n",
       "    </tr>\n",
       "    <tr>\n",
       "      <th>8</th>\n",
       "      <td>100481008</td>\n",
       "      <td>NaN</td>\n",
       "      <td>2</td>\n",
       "    </tr>\n",
       "    <tr>\n",
       "      <th>9</th>\n",
       "      <td>100481020</td>\n",
       "      <td>Смартфон Apple iPhone Xr 64GB</td>\n",
       "      <td>19</td>\n",
       "    </tr>\n",
       "  </tbody>\n",
       "</table>\n",
       "</div>"
      ],
      "text/plain": [
       "          id                              item  count\n",
       "0  100480924     Смартфон Xiaomi Redmi 6A 16GB     32\n",
       "1  100480929                               NaN     10\n",
       "2  100480938  Смартфон Samsung Galaxy A30 32GB     49\n",
       "3  100480952  смартфон Samsung Galaxy A30 32gb     11\n",
       "4  100480959          Смартфон HUAWEI P30 lite      5\n",
       "5  100480975     Смартфон Apple iPhone Xr 64gb     10\n",
       "6  100480988            Смартфон Honor 8X 64GB     64\n",
       "7  100480998                               NaN     33\n",
       "8  100481008                               NaN      2\n",
       "9  100481020     Смартфон Apple iPhone Xr 64GB     19"
      ]
     },
     "execution_count": 15,
     "metadata": {},
     "output_type": "execute_result"
    }
   ],
   "source": [
    "stock['item'] = stock['item'].drop_duplicates()\n",
    "stock"
   ]
  },
  {
   "cell_type": "markdown",
   "id": "7685c108",
   "metadata": {},
   "source": [
    "#### 6. Удалите пропуски из таблицы методом dropna() и восстановите индексы методом reset_index()"
   ]
  },
  {
   "cell_type": "code",
   "execution_count": 16,
   "id": "df757550",
   "metadata": {},
   "outputs": [
    {
     "data": {
      "text/html": [
       "<div>\n",
       "<style scoped>\n",
       "    .dataframe tbody tr th:only-of-type {\n",
       "        vertical-align: middle;\n",
       "    }\n",
       "\n",
       "    .dataframe tbody tr th {\n",
       "        vertical-align: top;\n",
       "    }\n",
       "\n",
       "    .dataframe thead th {\n",
       "        text-align: right;\n",
       "    }\n",
       "</style>\n",
       "<table border=\"1\" class=\"dataframe\">\n",
       "  <thead>\n",
       "    <tr style=\"text-align: right;\">\n",
       "      <th></th>\n",
       "      <th>id</th>\n",
       "      <th>item</th>\n",
       "      <th>count</th>\n",
       "    </tr>\n",
       "  </thead>\n",
       "  <tbody>\n",
       "    <tr>\n",
       "      <th>0</th>\n",
       "      <td>100480924</td>\n",
       "      <td>Смартфон Xiaomi Redmi 6A 16GB</td>\n",
       "      <td>32</td>\n",
       "    </tr>\n",
       "    <tr>\n",
       "      <th>1</th>\n",
       "      <td>100480938</td>\n",
       "      <td>Смартфон Samsung Galaxy A30 32GB</td>\n",
       "      <td>49</td>\n",
       "    </tr>\n",
       "    <tr>\n",
       "      <th>2</th>\n",
       "      <td>100480952</td>\n",
       "      <td>смартфон Samsung Galaxy A30 32gb</td>\n",
       "      <td>11</td>\n",
       "    </tr>\n",
       "    <tr>\n",
       "      <th>3</th>\n",
       "      <td>100480959</td>\n",
       "      <td>Смартфон HUAWEI P30 lite</td>\n",
       "      <td>5</td>\n",
       "    </tr>\n",
       "    <tr>\n",
       "      <th>4</th>\n",
       "      <td>100480975</td>\n",
       "      <td>Смартфон Apple iPhone Xr 64gb</td>\n",
       "      <td>10</td>\n",
       "    </tr>\n",
       "    <tr>\n",
       "      <th>5</th>\n",
       "      <td>100480988</td>\n",
       "      <td>Смартфон Honor 8X 64GB</td>\n",
       "      <td>64</td>\n",
       "    </tr>\n",
       "    <tr>\n",
       "      <th>6</th>\n",
       "      <td>100481020</td>\n",
       "      <td>Смартфон Apple iPhone Xr 64GB</td>\n",
       "      <td>19</td>\n",
       "    </tr>\n",
       "  </tbody>\n",
       "</table>\n",
       "</div>"
      ],
      "text/plain": [
       "          id                              item  count\n",
       "0  100480924     Смартфон Xiaomi Redmi 6A 16GB     32\n",
       "1  100480938  Смартфон Samsung Galaxy A30 32GB     49\n",
       "2  100480952  смартфон Samsung Galaxy A30 32gb     11\n",
       "3  100480959          Смартфон HUAWEI P30 lite      5\n",
       "4  100480975     Смартфон Apple iPhone Xr 64gb     10\n",
       "5  100480988            Смартфон Honor 8X 64GB     64\n",
       "6  100481020     Смартфон Apple iPhone Xr 64GB     19"
      ]
     },
     "execution_count": 16,
     "metadata": {},
     "output_type": "execute_result"
    }
   ],
   "source": [
    "stock = stock.dropna().reset_index(drop=True)\n",
    "stock"
   ]
  },
  {
   "cell_type": "markdown",
   "id": "5a2f05b2",
   "metadata": {},
   "source": [
    "#### 7. Замените количество телефонов Xiaomi — значение в столбце 'count' — на переменную xiaomi. Замените количество телефонов HUAWEI — значение в столбце 'count' — на переменную huawei."
   ]
  },
  {
   "cell_type": "code",
   "execution_count": 19,
   "id": "84a913f6",
   "metadata": {},
   "outputs": [
    {
     "data": {
      "text/html": [
       "<div>\n",
       "<style scoped>\n",
       "    .dataframe tbody tr th:only-of-type {\n",
       "        vertical-align: middle;\n",
       "    }\n",
       "\n",
       "    .dataframe tbody tr th {\n",
       "        vertical-align: top;\n",
       "    }\n",
       "\n",
       "    .dataframe thead th {\n",
       "        text-align: right;\n",
       "    }\n",
       "</style>\n",
       "<table border=\"1\" class=\"dataframe\">\n",
       "  <thead>\n",
       "    <tr style=\"text-align: right;\">\n",
       "      <th></th>\n",
       "      <th>id</th>\n",
       "      <th>item</th>\n",
       "      <th>count</th>\n",
       "    </tr>\n",
       "  </thead>\n",
       "  <tbody>\n",
       "    <tr>\n",
       "      <th>0</th>\n",
       "      <td>100480924</td>\n",
       "      <td>Смартфон Xiaomi Redmi 6A 16GB</td>\n",
       "      <td>44</td>\n",
       "    </tr>\n",
       "    <tr>\n",
       "      <th>1</th>\n",
       "      <td>100480938</td>\n",
       "      <td>Смартфон Samsung Galaxy A30 32GB</td>\n",
       "      <td>49</td>\n",
       "    </tr>\n",
       "    <tr>\n",
       "      <th>2</th>\n",
       "      <td>100480952</td>\n",
       "      <td>смартфон Samsung Galaxy A30 32gb</td>\n",
       "      <td>11</td>\n",
       "    </tr>\n",
       "    <tr>\n",
       "      <th>3</th>\n",
       "      <td>100480959</td>\n",
       "      <td>Смартфон HUAWEI P30 lite</td>\n",
       "      <td>38</td>\n",
       "    </tr>\n",
       "    <tr>\n",
       "      <th>4</th>\n",
       "      <td>100480975</td>\n",
       "      <td>Смартфон Apple iPhone Xr 64gb</td>\n",
       "      <td>10</td>\n",
       "    </tr>\n",
       "    <tr>\n",
       "      <th>5</th>\n",
       "      <td>100480988</td>\n",
       "      <td>Смартфон Honor 8X 64GB</td>\n",
       "      <td>64</td>\n",
       "    </tr>\n",
       "    <tr>\n",
       "      <th>6</th>\n",
       "      <td>100481020</td>\n",
       "      <td>Смартфон Apple iPhone Xr 64GB</td>\n",
       "      <td>19</td>\n",
       "    </tr>\n",
       "  </tbody>\n",
       "</table>\n",
       "</div>"
      ],
      "text/plain": [
       "          id                              item  count\n",
       "0  100480924     Смартфон Xiaomi Redmi 6A 16GB     44\n",
       "1  100480938  Смартфон Samsung Galaxy A30 32GB     49\n",
       "2  100480952  смартфон Samsung Galaxy A30 32gb     11\n",
       "3  100480959          Смартфон HUAWEI P30 lite     38\n",
       "4  100480975     Смартфон Apple iPhone Xr 64gb     10\n",
       "5  100480988            Смартфон Honor 8X 64GB     64\n",
       "6  100481020     Смартфон Apple iPhone Xr 64GB     19"
      ]
     },
     "execution_count": 19,
     "metadata": {},
     "output_type": "execute_result"
    }
   ],
   "source": [
    "stock.loc[0, 'count'] = xiaomi\n",
    "stock.loc[3, 'count'] = huawei\n",
    "\n",
    "stock"
   ]
  },
  {
   "cell_type": "markdown",
   "id": "8dcc03f6",
   "metadata": {},
   "source": [
    "#### 8. Переведите названия моделей в нижний регистр методом str.lower(). Сохраните их в новом столбце 'item_lowercase'."
   ]
  },
  {
   "cell_type": "code",
   "execution_count": 22,
   "id": "516fd135",
   "metadata": {},
   "outputs": [
    {
     "data": {
      "text/html": [
       "<div>\n",
       "<style scoped>\n",
       "    .dataframe tbody tr th:only-of-type {\n",
       "        vertical-align: middle;\n",
       "    }\n",
       "\n",
       "    .dataframe tbody tr th {\n",
       "        vertical-align: top;\n",
       "    }\n",
       "\n",
       "    .dataframe thead th {\n",
       "        text-align: right;\n",
       "    }\n",
       "</style>\n",
       "<table border=\"1\" class=\"dataframe\">\n",
       "  <thead>\n",
       "    <tr style=\"text-align: right;\">\n",
       "      <th></th>\n",
       "      <th>id</th>\n",
       "      <th>item</th>\n",
       "      <th>count</th>\n",
       "      <th>item_lowercase</th>\n",
       "    </tr>\n",
       "  </thead>\n",
       "  <tbody>\n",
       "    <tr>\n",
       "      <th>0</th>\n",
       "      <td>100480924</td>\n",
       "      <td>Смартфон Xiaomi Redmi 6A 16GB</td>\n",
       "      <td>44</td>\n",
       "      <td>смартфон xiaomi redmi 6a 16gb</td>\n",
       "    </tr>\n",
       "    <tr>\n",
       "      <th>1</th>\n",
       "      <td>100480938</td>\n",
       "      <td>Смартфон Samsung Galaxy A30 32GB</td>\n",
       "      <td>49</td>\n",
       "      <td>смартфон samsung galaxy a30 32gb</td>\n",
       "    </tr>\n",
       "    <tr>\n",
       "      <th>2</th>\n",
       "      <td>100480952</td>\n",
       "      <td>смартфон Samsung Galaxy A30 32gb</td>\n",
       "      <td>11</td>\n",
       "      <td>смартфон samsung galaxy a30 32gb</td>\n",
       "    </tr>\n",
       "    <tr>\n",
       "      <th>3</th>\n",
       "      <td>100480959</td>\n",
       "      <td>Смартфон HUAWEI P30 lite</td>\n",
       "      <td>38</td>\n",
       "      <td>смартфон huawei p30 lite</td>\n",
       "    </tr>\n",
       "    <tr>\n",
       "      <th>4</th>\n",
       "      <td>100480975</td>\n",
       "      <td>Смартфон Apple iPhone Xr 64gb</td>\n",
       "      <td>10</td>\n",
       "      <td>смартфон apple iphone xr 64gb</td>\n",
       "    </tr>\n",
       "    <tr>\n",
       "      <th>5</th>\n",
       "      <td>100480988</td>\n",
       "      <td>Смартфон Honor 8X 64GB</td>\n",
       "      <td>64</td>\n",
       "      <td>смартфон honor 8x 64gb</td>\n",
       "    </tr>\n",
       "    <tr>\n",
       "      <th>6</th>\n",
       "      <td>100481020</td>\n",
       "      <td>Смартфон Apple iPhone Xr 64GB</td>\n",
       "      <td>19</td>\n",
       "      <td>смартфон apple iphone xr 64gb</td>\n",
       "    </tr>\n",
       "  </tbody>\n",
       "</table>\n",
       "</div>"
      ],
      "text/plain": [
       "          id                              item  count  \\\n",
       "0  100480924     Смартфон Xiaomi Redmi 6A 16GB     44   \n",
       "1  100480938  Смартфон Samsung Galaxy A30 32GB     49   \n",
       "2  100480952  смартфон Samsung Galaxy A30 32gb     11   \n",
       "3  100480959          Смартфон HUAWEI P30 lite     38   \n",
       "4  100480975     Смартфон Apple iPhone Xr 64gb     10   \n",
       "5  100480988            Смартфон Honor 8X 64GB     64   \n",
       "6  100481020     Смартфон Apple iPhone Xr 64GB     19   \n",
       "\n",
       "                     item_lowercase  \n",
       "0     смартфон xiaomi redmi 6a 16gb  \n",
       "1  смартфон samsung galaxy a30 32gb  \n",
       "2  смартфон samsung galaxy a30 32gb  \n",
       "3          смартфон huawei p30 lite  \n",
       "4     смартфон apple iphone xr 64gb  \n",
       "5            смартфон honor 8x 64gb  \n",
       "6     смартфон apple iphone xr 64gb  "
      ]
     },
     "execution_count": 22,
     "metadata": {},
     "output_type": "execute_result"
    }
   ],
   "source": [
    "stock['item_lowercase'] = stock['item'].str.lower()\n",
    "stock"
   ]
  },
  {
   "cell_type": "markdown",
   "id": "c09baece",
   "metadata": {},
   "source": [
    "#### 9. B столбце 'item_lowercase' посчитайте количество дублей для каждой модели телефона методом value_counts()"
   ]
  },
  {
   "cell_type": "code",
   "execution_count": 26,
   "id": "71cdfb72",
   "metadata": {},
   "outputs": [
    {
     "name": "stdout",
     "output_type": "stream",
     "text": [
      "Дубликаты\n",
      " смартфон apple iphone xr 64gb       2\n",
      "смартфон samsung galaxy a30 32gb    2\n",
      "смартфон huawei p30 lite            1\n",
      "смартфон honor 8x 64gb              1\n",
      "смартфон xiaomi redmi 6a 16gb       1\n",
      "Name: item_lowercase, dtype: int64\n"
     ]
    }
   ],
   "source": [
    "print('Дубликаты\\n', stock['item_lowercase'].value_counts())"
   ]
  },
  {
   "cell_type": "markdown",
   "id": "3b05e6f0",
   "metadata": {},
   "source": [
    "#### 10. Сохраните количество телефонов Apple в переменной apple. Сохраните количество телефонов Samsung в переменной samsung"
   ]
  },
  {
   "cell_type": "code",
   "execution_count": 31,
   "id": "22ca4b7e",
   "metadata": {},
   "outputs": [],
   "source": [
    "apple = stock[stock['item_lowercase'] == 'смартфон apple iphone xr 64gb']['count'].sum() #29\n",
    "samsung = stock[stock['item_lowercase'] == 'смартфон samsung galaxy a30 32gb']['count'].sum() #60"
   ]
  },
  {
   "cell_type": "markdown",
   "id": "fc13d0c2",
   "metadata": {},
   "source": [
    "#### 11. Удалите дубликаты в столбце 'item_lowercase', «перезаписав» его. Удалите пропуски."
   ]
  },
  {
   "cell_type": "code",
   "execution_count": 34,
   "id": "c149c17e",
   "metadata": {},
   "outputs": [
    {
     "data": {
      "text/html": [
       "<div>\n",
       "<style scoped>\n",
       "    .dataframe tbody tr th:only-of-type {\n",
       "        vertical-align: middle;\n",
       "    }\n",
       "\n",
       "    .dataframe tbody tr th {\n",
       "        vertical-align: top;\n",
       "    }\n",
       "\n",
       "    .dataframe thead th {\n",
       "        text-align: right;\n",
       "    }\n",
       "</style>\n",
       "<table border=\"1\" class=\"dataframe\">\n",
       "  <thead>\n",
       "    <tr style=\"text-align: right;\">\n",
       "      <th></th>\n",
       "      <th>id</th>\n",
       "      <th>item</th>\n",
       "      <th>count</th>\n",
       "      <th>item_lowercase</th>\n",
       "    </tr>\n",
       "  </thead>\n",
       "  <tbody>\n",
       "    <tr>\n",
       "      <th>0</th>\n",
       "      <td>100480924</td>\n",
       "      <td>Смартфон Xiaomi Redmi 6A 16GB</td>\n",
       "      <td>44</td>\n",
       "      <td>смартфон xiaomi redmi 6a 16gb</td>\n",
       "    </tr>\n",
       "    <tr>\n",
       "      <th>1</th>\n",
       "      <td>100480938</td>\n",
       "      <td>Смартфон Samsung Galaxy A30 32GB</td>\n",
       "      <td>49</td>\n",
       "      <td>смартфон samsung galaxy a30 32gb</td>\n",
       "    </tr>\n",
       "    <tr>\n",
       "      <th>2</th>\n",
       "      <td>100480959</td>\n",
       "      <td>Смартфон HUAWEI P30 lite</td>\n",
       "      <td>38</td>\n",
       "      <td>смартфон huawei p30 lite</td>\n",
       "    </tr>\n",
       "    <tr>\n",
       "      <th>3</th>\n",
       "      <td>100480975</td>\n",
       "      <td>Смартфон Apple iPhone Xr 64gb</td>\n",
       "      <td>10</td>\n",
       "      <td>смартфон apple iphone xr 64gb</td>\n",
       "    </tr>\n",
       "    <tr>\n",
       "      <th>4</th>\n",
       "      <td>100480988</td>\n",
       "      <td>Смартфон Honor 8X 64GB</td>\n",
       "      <td>64</td>\n",
       "      <td>смартфон honor 8x 64gb</td>\n",
       "    </tr>\n",
       "  </tbody>\n",
       "</table>\n",
       "</div>"
      ],
      "text/plain": [
       "          id                              item  count  \\\n",
       "0  100480924     Смартфон Xiaomi Redmi 6A 16GB     44   \n",
       "1  100480938  Смартфон Samsung Galaxy A30 32GB     49   \n",
       "2  100480959          Смартфон HUAWEI P30 lite     38   \n",
       "3  100480975     Смартфон Apple iPhone Xr 64gb     10   \n",
       "4  100480988            Смартфон Honor 8X 64GB     64   \n",
       "\n",
       "                     item_lowercase  \n",
       "0     смартфон xiaomi redmi 6a 16gb  \n",
       "1  смартфон samsung galaxy a30 32gb  \n",
       "2          смартфон huawei p30 lite  \n",
       "3     смартфон apple iphone xr 64gb  \n",
       "4            смартфон honor 8x 64gb  "
      ]
     },
     "execution_count": 34,
     "metadata": {},
     "output_type": "execute_result"
    }
   ],
   "source": [
    "stock['item_lowercase'] = stock['item_lowercase'].drop_duplicates()\n",
    "stock = stock.dropna().reset_index(drop=True)\n",
    "stock"
   ]
  },
  {
   "cell_type": "markdown",
   "id": "8e9ecda6",
   "metadata": {},
   "source": [
    "#### 13. Замените количество телефонов Apple в таблице, т.е. значение в столбце 'count', на переменную apple.Замените количество телефонов Samsung в таблице — значение в столбце 'count' — на переменную samsung."
   ]
  },
  {
   "cell_type": "code",
   "execution_count": 35,
   "id": "9dd58c15",
   "metadata": {},
   "outputs": [
    {
     "data": {
      "text/html": [
       "<div>\n",
       "<style scoped>\n",
       "    .dataframe tbody tr th:only-of-type {\n",
       "        vertical-align: middle;\n",
       "    }\n",
       "\n",
       "    .dataframe tbody tr th {\n",
       "        vertical-align: top;\n",
       "    }\n",
       "\n",
       "    .dataframe thead th {\n",
       "        text-align: right;\n",
       "    }\n",
       "</style>\n",
       "<table border=\"1\" class=\"dataframe\">\n",
       "  <thead>\n",
       "    <tr style=\"text-align: right;\">\n",
       "      <th></th>\n",
       "      <th>id</th>\n",
       "      <th>item</th>\n",
       "      <th>count</th>\n",
       "      <th>item_lowercase</th>\n",
       "    </tr>\n",
       "  </thead>\n",
       "  <tbody>\n",
       "    <tr>\n",
       "      <th>0</th>\n",
       "      <td>100480924</td>\n",
       "      <td>Смартфон Xiaomi Redmi 6A 16GB</td>\n",
       "      <td>44</td>\n",
       "      <td>смартфон xiaomi redmi 6a 16gb</td>\n",
       "    </tr>\n",
       "    <tr>\n",
       "      <th>1</th>\n",
       "      <td>100480938</td>\n",
       "      <td>Смартфон Samsung Galaxy A30 32GB</td>\n",
       "      <td>60</td>\n",
       "      <td>смартфон samsung galaxy a30 32gb</td>\n",
       "    </tr>\n",
       "    <tr>\n",
       "      <th>2</th>\n",
       "      <td>100480959</td>\n",
       "      <td>Смартфон HUAWEI P30 lite</td>\n",
       "      <td>38</td>\n",
       "      <td>смартфон huawei p30 lite</td>\n",
       "    </tr>\n",
       "    <tr>\n",
       "      <th>3</th>\n",
       "      <td>100480975</td>\n",
       "      <td>Смартфон Apple iPhone Xr 64gb</td>\n",
       "      <td>29</td>\n",
       "      <td>смартфон apple iphone xr 64gb</td>\n",
       "    </tr>\n",
       "    <tr>\n",
       "      <th>4</th>\n",
       "      <td>100480988</td>\n",
       "      <td>Смартфон Honor 8X 64GB</td>\n",
       "      <td>64</td>\n",
       "      <td>смартфон honor 8x 64gb</td>\n",
       "    </tr>\n",
       "  </tbody>\n",
       "</table>\n",
       "</div>"
      ],
      "text/plain": [
       "          id                              item  count  \\\n",
       "0  100480924     Смартфон Xiaomi Redmi 6A 16GB     44   \n",
       "1  100480938  Смартфон Samsung Galaxy A30 32GB     60   \n",
       "2  100480959          Смартфон HUAWEI P30 lite     38   \n",
       "3  100480975     Смартфон Apple iPhone Xr 64gb     29   \n",
       "4  100480988            Смартфон Honor 8X 64GB     64   \n",
       "\n",
       "                     item_lowercase  \n",
       "0     смартфон xiaomi redmi 6a 16gb  \n",
       "1  смартфон samsung galaxy a30 32gb  \n",
       "2          смартфон huawei p30 lite  \n",
       "3     смартфон apple iphone xr 64gb  \n",
       "4            смартфон honor 8x 64gb  "
      ]
     },
     "execution_count": 35,
     "metadata": {},
     "output_type": "execute_result"
    }
   ],
   "source": [
    "stock.loc[1, 'count'] = samsung\n",
    "stock.loc[3, 'count'] = apple\n",
    "\n",
    "stock"
   ]
  }
 ],
 "metadata": {
  "kernelspec": {
   "display_name": "Python 3",
   "language": "python",
   "name": "python3"
  },
  "language_info": {
   "codemirror_mode": {
    "name": "ipython",
    "version": 3
   },
   "file_extension": ".py",
   "mimetype": "text/x-python",
   "name": "python",
   "nbconvert_exporter": "python",
   "pygments_lexer": "ipython3",
   "version": "3.8.8"
  }
 },
 "nbformat": 4,
 "nbformat_minor": 5
}
